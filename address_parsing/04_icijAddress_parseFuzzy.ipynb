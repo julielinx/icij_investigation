{
 "cells": [
  {
   "cell_type": "markdown",
   "id": "a2413d43-97e1-48ae-b22e-3690f6f0ffa3",
   "metadata": {},
   "source": [
    "# NLP 08: Parse with Fuzzy Matches"
   ]
  },
  {
   "cell_type": "code",
   "execution_count": 2,
   "id": "fb1b14f6-fb67-4e6c-a67f-d107168abb0a",
   "metadata": {
    "scrolled": true
   },
   "outputs": [],
   "source": [
    "import numpy as np\n",
    "import pandas as pd\n",
    "import matplotlib.pyplot as plt\n",
    "from IPython.display import display\n",
    "from time import gmtime, strftime\n",
    "import sys\n",
    "import os\n",
    "import io\n",
    "\n",
    "import string\n",
    "import re\n",
    "# import itertools\n",
    "# import nltk\n",
    "# nltk.download('stopwords')\n",
    "\n",
    "from fuzzywuzzy import fuzz\n",
    "from fuzzywuzzy import process\n",
    "from rapidfuzz import fuzz as rfuzz\n",
    "import jaro"
   ]
  },
  {
   "cell_type": "code",
   "execution_count": 11,
   "id": "1b56813b-25a2-45c3-b0da-3256be2840b3",
   "metadata": {
    "scrolled": true
   },
   "outputs": [],
   "source": [
    "def frequency_ct(ngram_list):\n",
    "    freq_dict = {}\n",
    "    for ngram in ngram_list:\n",
    "        if ngram not in freq_dict:\n",
    "            freq_dict[ngram] = 0\n",
    "        freq_dict[ngram] +=1\n",
    "    return freq_dict\n",
    "\n",
    "def calc_fuzz_df(df, column):\n",
    "    row_list = []\n",
    "    \n",
    "    for o_i, o_v in enumerate(df[column].sort_index()):\n",
    "        for m_i, m_v in enumerate(df[column].sort_index()):\n",
    "            if o_i != m_i:\n",
    "                dict1 = {\n",
    "                    'original_index': o_i,\n",
    "                    'original_value': o_v,\n",
    "                    'match_index': m_i,\n",
    "                    'match_value': m_v,\n",
    "                    'ratio_score': rfuzz.ratio(o_v, m_v),\n",
    "                    'partial_ratio_score': rfuzz.partial_ratio(o_v, m_v),\n",
    "                    'token_sort_score': rfuzz.token_sort_ratio(o_v, m_v),\n",
    "                    'token_set_score': rfuzz.token_set_ratio(o_v, m_v),\n",
    "                    'jaro_winkler_score': jaro.jaro_winkler_metric(o_v, m_v)\n",
    "                }\n",
    "                if (dict1['ratio_score']>60) | (dict1['partial_ratio_score']>60) | (dict1['token_sort_score']>60) | (dict1['token_set_score']>60) | (dict1['jaro_winkler_score']>0.6):\n",
    "                    row_list.append(dict1)\n",
    "    score_df = pd.DataFrame(row_list)\n",
    "        \n",
    "    return score_df"
   ]
  },
  {
   "cell_type": "code",
   "execution_count": 88,
   "id": "665beaea-87d4-4033-8f16-0eec86f3cd7f",
   "metadata": {
    "scrolled": true
   },
   "outputs": [],
   "source": [
    "df = pd.read_csv('data/parsed_bahamas_addresses.csv')\n",
    "\n",
    "df['address_wordlist'] = df['working_address'].fillna('').str.split()\n",
    "\n",
    "freq_df = pd.DataFrame.from_dict(\n",
    "    frequency_ct(df['address_wordlist'].sum()\n",
    "                ), orient='index').reset_index().rename(\n",
    "    columns={'index':'word', 0:'count'}).sort_values('count', ascending=False)"
   ]
  },
  {
   "cell_type": "code",
   "execution_count": 5,
   "id": "d16e6fa4-3579-444d-a35d-e81603d44b1a",
   "metadata": {},
   "outputs": [
    {
     "data": {
      "text/html": [
       "<div>\n",
       "<style scoped>\n",
       "    .dataframe tbody tr th:only-of-type {\n",
       "        vertical-align: middle;\n",
       "    }\n",
       "\n",
       "    .dataframe tbody tr th {\n",
       "        vertical-align: top;\n",
       "    }\n",
       "\n",
       "    .dataframe thead th {\n",
       "        text-align: right;\n",
       "    }\n",
       "</style>\n",
       "<table border=\"1\" class=\"dataframe\">\n",
       "  <thead>\n",
       "    <tr style=\"text-align: right;\">\n",
       "      <th></th>\n",
       "      <th>word</th>\n",
       "      <th>count</th>\n",
       "    </tr>\n",
       "  </thead>\n",
       "  <tbody>\n",
       "    <tr>\n",
       "      <th>9</th>\n",
       "      <td>bahamas</td>\n",
       "      <td>2324</td>\n",
       "    </tr>\n",
       "    <tr>\n",
       "      <th>8</th>\n",
       "      <td>nassau</td>\n",
       "      <td>2043</td>\n",
       "    </tr>\n",
       "    <tr>\n",
       "      <th>6</th>\n",
       "      <td>box</td>\n",
       "      <td>1484</td>\n",
       "    </tr>\n",
       "    <tr>\n",
       "      <th>5</th>\n",
       "      <td>po</td>\n",
       "      <td>1430</td>\n",
       "    </tr>\n",
       "    <tr>\n",
       "      <th>4</th>\n",
       "      <td>street</td>\n",
       "      <td>1128</td>\n",
       "    </tr>\n",
       "    <tr>\n",
       "      <th>2</th>\n",
       "      <td>and</td>\n",
       "      <td>627</td>\n",
       "    </tr>\n",
       "    <tr>\n",
       "      <th>3</th>\n",
       "      <td>shirley</td>\n",
       "      <td>489</td>\n",
       "    </tr>\n",
       "    <tr>\n",
       "      <th>10</th>\n",
       "      <td>suite</td>\n",
       "      <td>447</td>\n",
       "    </tr>\n",
       "    <tr>\n",
       "      <th>34</th>\n",
       "      <td>bay</td>\n",
       "      <td>431</td>\n",
       "    </tr>\n",
       "    <tr>\n",
       "      <th>14</th>\n",
       "      <td>building</td>\n",
       "      <td>329</td>\n",
       "    </tr>\n",
       "  </tbody>\n",
       "</table>\n",
       "</div>"
      ],
      "text/plain": [
       "        word  count\n",
       "9    bahamas   2324\n",
       "8     nassau   2043\n",
       "6        box   1484\n",
       "5         po   1430\n",
       "4     street   1128\n",
       "2        and    627\n",
       "3    shirley    489\n",
       "10     suite    447\n",
       "34       bay    431\n",
       "14  building    329"
      ]
     },
     "execution_count": 5,
     "metadata": {},
     "output_type": "execute_result"
    }
   ],
   "source": [
    "freq_df.head(10)"
   ]
  },
  {
   "cell_type": "code",
   "execution_count": 12,
   "id": "57da73fc-42b1-4b53-9e04-97dd8cc1ded5",
   "metadata": {},
   "outputs": [],
   "source": [
    "fuzzy_words_df = calc_fuzz_df(freq_df, 'word')\n",
    "fuzzy_words_df['jaro_winkler_score'] = fuzzy_words_df['jaro_winkler_score']*100"
   ]
  },
  {
   "cell_type": "markdown",
   "id": "b0b6a7fc-c4a5-4bf5-bee3-88d20c52c407",
   "metadata": {},
   "source": [
    "#### Cities\n",
    "\n",
    "- Nassau\n",
    "- Freeport\n",
    "- Marsh Harbour\n",
    "- Governor's Harbour\n",
    "- Windermere island\n",
    "- Harbour Island\n",
    "- Elbow Cay\n",
    "- Treasure Cay\n",
    "- Gregory Town\n",
    "- Spanish Wells\n",
    "\n",
    "#### Islands\n",
    "\n",
    "- New Providence\n",
    "- Paradise Island\n",
    "- Grand Bahama\n",
    "- Abaco\n",
    "- Eleuthera\n",
    "- Grand Island\n",
    "- South Andros"
   ]
  },
  {
   "cell_type": "code",
   "execution_count": 77,
   "id": "221dce53-78c4-480c-bfff-259cb14821d8",
   "metadata": {},
   "outputs": [
    {
     "data": {
      "text/plain": [
       "bahamas       2043\n",
       "bahama          66\n",
       "nassau          54\n",
       "freeport         5\n",
       "street           5\n",
       "bahmas           5\n",
       "bahams           5\n",
       "i                4\n",
       "providence       3\n",
       "centre           3\n",
       "343              3\n",
       "lane             3\n",
       "kelty            2\n",
       "bahamas1         2\n",
       "kln              2\n",
       "2423527291       2\n",
       "bhs              2\n",
       "abaco            2\n",
       "isle             1\n",
       "esquare          1\n",
       "Name: address_wordlist, dtype: int64"
      ]
     },
     "execution_count": 77,
     "metadata": {},
     "output_type": "execute_result"
    }
   ],
   "source": [
    "df['address_wordlist'].apply(lambda x: x[-1]).value_counts()[:20]"
   ]
  },
  {
   "cell_type": "code",
   "execution_count": 96,
   "id": "6e2492a6-3e6d-48d3-8396-b5f9159b3eb3",
   "metadata": {},
   "outputs": [
    {
     "data": {
      "text/plain": [
       "bahamas       2043\n",
       "bahama          66\n",
       "nassau          54\n",
       "freeport         5\n",
       "street           5\n",
       "bahmas           5\n",
       "bahams           5\n",
       "i                4\n",
       "providence       3\n",
       "centre           3\n",
       "343              3\n",
       "lane             3\n",
       "kelty            2\n",
       "bahamas1         2\n",
       "kln              2\n",
       "2423527291       2\n",
       "bhs              2\n",
       "abaco            2\n",
       "isle             1\n",
       "esquare          1\n",
       "Name: address_wordlist, dtype: int64"
      ]
     },
     "execution_count": 96,
     "metadata": {},
     "output_type": "execute_result"
    }
   ],
   "source": [
    "df['address_wordlist'].str[-1].value_counts()[:20]"
   ]
  },
  {
   "cell_type": "code",
   "execution_count": 25,
   "id": "d9252e5a-b816-4252-b9b0-1bd21b8a8918",
   "metadata": {},
   "outputs": [
    {
     "data": {
      "text/plain": [
       "['bahamasc',\n",
       " 'bahamas1',\n",
       " 'bahamaas',\n",
       " 'bahamas6',\n",
       " 'bahamasa',\n",
       " 'abahamas',\n",
       " 'bahama',\n",
       " 'bahams',\n",
       " 'bhamas',\n",
       " 'bahmas',\n",
       " 'ahamas',\n",
       " 'bahamaspo',\n",
       " 'bahaams',\n",
       " 'bahanas',\n",
       " 'brahmas',\n",
       " 'baham',\n",
       " 'hamas']"
      ]
     },
     "execution_count": 25,
     "metadata": {},
     "output_type": "execute_result"
    }
   ],
   "source": [
    "bah_fuzz_list = fuzzy_words_df[(fuzzy_words_df['original_value']=='bahamas') & (fuzzy_words_df['ratio_score']>75)].sort_values(['ratio_score', 'original_value'], ascending=False)['match_value'].to_list()\n",
    "bah_fuzz_list"
   ]
  },
  {
   "cell_type": "code",
   "execution_count": 52,
   "id": "842d834a-0865-4f23-a8b2-114a45c65cd5",
   "metadata": {},
   "outputs": [
    {
     "data": {
      "text/plain": [
       "['abahamas',\n",
       " 'bahaams',\n",
       " 'bahamaas',\n",
       " 'bahamas',\n",
       " 'bahamas1',\n",
       " 'bahamas6',\n",
       " 'bahamasa',\n",
       " 'bahamasc',\n",
       " 'bahams',\n",
       " 'bahanas',\n",
       " 'bahmas',\n",
       " 'bhamas']"
      ]
     },
     "execution_count": 52,
     "metadata": {},
     "output_type": "execute_result"
    }
   ],
   "source": [
    "bah_reg_list = pd.DataFrame(df.loc[df['working_address'].str.contains('br?a?h\\w+s\\w*\\d?$', regex=True), 'address_wordlist'].apply(lambda x: x[-1]).value_counts()).reset_index().sort_values('index')['index'].to_list()\n",
    "bah_reg_list"
   ]
  },
  {
   "cell_type": "code",
   "execution_count": 39,
   "id": "5d923458-a638-47df-922b-b37756e3a8a3",
   "metadata": {},
   "outputs": [
    {
     "data": {
      "text/plain": [
       "{'ahamas', 'baham', 'bahamaspo', 'brahmas', 'hamas'}"
      ]
     },
     "execution_count": 39,
     "metadata": {},
     "output_type": "execute_result"
    }
   ],
   "source": [
    "set(bah_fuzz_list) - set(bah_reg_list)"
   ]
  },
  {
   "cell_type": "code",
   "execution_count": 53,
   "id": "59c25aa0-1b1a-463e-8f29-73e512924d2c",
   "metadata": {},
   "outputs": [
    {
     "data": {
      "text/plain": [
       "{'ahamas', 'baham', 'bahama', 'bahamaspo', 'brahmas', 'hamas'}"
      ]
     },
     "execution_count": 53,
     "metadata": {},
     "output_type": "execute_result"
    }
   ],
   "source": [
    "set(bah_fuzz_list) - set(bah_reg_list)"
   ]
  },
  {
   "cell_type": "code",
   "execution_count": 54,
   "id": "46e201d1-cffb-4ad3-a2ab-36b2b35090ce",
   "metadata": {},
   "outputs": [
    {
     "data": {
      "text/plain": [
       "{'bahamas'}"
      ]
     },
     "execution_count": 54,
     "metadata": {},
     "output_type": "execute_result"
    }
   ],
   "source": [
    "set(bah_reg_list) - set(bah_fuzz_list) "
   ]
  },
  {
   "cell_type": "code",
   "execution_count": 59,
   "id": "4aecb59d-1525-432b-828d-f4045e00ef85",
   "metadata": {},
   "outputs": [],
   "source": [
    "pd.set_option('display.max_colwidth', 1000)"
   ]
  },
  {
   "cell_type": "code",
   "execution_count": 65,
   "id": "5b6e3b4e-c058-4fb8-9e04-89530a9d1a51",
   "metadata": {},
   "outputs": [
    {
     "data": {
      "text/plain": [
       "0                                                                                    [annex, frederick, and, shirley, street, po, box, n4805, nassau, bahamas]\n",
       "1                                                                                         [suite, e2, union, court, building, po, box, n8188, nassau, bahamas]\n",
       "2                                                                                           [lyford, cay, house, lyford, cay, po, box, n7785, nassau, bahamas]\n",
       "3                                               [po, box, n3708, bahamas, financial, centre, po, box, n3708, shirley, and, charlotte, street, nassau, bahamas]\n",
       "4                                                                             [lyford, cay, house, third, floor, lyford, cay, po, box, n3024, nassau, bahamas]\n",
       "                                                                                 ...                                                                          \n",
       "2253                                                                            [j, p, morgan, trust, company, bahamas, limited, nassau, n, 4899, zh, bahamas]\n",
       "2254                                                                        [montagne, sterline, centre, east, bav, street, nassau, country, bahamas, bahamas]\n",
       "2255                                                                                             [deltec, house, lyford, cay, po, box, n3229, nassau, bahamas]\n",
       "2256                                                           [providence, house, hast, wing, east, hill, street, po, box, cb12399, nassau, cb12399, bahamas]\n",
       "2257    [coj, p, morgan, trust, company, bahamas, limited, bahamas, financial, center, 2ntl, floor, shirley, and, charlotte, street, nassau, n, 4899, bahamas]\n",
       "Name: address_wordlist, Length: 2063, dtype: object"
      ]
     },
     "execution_count": 65,
     "metadata": {},
     "output_type": "execute_result"
    }
   ],
   "source": [
    "df.loc[df['address_wordlist'].apply(lambda x: x[-1] in bah_reg_list + ['brahmas', 'hamas']), 'address_wordlist']"
   ]
  },
  {
   "cell_type": "code",
   "execution_count": 64,
   "id": "b57e3de0-d0d0-45e3-8a65-0efdb2a53cb9",
   "metadata": {},
   "outputs": [
    {
     "data": {
      "text/plain": [
       "0                                                                                    [annex, frederick, and, shirley, street, po, box, n4805, nassau]\n",
       "1                                                                                         [suite, e2, union, court, building, po, box, n8188, nassau]\n",
       "2                                                                                           [lyford, cay, house, lyford, cay, po, box, n7785, nassau]\n",
       "3                                               [po, box, n3708, bahamas, financial, centre, po, box, n3708, shirley, and, charlotte, street, nassau]\n",
       "4                                                                             [lyford, cay, house, third, floor, lyford, cay, po, box, n3024, nassau]\n",
       "                                                                            ...                                                                      \n",
       "2253                                                                            [j, p, morgan, trust, company, bahamas, limited, nassau, n, 4899, zh]\n",
       "2254                                                                        [montagne, sterline, centre, east, bav, street, nassau, country, bahamas]\n",
       "2255                                                                                             [deltec, house, lyford, cay, po, box, n3229, nassau]\n",
       "2256                                                           [providence, house, hast, wing, east, hill, street, po, box, cb12399, nassau, cb12399]\n",
       "2257    [coj, p, morgan, trust, company, bahamas, limited, bahamas, financial, center, 2ntl, floor, shirley, and, charlotte, street, nassau, n, 4899]\n",
       "Name: address_wordlist, Length: 2063, dtype: object"
      ]
     },
     "execution_count": 64,
     "metadata": {},
     "output_type": "execute_result"
    }
   ],
   "source": [
    "df.loc[df['address_wordlist'].apply(lambda x: x[-1] in bah_reg_list + ['brahmas', 'hamas']), 'address_wordlist'].apply(lambda x: x[:-1])"
   ]
  },
  {
   "cell_type": "code",
   "execution_count": 78,
   "id": "1d89b710-d5fe-4e19-9443-78a3ceb572c2",
   "metadata": {},
   "outputs": [
    {
     "data": {
      "text/plain": [
       "0       bahamas\n",
       "1       bahamas\n",
       "2       bahamas\n",
       "3       bahamas\n",
       "4       bahamas\n",
       "         ...   \n",
       "2253    bahamas\n",
       "2254    bahamas\n",
       "2255    bahamas\n",
       "2256    bahamas\n",
       "2257    bahamas\n",
       "Name: address_wordlist, Length: 2063, dtype: object"
      ]
     },
     "execution_count": 78,
     "metadata": {},
     "output_type": "execute_result"
    }
   ],
   "source": [
    "df.loc[df['address_wordlist'].apply(lambda x: x[-1] in bah_reg_list + ['brahmas', 'hamas']), 'address_wordlist'].apply(lambda x: x.pop())"
   ]
  },
  {
   "cell_type": "code",
   "execution_count": 79,
   "id": "3f7ba02b-0370-4092-bdcd-27ef92c6fe4b",
   "metadata": {},
   "outputs": [
    {
     "data": {
      "text/html": [
       "<div>\n",
       "<style scoped>\n",
       "    .dataframe tbody tr th:only-of-type {\n",
       "        vertical-align: middle;\n",
       "    }\n",
       "\n",
       "    .dataframe tbody tr th {\n",
       "        vertical-align: top;\n",
       "    }\n",
       "\n",
       "    .dataframe thead th {\n",
       "        text-align: right;\n",
       "    }\n",
       "</style>\n",
       "<table border=\"1\" class=\"dataframe\">\n",
       "  <thead>\n",
       "    <tr style=\"text-align: right;\">\n",
       "      <th></th>\n",
       "      <th>node_id</th>\n",
       "      <th>address</th>\n",
       "      <th>name</th>\n",
       "      <th>countries</th>\n",
       "      <th>country_codes</th>\n",
       "      <th>sourceID</th>\n",
       "      <th>valid_until</th>\n",
       "      <th>note</th>\n",
       "      <th>working_address</th>\n",
       "      <th>address_wordlist</th>\n",
       "    </tr>\n",
       "  </thead>\n",
       "  <tbody>\n",
       "    <tr>\n",
       "      <th>0</th>\n",
       "      <td>24000001</td>\n",
       "      <td>ANNEX FREDERICK &amp; SHIRLEY STS, P.O. BOX N-4805, NASSAU, BAHAMAS</td>\n",
       "      <td>NaN</td>\n",
       "      <td>Bahamas</td>\n",
       "      <td>BHS</td>\n",
       "      <td>Bahamas Leaks</td>\n",
       "      <td>The Bahamas Leaks data is current through early 2016.</td>\n",
       "      <td>NaN</td>\n",
       "      <td>annex frederick and shirley street po box n4805 nassau bahamas</td>\n",
       "      <td>[annex, frederick, and, shirley, street, po, box, n4805, nassau]</td>\n",
       "    </tr>\n",
       "    <tr>\n",
       "      <th>1</th>\n",
       "      <td>24000002</td>\n",
       "      <td>SUITE E-2,UNION COURT BUILDING, P.O. BOX N-8188, NASSAU, BAHAMAS</td>\n",
       "      <td>NaN</td>\n",
       "      <td>Bahamas</td>\n",
       "      <td>BHS</td>\n",
       "      <td>Bahamas Leaks</td>\n",
       "      <td>The Bahamas Leaks data is current through early 2016.</td>\n",
       "      <td>NaN</td>\n",
       "      <td>suite e2 union court building po box n8188 nassau bahamas</td>\n",
       "      <td>[suite, e2, union, court, building, po, box, n8188, nassau]</td>\n",
       "    </tr>\n",
       "    <tr>\n",
       "      <th>2</th>\n",
       "      <td>24000003</td>\n",
       "      <td>LYFORD CAY HOUSE, LYFORD CAY, P.O. BOX N-7785, NASSAU, BAHAMAS</td>\n",
       "      <td>NaN</td>\n",
       "      <td>Bahamas</td>\n",
       "      <td>BHS</td>\n",
       "      <td>Bahamas Leaks</td>\n",
       "      <td>The Bahamas Leaks data is current through early 2016.</td>\n",
       "      <td>NaN</td>\n",
       "      <td>lyford cay house lyford cay po box n7785 nassau bahamas</td>\n",
       "      <td>[lyford, cay, house, lyford, cay, po, box, n7785, nassau]</td>\n",
       "    </tr>\n",
       "    <tr>\n",
       "      <th>3</th>\n",
       "      <td>24000004</td>\n",
       "      <td>P.O. BOX N-3708 BAHAMAS FINANCIAL CENTRE, P.O. BOX N-3708 SHIRLEY &amp; CHARLOTTE STS, NASSAU, BAHAMAS</td>\n",
       "      <td>NaN</td>\n",
       "      <td>Bahamas</td>\n",
       "      <td>BHS</td>\n",
       "      <td>Bahamas Leaks</td>\n",
       "      <td>The Bahamas Leaks data is current through early 2016.</td>\n",
       "      <td>NaN</td>\n",
       "      <td>po box n3708 bahamas financial centre po box n3708 shirley and charlotte street nassau bahamas</td>\n",
       "      <td>[po, box, n3708, bahamas, financial, centre, po, box, n3708, shirley, and, charlotte, street, nassau]</td>\n",
       "    </tr>\n",
       "    <tr>\n",
       "      <th>4</th>\n",
       "      <td>24000005</td>\n",
       "      <td>LYFORD CAY HOUSE, 3RD FLOOR, LYFORD CAY, P.O. BOX N-3024, NASSAU, BAHAMAS</td>\n",
       "      <td>NaN</td>\n",
       "      <td>Bahamas</td>\n",
       "      <td>BHS</td>\n",
       "      <td>Bahamas Leaks</td>\n",
       "      <td>The Bahamas Leaks data is current through early 2016.</td>\n",
       "      <td>NaN</td>\n",
       "      <td>lyford cay house third floor lyford cay po box n3024 nassau bahamas</td>\n",
       "      <td>[lyford, cay, house, third, floor, lyford, cay, po, box, n3024, nassau]</td>\n",
       "    </tr>\n",
       "    <tr>\n",
       "      <th>...</th>\n",
       "      <td>...</td>\n",
       "      <td>...</td>\n",
       "      <td>...</td>\n",
       "      <td>...</td>\n",
       "      <td>...</td>\n",
       "      <td>...</td>\n",
       "      <td>...</td>\n",
       "      <td>...</td>\n",
       "      <td>...</td>\n",
       "      <td>...</td>\n",
       "    </tr>\n",
       "    <tr>\n",
       "      <th>2253</th>\n",
       "      <td>240492525</td>\n",
       "      <td>J.P.MORGAN TRUST COMPANY (BAHAMAS) LIMITED, NASSAU, N-4899, ZH, BAHAMAS</td>\n",
       "      <td>NaN</td>\n",
       "      <td>Bahamas</td>\n",
       "      <td>BHS</td>\n",
       "      <td>Pandora Papers - Trident Trust</td>\n",
       "      <td>Provider data is current through 2016</td>\n",
       "      <td>NaN</td>\n",
       "      <td>j p morgan trust company bahamas limited nassau n 4899 zh bahamas</td>\n",
       "      <td>[j, p, morgan, trust, company, bahamas, limited, nassau, n, 4899, zh]</td>\n",
       "    </tr>\n",
       "    <tr>\n",
       "      <th>2254</th>\n",
       "      <td>240492536</td>\n",
       "      <td>MONTAGNE STERLINE CENTRE. EAST BAV STREET, NASSAU, COUNTRY BAHAMAS, BAHAMAS</td>\n",
       "      <td>NaN</td>\n",
       "      <td>Bahamas</td>\n",
       "      <td>BHS</td>\n",
       "      <td>Pandora Papers - Trident Trust</td>\n",
       "      <td>Provider data is current through 2016</td>\n",
       "      <td>NaN</td>\n",
       "      <td>montagne sterline centre east bav street nassau country bahamas bahamas</td>\n",
       "      <td>[montagne, sterline, centre, east, bav, street, nassau, country, bahamas]</td>\n",
       "    </tr>\n",
       "    <tr>\n",
       "      <th>2255</th>\n",
       "      <td>240491733</td>\n",
       "      <td>DELTEC HOUSE, LYFORD CAY, PO BOX N-3229, NASSAU, BAHAMAS</td>\n",
       "      <td>NaN</td>\n",
       "      <td>Bahamas</td>\n",
       "      <td>BHS</td>\n",
       "      <td>Pandora Papers - Trident Trust</td>\n",
       "      <td>Provider data is current through 2016</td>\n",
       "      <td>NaN</td>\n",
       "      <td>deltec house lyford cay po box n3229 nassau bahamas</td>\n",
       "      <td>[deltec, house, lyford, cay, po, box, n3229, nassau]</td>\n",
       "    </tr>\n",
       "    <tr>\n",
       "      <th>2256</th>\n",
       "      <td>240491778</td>\n",
       "      <td>PROVIDENCE HOUSE, HAST WING, EAST HILL STREET, P.O. BOX CB-12399, NASSAU, CB-12399, BAHAMAS</td>\n",
       "      <td>NaN</td>\n",
       "      <td>Bahamas</td>\n",
       "      <td>BHS</td>\n",
       "      <td>Pandora Papers - Trident Trust</td>\n",
       "      <td>Provider data is current through 2016</td>\n",
       "      <td>NaN</td>\n",
       "      <td>providence house hast wing east hill street po box cb12399 nassau cb12399 bahamas</td>\n",
       "      <td>[providence, house, hast, wing, east, hill, street, po, box, cb12399, nassau, cb12399]</td>\n",
       "    </tr>\n",
       "    <tr>\n",
       "      <th>2257</th>\n",
       "      <td>240491892</td>\n",
       "      <td>C/OJ.P. MORGAN TRUST COMPANY (BAHAMAS) LIMITED, BAHAMAS FINANCIAL CENTER 2NTL FLOOR, SHIRLEY AND CHARLOTTE STREETS, NASSAU, N-4899, BAHAMAS</td>\n",
       "      <td>NaN</td>\n",
       "      <td>Bahamas</td>\n",
       "      <td>BHS</td>\n",
       "      <td>Pandora Papers - Trident Trust</td>\n",
       "      <td>Provider data is current through 2017</td>\n",
       "      <td>NaN</td>\n",
       "      <td>coj p morgan trust company bahamas limited bahamas financial center 2ntl floor shirley and charlotte street nassau n 4899 bahamas</td>\n",
       "      <td>[coj, p, morgan, trust, company, bahamas, limited, bahamas, financial, center, 2ntl, floor, shirley, and, charlotte, street, nassau, n, 4899]</td>\n",
       "    </tr>\n",
       "  </tbody>\n",
       "</table>\n",
       "<p>2258 rows × 10 columns</p>\n",
       "</div>"
      ],
      "text/plain": [
       "        node_id  \\\n",
       "0      24000001   \n",
       "1      24000002   \n",
       "2      24000003   \n",
       "3      24000004   \n",
       "4      24000005   \n",
       "...         ...   \n",
       "2253  240492525   \n",
       "2254  240492536   \n",
       "2255  240491733   \n",
       "2256  240491778   \n",
       "2257  240491892   \n",
       "\n",
       "                                                                                                                                          address  \\\n",
       "0                                                                                 ANNEX FREDERICK & SHIRLEY STS, P.O. BOX N-4805, NASSAU, BAHAMAS   \n",
       "1                                                                                SUITE E-2,UNION COURT BUILDING, P.O. BOX N-8188, NASSAU, BAHAMAS   \n",
       "2                                                                                  LYFORD CAY HOUSE, LYFORD CAY, P.O. BOX N-7785, NASSAU, BAHAMAS   \n",
       "3                                              P.O. BOX N-3708 BAHAMAS FINANCIAL CENTRE, P.O. BOX N-3708 SHIRLEY & CHARLOTTE STS, NASSAU, BAHAMAS   \n",
       "4                                                                       LYFORD CAY HOUSE, 3RD FLOOR, LYFORD CAY, P.O. BOX N-3024, NASSAU, BAHAMAS   \n",
       "...                                                                                                                                           ...   \n",
       "2253                                                                      J.P.MORGAN TRUST COMPANY (BAHAMAS) LIMITED, NASSAU, N-4899, ZH, BAHAMAS   \n",
       "2254                                                                  MONTAGNE STERLINE CENTRE. EAST BAV STREET, NASSAU, COUNTRY BAHAMAS, BAHAMAS   \n",
       "2255                                                                                     DELTEC HOUSE, LYFORD CAY, PO BOX N-3229, NASSAU, BAHAMAS   \n",
       "2256                                                  PROVIDENCE HOUSE, HAST WING, EAST HILL STREET, P.O. BOX CB-12399, NASSAU, CB-12399, BAHAMAS   \n",
       "2257  C/OJ.P. MORGAN TRUST COMPANY (BAHAMAS) LIMITED, BAHAMAS FINANCIAL CENTER 2NTL FLOOR, SHIRLEY AND CHARLOTTE STREETS, NASSAU, N-4899, BAHAMAS   \n",
       "\n",
       "     name countries country_codes                        sourceID  \\\n",
       "0     NaN   Bahamas           BHS                   Bahamas Leaks   \n",
       "1     NaN   Bahamas           BHS                   Bahamas Leaks   \n",
       "2     NaN   Bahamas           BHS                   Bahamas Leaks   \n",
       "3     NaN   Bahamas           BHS                   Bahamas Leaks   \n",
       "4     NaN   Bahamas           BHS                   Bahamas Leaks   \n",
       "...   ...       ...           ...                             ...   \n",
       "2253  NaN   Bahamas           BHS  Pandora Papers - Trident Trust   \n",
       "2254  NaN   Bahamas           BHS  Pandora Papers - Trident Trust   \n",
       "2255  NaN   Bahamas           BHS  Pandora Papers - Trident Trust   \n",
       "2256  NaN   Bahamas           BHS  Pandora Papers - Trident Trust   \n",
       "2257  NaN   Bahamas           BHS  Pandora Papers - Trident Trust   \n",
       "\n",
       "                                                valid_until note  \\\n",
       "0     The Bahamas Leaks data is current through early 2016.  NaN   \n",
       "1     The Bahamas Leaks data is current through early 2016.  NaN   \n",
       "2     The Bahamas Leaks data is current through early 2016.  NaN   \n",
       "3     The Bahamas Leaks data is current through early 2016.  NaN   \n",
       "4     The Bahamas Leaks data is current through early 2016.  NaN   \n",
       "...                                                     ...  ...   \n",
       "2253                  Provider data is current through 2016  NaN   \n",
       "2254                  Provider data is current through 2016  NaN   \n",
       "2255                  Provider data is current through 2016  NaN   \n",
       "2256                  Provider data is current through 2016  NaN   \n",
       "2257                  Provider data is current through 2017  NaN   \n",
       "\n",
       "                                                                                                                        working_address  \\\n",
       "0                                                                        annex frederick and shirley street po box n4805 nassau bahamas   \n",
       "1                                                                             suite e2 union court building po box n8188 nassau bahamas   \n",
       "2                                                                               lyford cay house lyford cay po box n7785 nassau bahamas   \n",
       "3                                        po box n3708 bahamas financial centre po box n3708 shirley and charlotte street nassau bahamas   \n",
       "4                                                                   lyford cay house third floor lyford cay po box n3024 nassau bahamas   \n",
       "...                                                                                                                                 ...   \n",
       "2253                                                                  j p morgan trust company bahamas limited nassau n 4899 zh bahamas   \n",
       "2254                                                            montagne sterline centre east bav street nassau country bahamas bahamas   \n",
       "2255                                                                                deltec house lyford cay po box n3229 nassau bahamas   \n",
       "2256                                                  providence house hast wing east hill street po box cb12399 nassau cb12399 bahamas   \n",
       "2257  coj p morgan trust company bahamas limited bahamas financial center 2ntl floor shirley and charlotte street nassau n 4899 bahamas   \n",
       "\n",
       "                                                                                                                                   address_wordlist  \n",
       "0                                                                                  [annex, frederick, and, shirley, street, po, box, n4805, nassau]  \n",
       "1                                                                                       [suite, e2, union, court, building, po, box, n8188, nassau]  \n",
       "2                                                                                         [lyford, cay, house, lyford, cay, po, box, n7785, nassau]  \n",
       "3                                             [po, box, n3708, bahamas, financial, centre, po, box, n3708, shirley, and, charlotte, street, nassau]  \n",
       "4                                                                           [lyford, cay, house, third, floor, lyford, cay, po, box, n3024, nassau]  \n",
       "...                                                                                                                                             ...  \n",
       "2253                                                                          [j, p, morgan, trust, company, bahamas, limited, nassau, n, 4899, zh]  \n",
       "2254                                                                      [montagne, sterline, centre, east, bav, street, nassau, country, bahamas]  \n",
       "2255                                                                                           [deltec, house, lyford, cay, po, box, n3229, nassau]  \n",
       "2256                                                         [providence, house, hast, wing, east, hill, street, po, box, cb12399, nassau, cb12399]  \n",
       "2257  [coj, p, morgan, trust, company, bahamas, limited, bahamas, financial, center, 2ntl, floor, shirley, and, charlotte, street, nassau, n, 4899]  \n",
       "\n",
       "[2258 rows x 10 columns]"
      ]
     },
     "execution_count": 79,
     "metadata": {},
     "output_type": "execute_result"
    }
   ],
   "source": [
    "df"
   ]
  },
  {
   "cell_type": "code",
   "execution_count": 93,
   "id": "f36da49e-36a0-4426-b235-868bf3849fcf",
   "metadata": {},
   "outputs": [
    {
     "data": {
      "text/plain": [
       "bahamas     1957\n",
       "bahams         5\n",
       "bahmas         5\n",
       "bahamas1       2\n",
       "bhamas         1\n",
       "bahamasc       1\n",
       "bahaams        1\n",
       "bahamaas       1\n",
       "bahanas        1\n",
       "bahamas6       1\n",
       "bahamasa       1\n",
       "abahamas       1\n",
       "Name: address_wordlist, dtype: int64"
      ]
     },
     "execution_count": 93,
     "metadata": {},
     "output_type": "execute_result"
    }
   ],
   "source": [
    "# Doesn't return the right count for \"bahamas\"\n",
    "df.loc[df['working_address'].str.endswith(tuple(bah_reg_list + ['brahmas', 'hamas'])), 'address_wordlist'].apply(lambda x: x[-1]).value_counts()"
   ]
  },
  {
   "cell_type": "code",
   "execution_count": 97,
   "id": "53cb4284-f0e0-47aa-80e0-ccee89642693",
   "metadata": {},
   "outputs": [
    {
     "data": {
      "text/plain": [
       "0                                                                                    [annex, frederick, and, shirley, street, po, box, n4805, nassau]\n",
       "1                                                                                         [suite, e2, union, court, building, po, box, n8188, nassau]\n",
       "2                                                                                           [lyford, cay, house, lyford, cay, po, box, n7785, nassau]\n",
       "3                                               [po, box, n3708, bahamas, financial, centre, po, box, n3708, shirley, and, charlotte, street, nassau]\n",
       "4                                                                             [lyford, cay, house, third, floor, lyford, cay, po, box, n3024, nassau]\n",
       "                                                                            ...                                                                      \n",
       "2253                                                                            [j, p, morgan, trust, company, bahamas, limited, nassau, n, 4899, zh]\n",
       "2254                                                                        [montagne, sterline, centre, east, bav, street, nassau, country, bahamas]\n",
       "2255                                                                                             [deltec, house, lyford, cay, po, box, n3229, nassau]\n",
       "2256                                                           [providence, house, hast, wing, east, hill, street, po, box, cb12399, nassau, cb12399]\n",
       "2257    [coj, p, morgan, trust, company, bahamas, limited, bahamas, financial, center, 2ntl, floor, shirley, and, charlotte, street, nassau, n, 4899]\n",
       "Name: address_wordlist, Length: 2063, dtype: object"
      ]
     },
     "execution_count": 97,
     "metadata": {},
     "output_type": "execute_result"
    }
   ],
   "source": [
    "df.loc[df['address_wordlist'].apply(lambda x: x[-1] in bah_reg_list + ['brahmas', 'hamas']), 'address_wordlist'].str[:-1]"
   ]
  },
  {
   "cell_type": "code",
   "execution_count": 98,
   "id": "c622c487-76a9-4e5e-8ae6-321ab01f1002",
   "metadata": {},
   "outputs": [
    {
     "data": {
      "text/plain": [
       "['annex',\n",
       " 'frederick',\n",
       " 'and',\n",
       " 'shirley',\n",
       " 'street',\n",
       " 'po',\n",
       " 'box',\n",
       " 'n4805',\n",
       " 'nassau',\n",
       " 'bahamas']"
      ]
     },
     "execution_count": 98,
     "metadata": {},
     "output_type": "execute_result"
    }
   ],
   "source": [
    "df.iloc[0, -1]"
   ]
  },
  {
   "cell_type": "code",
   "execution_count": 99,
   "id": "13e7e404-8a15-4be1-af83-6ee3b91973ec",
   "metadata": {},
   "outputs": [
    {
     "name": "stderr",
     "output_type": "stream",
     "text": [
      "/Users/julie.fisher/opt/anaconda3/lib/python3.8/site-packages/numpy/core/_asarray.py:102: VisibleDeprecationWarning: Creating an ndarray from ragged nested sequences (which is a list-or-tuple of lists-or-tuples-or ndarrays with different lengths or shapes) is deprecated. If you meant to do this, you must specify 'dtype=object' when creating the ndarray.\n",
      "  return array(a, dtype, copy=False, order=order)\n"
     ]
    }
   ],
   "source": [
    "df.loc[df['address_wordlist'\n",
    "         ].apply(lambda x: x[-1] in bah_reg_list + ['brahmas', 'hamas']\n",
    "                ), ['address_wordlist', 'address_country']\n",
    "      ] = [df.loc[df['address_wordlist'].apply(lambda x: x[-1] in bah_reg_list + ['brahmas', 'hamas']), 'address_wordlist'\n",
    "                ].apply(lambda x: x[:-1]), 'bahamas']"
   ]
  },
  {
   "cell_type": "code",
   "execution_count": 102,
   "id": "f8b7ec71-74af-45ef-9dad-ad7768b7c441",
   "metadata": {},
   "outputs": [
    {
     "data": {
      "text/plain": [
       "['annex',\n",
       " 'frederick',\n",
       " 'and',\n",
       " 'shirley',\n",
       " 'street',\n",
       " 'po',\n",
       " 'box',\n",
       " 'n4805',\n",
       " 'nassau']"
      ]
     },
     "execution_count": 102,
     "metadata": {},
     "output_type": "execute_result"
    }
   ],
   "source": [
    "df.iloc[0, -2]"
   ]
  },
  {
   "cell_type": "code",
   "execution_count": 100,
   "id": "b074a0af-8412-4809-bdf5-c997717dd242",
   "metadata": {},
   "outputs": [
    {
     "data": {
      "text/html": [
       "<div>\n",
       "<style scoped>\n",
       "    .dataframe tbody tr th:only-of-type {\n",
       "        vertical-align: middle;\n",
       "    }\n",
       "\n",
       "    .dataframe tbody tr th {\n",
       "        vertical-align: top;\n",
       "    }\n",
       "\n",
       "    .dataframe thead th {\n",
       "        text-align: right;\n",
       "    }\n",
       "</style>\n",
       "<table border=\"1\" class=\"dataframe\">\n",
       "  <thead>\n",
       "    <tr style=\"text-align: right;\">\n",
       "      <th></th>\n",
       "      <th>node_id</th>\n",
       "      <th>address</th>\n",
       "      <th>name</th>\n",
       "      <th>countries</th>\n",
       "      <th>country_codes</th>\n",
       "      <th>sourceID</th>\n",
       "      <th>valid_until</th>\n",
       "      <th>note</th>\n",
       "      <th>working_address</th>\n",
       "      <th>address_wordlist</th>\n",
       "      <th>address_country</th>\n",
       "    </tr>\n",
       "  </thead>\n",
       "  <tbody>\n",
       "    <tr>\n",
       "      <th>0</th>\n",
       "      <td>24000001</td>\n",
       "      <td>ANNEX FREDERICK &amp; SHIRLEY STS, P.O. BOX N-4805, NASSAU, BAHAMAS</td>\n",
       "      <td>NaN</td>\n",
       "      <td>Bahamas</td>\n",
       "      <td>BHS</td>\n",
       "      <td>Bahamas Leaks</td>\n",
       "      <td>The Bahamas Leaks data is current through early 2016.</td>\n",
       "      <td>NaN</td>\n",
       "      <td>annex frederick and shirley street po box n4805 nassau bahamas</td>\n",
       "      <td>[annex, frederick, and, shirley, street, po, box, n4805, nassau]</td>\n",
       "      <td>bahamas</td>\n",
       "    </tr>\n",
       "    <tr>\n",
       "      <th>1</th>\n",
       "      <td>24000002</td>\n",
       "      <td>SUITE E-2,UNION COURT BUILDING, P.O. BOX N-8188, NASSAU, BAHAMAS</td>\n",
       "      <td>NaN</td>\n",
       "      <td>Bahamas</td>\n",
       "      <td>BHS</td>\n",
       "      <td>Bahamas Leaks</td>\n",
       "      <td>The Bahamas Leaks data is current through early 2016.</td>\n",
       "      <td>NaN</td>\n",
       "      <td>suite e2 union court building po box n8188 nassau bahamas</td>\n",
       "      <td>[suite, e2, union, court, building, po, box, n8188, nassau]</td>\n",
       "      <td>bahamas</td>\n",
       "    </tr>\n",
       "    <tr>\n",
       "      <th>2</th>\n",
       "      <td>24000003</td>\n",
       "      <td>LYFORD CAY HOUSE, LYFORD CAY, P.O. BOX N-7785, NASSAU, BAHAMAS</td>\n",
       "      <td>NaN</td>\n",
       "      <td>Bahamas</td>\n",
       "      <td>BHS</td>\n",
       "      <td>Bahamas Leaks</td>\n",
       "      <td>The Bahamas Leaks data is current through early 2016.</td>\n",
       "      <td>NaN</td>\n",
       "      <td>lyford cay house lyford cay po box n7785 nassau bahamas</td>\n",
       "      <td>[lyford, cay, house, lyford, cay, po, box, n7785, nassau]</td>\n",
       "      <td>bahamas</td>\n",
       "    </tr>\n",
       "    <tr>\n",
       "      <th>3</th>\n",
       "      <td>24000004</td>\n",
       "      <td>P.O. BOX N-3708 BAHAMAS FINANCIAL CENTRE, P.O. BOX N-3708 SHIRLEY &amp; CHARLOTTE STS, NASSAU, BAHAMAS</td>\n",
       "      <td>NaN</td>\n",
       "      <td>Bahamas</td>\n",
       "      <td>BHS</td>\n",
       "      <td>Bahamas Leaks</td>\n",
       "      <td>The Bahamas Leaks data is current through early 2016.</td>\n",
       "      <td>NaN</td>\n",
       "      <td>po box n3708 bahamas financial centre po box n3708 shirley and charlotte street nassau bahamas</td>\n",
       "      <td>[po, box, n3708, bahamas, financial, centre, po, box, n3708, shirley, and, charlotte, street, nassau]</td>\n",
       "      <td>bahamas</td>\n",
       "    </tr>\n",
       "    <tr>\n",
       "      <th>4</th>\n",
       "      <td>24000005</td>\n",
       "      <td>LYFORD CAY HOUSE, 3RD FLOOR, LYFORD CAY, P.O. BOX N-3024, NASSAU, BAHAMAS</td>\n",
       "      <td>NaN</td>\n",
       "      <td>Bahamas</td>\n",
       "      <td>BHS</td>\n",
       "      <td>Bahamas Leaks</td>\n",
       "      <td>The Bahamas Leaks data is current through early 2016.</td>\n",
       "      <td>NaN</td>\n",
       "      <td>lyford cay house third floor lyford cay po box n3024 nassau bahamas</td>\n",
       "      <td>[lyford, cay, house, third, floor, lyford, cay, po, box, n3024, nassau]</td>\n",
       "      <td>bahamas</td>\n",
       "    </tr>\n",
       "    <tr>\n",
       "      <th>...</th>\n",
       "      <td>...</td>\n",
       "      <td>...</td>\n",
       "      <td>...</td>\n",
       "      <td>...</td>\n",
       "      <td>...</td>\n",
       "      <td>...</td>\n",
       "      <td>...</td>\n",
       "      <td>...</td>\n",
       "      <td>...</td>\n",
       "      <td>...</td>\n",
       "      <td>...</td>\n",
       "    </tr>\n",
       "    <tr>\n",
       "      <th>2253</th>\n",
       "      <td>240492525</td>\n",
       "      <td>J.P.MORGAN TRUST COMPANY (BAHAMAS) LIMITED, NASSAU, N-4899, ZH, BAHAMAS</td>\n",
       "      <td>NaN</td>\n",
       "      <td>Bahamas</td>\n",
       "      <td>BHS</td>\n",
       "      <td>Pandora Papers - Trident Trust</td>\n",
       "      <td>Provider data is current through 2016</td>\n",
       "      <td>NaN</td>\n",
       "      <td>j p morgan trust company bahamas limited nassau n 4899 zh bahamas</td>\n",
       "      <td>[j, p, morgan, trust, company, bahamas, limited, nassau, n, 4899, zh]</td>\n",
       "      <td>bahamas</td>\n",
       "    </tr>\n",
       "    <tr>\n",
       "      <th>2254</th>\n",
       "      <td>240492536</td>\n",
       "      <td>MONTAGNE STERLINE CENTRE. EAST BAV STREET, NASSAU, COUNTRY BAHAMAS, BAHAMAS</td>\n",
       "      <td>NaN</td>\n",
       "      <td>Bahamas</td>\n",
       "      <td>BHS</td>\n",
       "      <td>Pandora Papers - Trident Trust</td>\n",
       "      <td>Provider data is current through 2016</td>\n",
       "      <td>NaN</td>\n",
       "      <td>montagne sterline centre east bav street nassau country bahamas bahamas</td>\n",
       "      <td>[montagne, sterline, centre, east, bav, street, nassau, country, bahamas]</td>\n",
       "      <td>bahamas</td>\n",
       "    </tr>\n",
       "    <tr>\n",
       "      <th>2255</th>\n",
       "      <td>240491733</td>\n",
       "      <td>DELTEC HOUSE, LYFORD CAY, PO BOX N-3229, NASSAU, BAHAMAS</td>\n",
       "      <td>NaN</td>\n",
       "      <td>Bahamas</td>\n",
       "      <td>BHS</td>\n",
       "      <td>Pandora Papers - Trident Trust</td>\n",
       "      <td>Provider data is current through 2016</td>\n",
       "      <td>NaN</td>\n",
       "      <td>deltec house lyford cay po box n3229 nassau bahamas</td>\n",
       "      <td>[deltec, house, lyford, cay, po, box, n3229, nassau]</td>\n",
       "      <td>bahamas</td>\n",
       "    </tr>\n",
       "    <tr>\n",
       "      <th>2256</th>\n",
       "      <td>240491778</td>\n",
       "      <td>PROVIDENCE HOUSE, HAST WING, EAST HILL STREET, P.O. BOX CB-12399, NASSAU, CB-12399, BAHAMAS</td>\n",
       "      <td>NaN</td>\n",
       "      <td>Bahamas</td>\n",
       "      <td>BHS</td>\n",
       "      <td>Pandora Papers - Trident Trust</td>\n",
       "      <td>Provider data is current through 2016</td>\n",
       "      <td>NaN</td>\n",
       "      <td>providence house hast wing east hill street po box cb12399 nassau cb12399 bahamas</td>\n",
       "      <td>[providence, house, hast, wing, east, hill, street, po, box, cb12399, nassau, cb12399]</td>\n",
       "      <td>bahamas</td>\n",
       "    </tr>\n",
       "    <tr>\n",
       "      <th>2257</th>\n",
       "      <td>240491892</td>\n",
       "      <td>C/OJ.P. MORGAN TRUST COMPANY (BAHAMAS) LIMITED, BAHAMAS FINANCIAL CENTER 2NTL FLOOR, SHIRLEY AND CHARLOTTE STREETS, NASSAU, N-4899, BAHAMAS</td>\n",
       "      <td>NaN</td>\n",
       "      <td>Bahamas</td>\n",
       "      <td>BHS</td>\n",
       "      <td>Pandora Papers - Trident Trust</td>\n",
       "      <td>Provider data is current through 2017</td>\n",
       "      <td>NaN</td>\n",
       "      <td>coj p morgan trust company bahamas limited bahamas financial center 2ntl floor shirley and charlotte street nassau n 4899 bahamas</td>\n",
       "      <td>[coj, p, morgan, trust, company, bahamas, limited, bahamas, financial, center, 2ntl, floor, shirley, and, charlotte, street, nassau, n, 4899]</td>\n",
       "      <td>bahamas</td>\n",
       "    </tr>\n",
       "  </tbody>\n",
       "</table>\n",
       "<p>2258 rows × 11 columns</p>\n",
       "</div>"
      ],
      "text/plain": [
       "        node_id  \\\n",
       "0      24000001   \n",
       "1      24000002   \n",
       "2      24000003   \n",
       "3      24000004   \n",
       "4      24000005   \n",
       "...         ...   \n",
       "2253  240492525   \n",
       "2254  240492536   \n",
       "2255  240491733   \n",
       "2256  240491778   \n",
       "2257  240491892   \n",
       "\n",
       "                                                                                                                                          address  \\\n",
       "0                                                                                 ANNEX FREDERICK & SHIRLEY STS, P.O. BOX N-4805, NASSAU, BAHAMAS   \n",
       "1                                                                                SUITE E-2,UNION COURT BUILDING, P.O. BOX N-8188, NASSAU, BAHAMAS   \n",
       "2                                                                                  LYFORD CAY HOUSE, LYFORD CAY, P.O. BOX N-7785, NASSAU, BAHAMAS   \n",
       "3                                              P.O. BOX N-3708 BAHAMAS FINANCIAL CENTRE, P.O. BOX N-3708 SHIRLEY & CHARLOTTE STS, NASSAU, BAHAMAS   \n",
       "4                                                                       LYFORD CAY HOUSE, 3RD FLOOR, LYFORD CAY, P.O. BOX N-3024, NASSAU, BAHAMAS   \n",
       "...                                                                                                                                           ...   \n",
       "2253                                                                      J.P.MORGAN TRUST COMPANY (BAHAMAS) LIMITED, NASSAU, N-4899, ZH, BAHAMAS   \n",
       "2254                                                                  MONTAGNE STERLINE CENTRE. EAST BAV STREET, NASSAU, COUNTRY BAHAMAS, BAHAMAS   \n",
       "2255                                                                                     DELTEC HOUSE, LYFORD CAY, PO BOX N-3229, NASSAU, BAHAMAS   \n",
       "2256                                                  PROVIDENCE HOUSE, HAST WING, EAST HILL STREET, P.O. BOX CB-12399, NASSAU, CB-12399, BAHAMAS   \n",
       "2257  C/OJ.P. MORGAN TRUST COMPANY (BAHAMAS) LIMITED, BAHAMAS FINANCIAL CENTER 2NTL FLOOR, SHIRLEY AND CHARLOTTE STREETS, NASSAU, N-4899, BAHAMAS   \n",
       "\n",
       "     name countries country_codes                        sourceID  \\\n",
       "0     NaN   Bahamas           BHS                   Bahamas Leaks   \n",
       "1     NaN   Bahamas           BHS                   Bahamas Leaks   \n",
       "2     NaN   Bahamas           BHS                   Bahamas Leaks   \n",
       "3     NaN   Bahamas           BHS                   Bahamas Leaks   \n",
       "4     NaN   Bahamas           BHS                   Bahamas Leaks   \n",
       "...   ...       ...           ...                             ...   \n",
       "2253  NaN   Bahamas           BHS  Pandora Papers - Trident Trust   \n",
       "2254  NaN   Bahamas           BHS  Pandora Papers - Trident Trust   \n",
       "2255  NaN   Bahamas           BHS  Pandora Papers - Trident Trust   \n",
       "2256  NaN   Bahamas           BHS  Pandora Papers - Trident Trust   \n",
       "2257  NaN   Bahamas           BHS  Pandora Papers - Trident Trust   \n",
       "\n",
       "                                                valid_until note  \\\n",
       "0     The Bahamas Leaks data is current through early 2016.  NaN   \n",
       "1     The Bahamas Leaks data is current through early 2016.  NaN   \n",
       "2     The Bahamas Leaks data is current through early 2016.  NaN   \n",
       "3     The Bahamas Leaks data is current through early 2016.  NaN   \n",
       "4     The Bahamas Leaks data is current through early 2016.  NaN   \n",
       "...                                                     ...  ...   \n",
       "2253                  Provider data is current through 2016  NaN   \n",
       "2254                  Provider data is current through 2016  NaN   \n",
       "2255                  Provider data is current through 2016  NaN   \n",
       "2256                  Provider data is current through 2016  NaN   \n",
       "2257                  Provider data is current through 2017  NaN   \n",
       "\n",
       "                                                                                                                        working_address  \\\n",
       "0                                                                        annex frederick and shirley street po box n4805 nassau bahamas   \n",
       "1                                                                             suite e2 union court building po box n8188 nassau bahamas   \n",
       "2                                                                               lyford cay house lyford cay po box n7785 nassau bahamas   \n",
       "3                                        po box n3708 bahamas financial centre po box n3708 shirley and charlotte street nassau bahamas   \n",
       "4                                                                   lyford cay house third floor lyford cay po box n3024 nassau bahamas   \n",
       "...                                                                                                                                 ...   \n",
       "2253                                                                  j p morgan trust company bahamas limited nassau n 4899 zh bahamas   \n",
       "2254                                                            montagne sterline centre east bav street nassau country bahamas bahamas   \n",
       "2255                                                                                deltec house lyford cay po box n3229 nassau bahamas   \n",
       "2256                                                  providence house hast wing east hill street po box cb12399 nassau cb12399 bahamas   \n",
       "2257  coj p morgan trust company bahamas limited bahamas financial center 2ntl floor shirley and charlotte street nassau n 4899 bahamas   \n",
       "\n",
       "                                                                                                                                   address_wordlist  \\\n",
       "0                                                                                  [annex, frederick, and, shirley, street, po, box, n4805, nassau]   \n",
       "1                                                                                       [suite, e2, union, court, building, po, box, n8188, nassau]   \n",
       "2                                                                                         [lyford, cay, house, lyford, cay, po, box, n7785, nassau]   \n",
       "3                                             [po, box, n3708, bahamas, financial, centre, po, box, n3708, shirley, and, charlotte, street, nassau]   \n",
       "4                                                                           [lyford, cay, house, third, floor, lyford, cay, po, box, n3024, nassau]   \n",
       "...                                                                                                                                             ...   \n",
       "2253                                                                          [j, p, morgan, trust, company, bahamas, limited, nassau, n, 4899, zh]   \n",
       "2254                                                                      [montagne, sterline, centre, east, bav, street, nassau, country, bahamas]   \n",
       "2255                                                                                           [deltec, house, lyford, cay, po, box, n3229, nassau]   \n",
       "2256                                                         [providence, house, hast, wing, east, hill, street, po, box, cb12399, nassau, cb12399]   \n",
       "2257  [coj, p, morgan, trust, company, bahamas, limited, bahamas, financial, center, 2ntl, floor, shirley, and, charlotte, street, nassau, n, 4899]   \n",
       "\n",
       "     address_country  \n",
       "0            bahamas  \n",
       "1            bahamas  \n",
       "2            bahamas  \n",
       "3            bahamas  \n",
       "4            bahamas  \n",
       "...              ...  \n",
       "2253         bahamas  \n",
       "2254         bahamas  \n",
       "2255         bahamas  \n",
       "2256         bahamas  \n",
       "2257         bahamas  \n",
       "\n",
       "[2258 rows x 11 columns]"
      ]
     },
     "execution_count": 100,
     "metadata": {},
     "output_type": "execute_result"
    }
   ],
   "source": [
    "df"
   ]
  },
  {
   "cell_type": "code",
   "execution_count": 80,
   "id": "3d8f4816-4674-45e4-864e-99310e6a6b1c",
   "metadata": {},
   "outputs": [
    {
     "ename": "IndexError",
     "evalue": "list index out of range",
     "output_type": "error",
     "traceback": [
      "\u001b[0;31m---------------------------------------------------------------------------\u001b[0m",
      "\u001b[0;31mIndexError\u001b[0m                                Traceback (most recent call last)",
      "\u001b[0;32m<ipython-input-80-7cb046d26dab>\u001b[0m in \u001b[0;36m<module>\u001b[0;34m\u001b[0m\n\u001b[0;32m----> 1\u001b[0;31m \u001b[0mdf\u001b[0m\u001b[0;34m[\u001b[0m\u001b[0;34m'address_wordlist'\u001b[0m\u001b[0;34m]\u001b[0m\u001b[0;34m.\u001b[0m\u001b[0mapply\u001b[0m\u001b[0;34m(\u001b[0m\u001b[0;32mlambda\u001b[0m \u001b[0mx\u001b[0m\u001b[0;34m:\u001b[0m \u001b[0mx\u001b[0m\u001b[0;34m[\u001b[0m\u001b[0;34m-\u001b[0m\u001b[0;36m1\u001b[0m\u001b[0;34m]\u001b[0m\u001b[0;34m)\u001b[0m\u001b[0;34m.\u001b[0m\u001b[0mvalue_counts\u001b[0m\u001b[0;34m(\u001b[0m\u001b[0;34m)\u001b[0m\u001b[0;34m\u001b[0m\u001b[0;34m\u001b[0m\u001b[0m\n\u001b[0m",
      "\u001b[0;32m~/opt/anaconda3/lib/python3.8/site-packages/pandas/core/series.py\u001b[0m in \u001b[0;36mapply\u001b[0;34m(self, func, convert_dtype, args, **kwargs)\u001b[0m\n\u001b[1;32m   4355\u001b[0m         \u001b[0mdtype\u001b[0m\u001b[0;34m:\u001b[0m \u001b[0mfloat64\u001b[0m\u001b[0;34m\u001b[0m\u001b[0;34m\u001b[0m\u001b[0m\n\u001b[1;32m   4356\u001b[0m         \"\"\"\n\u001b[0;32m-> 4357\u001b[0;31m         \u001b[0;32mreturn\u001b[0m \u001b[0mSeriesApply\u001b[0m\u001b[0;34m(\u001b[0m\u001b[0mself\u001b[0m\u001b[0;34m,\u001b[0m \u001b[0mfunc\u001b[0m\u001b[0;34m,\u001b[0m \u001b[0mconvert_dtype\u001b[0m\u001b[0;34m,\u001b[0m \u001b[0margs\u001b[0m\u001b[0;34m,\u001b[0m \u001b[0mkwargs\u001b[0m\u001b[0;34m)\u001b[0m\u001b[0;34m.\u001b[0m\u001b[0mapply\u001b[0m\u001b[0;34m(\u001b[0m\u001b[0;34m)\u001b[0m\u001b[0;34m\u001b[0m\u001b[0;34m\u001b[0m\u001b[0m\n\u001b[0m\u001b[1;32m   4358\u001b[0m \u001b[0;34m\u001b[0m\u001b[0m\n\u001b[1;32m   4359\u001b[0m     def _reduce(\n",
      "\u001b[0;32m~/opt/anaconda3/lib/python3.8/site-packages/pandas/core/apply.py\u001b[0m in \u001b[0;36mapply\u001b[0;34m(self)\u001b[0m\n\u001b[1;32m   1041\u001b[0m             \u001b[0;32mreturn\u001b[0m \u001b[0mself\u001b[0m\u001b[0;34m.\u001b[0m\u001b[0mapply_str\u001b[0m\u001b[0;34m(\u001b[0m\u001b[0;34m)\u001b[0m\u001b[0;34m\u001b[0m\u001b[0;34m\u001b[0m\u001b[0m\n\u001b[1;32m   1042\u001b[0m \u001b[0;34m\u001b[0m\u001b[0m\n\u001b[0;32m-> 1043\u001b[0;31m         \u001b[0;32mreturn\u001b[0m \u001b[0mself\u001b[0m\u001b[0;34m.\u001b[0m\u001b[0mapply_standard\u001b[0m\u001b[0;34m(\u001b[0m\u001b[0;34m)\u001b[0m\u001b[0;34m\u001b[0m\u001b[0;34m\u001b[0m\u001b[0m\n\u001b[0m\u001b[1;32m   1044\u001b[0m \u001b[0;34m\u001b[0m\u001b[0m\n\u001b[1;32m   1045\u001b[0m     \u001b[0;32mdef\u001b[0m \u001b[0magg\u001b[0m\u001b[0;34m(\u001b[0m\u001b[0mself\u001b[0m\u001b[0;34m)\u001b[0m\u001b[0;34m:\u001b[0m\u001b[0;34m\u001b[0m\u001b[0;34m\u001b[0m\u001b[0m\n",
      "\u001b[0;32m~/opt/anaconda3/lib/python3.8/site-packages/pandas/core/apply.py\u001b[0m in \u001b[0;36mapply_standard\u001b[0;34m(self)\u001b[0m\n\u001b[1;32m   1096\u001b[0m                 \u001b[0;31m# List[Union[Callable[..., Any], str]]]]]\"; expected\u001b[0m\u001b[0;34m\u001b[0m\u001b[0;34m\u001b[0m\u001b[0;34m\u001b[0m\u001b[0m\n\u001b[1;32m   1097\u001b[0m                 \u001b[0;31m# \"Callable[[Any], Any]\"\u001b[0m\u001b[0;34m\u001b[0m\u001b[0;34m\u001b[0m\u001b[0;34m\u001b[0m\u001b[0m\n\u001b[0;32m-> 1098\u001b[0;31m                 mapped = lib.map_infer(\n\u001b[0m\u001b[1;32m   1099\u001b[0m                     \u001b[0mvalues\u001b[0m\u001b[0;34m,\u001b[0m\u001b[0;34m\u001b[0m\u001b[0;34m\u001b[0m\u001b[0m\n\u001b[1;32m   1100\u001b[0m                     \u001b[0mf\u001b[0m\u001b[0;34m,\u001b[0m  \u001b[0;31m# type: ignore[arg-type]\u001b[0m\u001b[0;34m\u001b[0m\u001b[0;34m\u001b[0m\u001b[0m\n",
      "\u001b[0;32m~/opt/anaconda3/lib/python3.8/site-packages/pandas/_libs/lib.pyx\u001b[0m in \u001b[0;36mpandas._libs.lib.map_infer\u001b[0;34m()\u001b[0m\n",
      "\u001b[0;32m<ipython-input-80-7cb046d26dab>\u001b[0m in \u001b[0;36m<lambda>\u001b[0;34m(x)\u001b[0m\n\u001b[0;32m----> 1\u001b[0;31m \u001b[0mdf\u001b[0m\u001b[0;34m[\u001b[0m\u001b[0;34m'address_wordlist'\u001b[0m\u001b[0;34m]\u001b[0m\u001b[0;34m.\u001b[0m\u001b[0mapply\u001b[0m\u001b[0;34m(\u001b[0m\u001b[0;32mlambda\u001b[0m \u001b[0mx\u001b[0m\u001b[0;34m:\u001b[0m \u001b[0mx\u001b[0m\u001b[0;34m[\u001b[0m\u001b[0;34m-\u001b[0m\u001b[0;36m1\u001b[0m\u001b[0;34m]\u001b[0m\u001b[0;34m)\u001b[0m\u001b[0;34m.\u001b[0m\u001b[0mvalue_counts\u001b[0m\u001b[0;34m(\u001b[0m\u001b[0;34m)\u001b[0m\u001b[0;34m\u001b[0m\u001b[0;34m\u001b[0m\u001b[0m\n\u001b[0m",
      "\u001b[0;31mIndexError\u001b[0m: list index out of range"
     ]
    }
   ],
   "source": [
    "df['address_wordlist'].apply(lambda x: x[-1]).value_counts()"
   ]
  },
  {
   "cell_type": "code",
   "execution_count": null,
   "id": "6b997742-c99f-42ac-9ebe-44656c7e8b35",
   "metadata": {},
   "outputs": [],
   "source": []
  },
  {
   "cell_type": "code",
   "execution_count": null,
   "id": "51d215d1-87ba-479c-898c-3238fad27150",
   "metadata": {},
   "outputs": [],
   "source": []
  },
  {
   "cell_type": "code",
   "execution_count": null,
   "id": "36630b86-b214-42e0-aac2-10994093868d",
   "metadata": {},
   "outputs": [],
   "source": []
  },
  {
   "cell_type": "code",
   "execution_count": 82,
   "id": "db47677b-87cd-4cb7-a084-3343c1c541da",
   "metadata": {},
   "outputs": [
    {
     "data": {
      "text/plain": [
       "['abahamas',\n",
       " 'bahaams',\n",
       " 'bahamaas',\n",
       " 'bahamas',\n",
       " 'bahamas1',\n",
       " 'bahamas6',\n",
       " 'bahamasa',\n",
       " 'bahamasc',\n",
       " 'bahams',\n",
       " 'bahanas',\n",
       " 'bahmas',\n",
       " 'bhamas',\n",
       " 'brahmas',\n",
       " 'hamas']"
      ]
     },
     "execution_count": 82,
     "metadata": {},
     "output_type": "execute_result"
    }
   ],
   "source": [
    "test_list = bah_reg_list + ['brahmas', 'hamas']\n",
    "test_list"
   ]
  },
  {
   "cell_type": "code",
   "execution_count": 84,
   "id": "b409a4a6-b809-41d7-8bd0-01228e35d6fc",
   "metadata": {},
   "outputs": [
    {
     "data": {
      "text/plain": [
       "'hamas'"
      ]
     },
     "execution_count": 84,
     "metadata": {},
     "output_type": "execute_result"
    }
   ],
   "source": [
    "test_list[-1]"
   ]
  },
  {
   "cell_type": "code",
   "execution_count": 85,
   "id": "15c18671-1ada-42c2-b798-43f0f092e7d9",
   "metadata": {},
   "outputs": [
    {
     "data": {
      "text/plain": [
       "'hamas'"
      ]
     },
     "execution_count": 85,
     "metadata": {},
     "output_type": "execute_result"
    }
   ],
   "source": [
    "test_list.pop()"
   ]
  },
  {
   "cell_type": "code",
   "execution_count": 86,
   "id": "db7634d4-864b-4e43-bf09-973f2722e1da",
   "metadata": {},
   "outputs": [
    {
     "data": {
      "text/plain": [
       "['abahamas',\n",
       " 'bahaams',\n",
       " 'bahamaas',\n",
       " 'bahamas',\n",
       " 'bahamas1',\n",
       " 'bahamas6',\n",
       " 'bahamasa',\n",
       " 'bahamasc',\n",
       " 'bahams',\n",
       " 'bahanas',\n",
       " 'bahmas',\n",
       " 'bhamas',\n",
       " 'brahmas']"
      ]
     },
     "execution_count": 86,
     "metadata": {},
     "output_type": "execute_result"
    }
   ],
   "source": [
    "test_list"
   ]
  },
  {
   "cell_type": "code",
   "execution_count": 87,
   "id": "b521242b-300f-4f00-b649-0e4ceddce53a",
   "metadata": {},
   "outputs": [
    {
     "data": {
      "text/plain": [
       "'brahmas'"
      ]
     },
     "execution_count": 87,
     "metadata": {},
     "output_type": "execute_result"
    }
   ],
   "source": [
    "test_list[-1]"
   ]
  },
  {
   "cell_type": "code",
   "execution_count": null,
   "id": "d1e0789d-8588-4387-b198-2d75420f4922",
   "metadata": {},
   "outputs": [],
   "source": []
  }
 ],
 "metadata": {
  "kernelspec": {
   "display_name": "Python 3",
   "language": "python",
   "name": "python3"
  },
  "language_info": {
   "codemirror_mode": {
    "name": "ipython",
    "version": 3
   },
   "file_extension": ".py",
   "mimetype": "text/x-python",
   "name": "python",
   "nbconvert_exporter": "python",
   "pygments_lexer": "ipython3",
   "version": "3.8.8"
  }
 },
 "nbformat": 4,
 "nbformat_minor": 5
}
