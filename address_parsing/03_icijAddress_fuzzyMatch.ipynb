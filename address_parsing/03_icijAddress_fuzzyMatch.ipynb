{
 "cells": [
  {
   "cell_type": "markdown",
   "id": "6c469870-9653-498e-8996-94c7ad66f9bf",
   "metadata": {},
   "source": [
    "# NLP 07: Fuzzy Matching"
   ]
  },
  {
   "cell_type": "code",
   "execution_count": null,
   "id": "dcbabc8a-b57e-431a-abb5-58a36e141c2e",
   "metadata": {},
   "outputs": [],
   "source": []
  }
 ],
 "metadata": {
  "kernelspec": {
   "display_name": "Python 3",
   "language": "python",
   "name": "python3"
  },
  "language_info": {
   "codemirror_mode": {
    "name": "ipython",
    "version": 3
   },
   "file_extension": ".py",
   "mimetype": "text/x-python",
   "name": "python",
   "nbconvert_exporter": "python",
   "pygments_lexer": "ipython3",
   "version": "3.8.8"
  }
 },
 "nbformat": 4,
 "nbformat_minor": 5
}
