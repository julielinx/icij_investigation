{
 "cells": [
  {
   "cell_type": "markdown",
   "id": "594a8603-69f6-4341-a1dc-1658dbca26fa",
   "metadata": {},
   "source": [
    "# Standardizing addresses"
   ]
  },
  {
   "cell_type": "markdown",
   "id": "a1033da6-1efa-4089-b91d-210c6380b8cb",
   "metadata": {},
   "source": [
    "There is no one good free tool to standardize international addresses. You can try to find something with an internet search similar to \"python standardize international address\"\n",
    "\n",
    "An alternate solution is to use fuzzy matching.\n",
    "\n",
    "### Fuzzy Matching Resouces\n",
    "\n",
    "- [Datacamp: Fuzzy String Matching in Python Tutorial](https://www.datacamp.com/tutorial/fuzzy-string-python)\n",
    "- [Fuzzing matching in pandas with fuzzywuzzy](https://jonathansoma.com/lede/algorithms-2017/classes/fuzziness-matplotlib/fuzzing-matching-in-pandas-with-fuzzywuzzy/)"
   ]
  },
  {
   "cell_type": "code",
   "execution_count": null,
   "id": "c26a672a-d192-4cc7-b8ea-a1ce9ea16d11",
   "metadata": {},
   "outputs": [],
   "source": []
  }
 ],
 "metadata": {
  "kernelspec": {
   "display_name": "Python 3",
   "language": "python",
   "name": "python3"
  },
  "language_info": {
   "codemirror_mode": {
    "name": "ipython",
    "version": 3
   },
   "file_extension": ".py",
   "mimetype": "text/x-python",
   "name": "python",
   "nbconvert_exporter": "python",
   "pygments_lexer": "ipython3",
   "version": "3.8.8"
  }
 },
 "nbformat": 4,
 "nbformat_minor": 5
}
