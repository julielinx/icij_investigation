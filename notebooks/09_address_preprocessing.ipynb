{
 "cells": [
  {
   "cell_type": "code",
   "execution_count": 1,
   "metadata": {},
   "outputs": [],
   "source": [
    "import numpy as np\n",
    "import pandas as pd\n",
    "\n",
    "pd.options.display.max_rows = 999\n",
    "pd.options.display.max_columns = 999\n",
    "pd.options.display.max_colwidth = 150"
   ]
  },
  {
   "cell_type": "code",
   "execution_count": null,
   "metadata": {},
   "outputs": [],
   "source": [
    "keep_cols = ['node_id', 'sourceID', 'address', 'name', 'country_codes', 'countries']\n",
    "dtypes = {'node_id': 'int32', 'sourceID':'category', 'address': 'object', 'name':'object',\n",
    "          'country_codes':'category', 'countries':'category'}\n",
    "\n",
    "bahamas_address_raw = pd.read_csv('../data/raw/bahamas_leaks/bahamas_leaks.nodes.address.csv', \n",
    "                                 usecols = keep_cols,\n",
    "                                 dtype=dtypes)\n",
    "offshore_address_raw = pd.read_csv('../data/raw/offshore_leaks/offshore_leaks.nodes.address.csv', \n",
    "                                 usecols = keep_cols,\n",
    "                                 dtype=dtypes)\n",
    "panama_address_raw = pd.read_csv('../data/raw/panama_papers/panama_papers.nodes.address.csv', \n",
    "                                 usecols = keep_cols,\n",
    "                                 dtype=dtypes)\n",
    "paradise_address_raw = pd.read_csv('../data/raw/paradise_papers/paradise_papers.nodes.address.csv', \n",
    "                                 usecols = keep_cols,\n",
    "                                 dtype=dtypes)"
   ]
  },
  {
   "cell_type": "markdown",
   "metadata": {},
   "source": [
    "### To Do\n",
    "\n",
    "- Paradise papers: address was accidentally put into the 'name' column instead of the 'address' column. Will need to rename this column.\n",
    "  + However, Line 1 of the address is mostly in the 'address' column. Which could make reformatting that dataset easier.\n",
    "- Remove all rows where the 'address' column is empty (there's only one each in Panama and Paradise (once 'name' column correctly addressed)\n",
    "- Clean the address text. This will require rather inventive text wrangling. Each investigation uses a different address format. Not all have the City. There are invalid characters in some of the entries.\n",
    "- Preferred address format (in different columns)\n",
    "  + Line 1\n",
    "  + City\n",
    "  + Country"
   ]
  },
  {
   "cell_type": "code",
   "execution_count": null,
   "metadata": {},
   "outputs": [],
   "source": []
  }
 ],
 "metadata": {
  "kernelspec": {
   "display_name": "Python 3",
   "language": "python",
   "name": "python3"
  },
  "language_info": {
   "codemirror_mode": {
    "name": "ipython",
    "version": 3
   },
   "file_extension": ".py",
   "mimetype": "text/x-python",
   "name": "python",
   "nbconvert_exporter": "python",
   "pygments_lexer": "ipython3",
   "version": "3.7.1"
  }
 },
 "nbformat": 4,
 "nbformat_minor": 2
}
