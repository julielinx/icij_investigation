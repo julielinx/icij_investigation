{
 "cells": [
  {
   "cell_type": "code",
   "execution_count": 1,
   "metadata": {},
   "outputs": [],
   "source": [
    "import numpy as np\n",
    "import pandas as pd\n",
    "\n",
    "pd.options.display.max_rows = 999\n",
    "pd.options.display.max_columns = 999\n",
    "pd.options.display.max_colwidth = 150"
   ]
  },
  {
   "cell_type": "code",
   "execution_count": 2,
   "metadata": {},
   "outputs": [
    {
     "name": "stderr",
     "output_type": "stream",
     "text": [
      "C:\\Users\\Julie\\Anaconda3\\lib\\site-packages\\IPython\\core\\interactiveshell.py:3020: DtypeWarning: Columns (2,3,4,7) have mixed types. Specify dtype option on import or set low_memory=False.\n",
      "  interactivity=interactivity, compiler=compiler, result=result)\n"
     ]
    }
   ],
   "source": [
    "bahamas_officer_raw = pd.read_csv('../data/raw/bahamas_leaks/bahamas_leaks.nodes.officer.csv')\n",
    "offshore_officer_raw = pd.read_csv('../data/raw/offshore_leaks/offshore_leaks.nodes.officer.csv')\n",
    "panama_officer_raw = pd.read_csv('../data/raw/panama_papers/panama_papers.nodes.officer.csv')\n",
    "paradise_officer_raw = pd.read_csv('../data/raw/paradise_papers/paradise_papers.nodes.officer.csv')"
   ]
  },
  {
   "cell_type": "code",
   "execution_count": 6,
   "metadata": {},
   "outputs": [
    {
     "name": "stdout",
     "output_type": "stream",
     "text": [
      "Bahamas Leaks\n",
      "['address', 'closed_date', 'company_type', 'countries', 'country_codes', 'ibcRUC', 'incorporation_date', 'jurisdiction', 'jurisdiction_description', 'labels(n)', 'name', 'node_id', 'note', 'service_provider', 'sourceID', 'status', 'type', 'valid_until'] \n",
      "\n",
      "Offshore Leaks\n",
      "['countries', 'country_codes', 'name', 'node_id', 'note', 'sourceID', 'valid_until'] \n",
      "\n",
      "Panama Papers\n",
      "['countries', 'country_codes', 'name', 'node_id', 'note', 'sourceID', 'valid_until'] \n",
      "\n",
      "Paradise Papers - Malta corporate registry\n",
      "['countries', 'country_codes', 'name', 'node_id', 'note', 'sourceID', 'status', 'valid_until'] \n",
      "\n"
     ]
    }
   ],
   "source": [
    "datasets = [bahamas_officer_raw, offshore_officer_raw, panama_officer_raw, paradise_officer_raw]\n",
    "for ds in datasets:\n",
    "    print(ds.sourceID[0])\n",
    "    print(sorted(ds.columns), '\\n')"
   ]
  },
  {
   "cell_type": "code",
   "execution_count": 8,
   "metadata": {},
   "outputs": [
    {
     "name": "stdout",
     "output_type": "stream",
     "text": [
      "<class 'pandas.core.frame.DataFrame'>\n",
      "RangeIndex: 25262 entries, 0 to 25261\n",
      "Data columns (total 18 columns):\n",
      "labels(n)                   25262 non-null object\n",
      "valid_until                 25262 non-null object\n",
      "country_codes               81 non-null object\n",
      "countries                   81 non-null object\n",
      "node_id                     25262 non-null int64\n",
      "sourceID                    25262 non-null object\n",
      "address                     0 non-null float64\n",
      "name                        25262 non-null object\n",
      "jurisdiction_description    0 non-null float64\n",
      "service_provider            0 non-null float64\n",
      "jurisdiction                0 non-null float64\n",
      "closed_date                 0 non-null float64\n",
      "incorporation_date          0 non-null float64\n",
      "ibcRUC                      0 non-null float64\n",
      "type                        0 non-null float64\n",
      "status                      0 non-null float64\n",
      "company_type                0 non-null float64\n",
      "note                        83 non-null object\n",
      "dtypes: float64(10), int64(1), object(7)\n",
      "memory usage: 3.5+ MB\n"
     ]
    }
   ],
   "source": [
    "bahamas_officer_raw.info()"
   ]
  },
  {
   "cell_type": "markdown",
   "metadata": {},
   "source": [
    "#### The extra columns in the Bahamas Leaks investigation are all empty and can be disregarded"
   ]
  },
  {
   "cell_type": "code",
   "execution_count": 11,
   "metadata": {},
   "outputs": [
    {
     "name": "stdout",
     "output_type": "stream",
     "text": [
      "<class 'pandas.core.frame.DataFrame'>\n",
      "RangeIndex: 107190 entries, 0 to 107189\n",
      "Data columns (total 7 columns):\n",
      "node_id          107190 non-null int64\n",
      "name             107132 non-null object\n",
      "country_codes    107186 non-null object\n",
      "countries        107186 non-null object\n",
      "sourceID         107190 non-null object\n",
      "valid_until      107190 non-null object\n",
      "note             1 non-null object\n",
      "dtypes: int64(1), object(6)\n",
      "memory usage: 5.7+ MB\n"
     ]
    }
   ],
   "source": [
    "offshore_officer_raw.info()"
   ]
  },
  {
   "cell_type": "code",
   "execution_count": 12,
   "metadata": {},
   "outputs": [
    {
     "name": "stdout",
     "output_type": "stream",
     "text": [
      "<class 'pandas.core.frame.DataFrame'>\n",
      "RangeIndex: 238402 entries, 0 to 238401\n",
      "Data columns (total 7 columns):\n",
      "node_id          238402 non-null int64\n",
      "name             238399 non-null object\n",
      "country_codes    144789 non-null object\n",
      "countries        144789 non-null object\n",
      "sourceID         238402 non-null object\n",
      "valid_until      238402 non-null object\n",
      "note             49 non-null object\n",
      "dtypes: int64(1), object(6)\n",
      "memory usage: 12.7+ MB\n"
     ]
    }
   ],
   "source": [
    "panama_officer_raw.info()"
   ]
  },
  {
   "cell_type": "code",
   "execution_count": 9,
   "metadata": {},
   "outputs": [
    {
     "name": "stdout",
     "output_type": "stream",
     "text": [
      "<class 'pandas.core.frame.DataFrame'>\n",
      "RangeIndex: 350008 entries, 0 to 350007\n",
      "Data columns (total 8 columns):\n",
      "node_id          350008 non-null int64\n",
      "name             350007 non-null object\n",
      "country_codes    171627 non-null object\n",
      "countries        171610 non-null object\n",
      "status           158 non-null object\n",
      "sourceID         350008 non-null object\n",
      "valid_until      350008 non-null object\n",
      "note             3612 non-null object\n",
      "dtypes: int64(1), object(7)\n",
      "memory usage: 21.4+ MB\n"
     ]
    }
   ],
   "source": [
    "paradise_officer_raw.info()"
   ]
  },
  {
   "cell_type": "code",
   "execution_count": 10,
   "metadata": {},
   "outputs": [
    {
     "data": {
      "text/plain": [
       "array([nan, 'Removed'], dtype=object)"
      ]
     },
     "execution_count": 10,
     "metadata": {},
     "output_type": "execute_result"
    }
   ],
   "source": [
    "paradise_officer_raw.status.unique()"
   ]
  },
  {
   "cell_type": "markdown",
   "metadata": {},
   "source": [
    "#### I'm not terribly interested in the 'status' column. It only has one value - 'Removed'. As we're just interested in examining the data, not making sure it's up to date and correct, disregrding this column"
   ]
  },
  {
   "cell_type": "code",
   "execution_count": 13,
   "metadata": {},
   "outputs": [
    {
     "name": "stdout",
     "output_type": "stream",
     "text": [
      "Bahamas Leaks\n",
      "(25262, 18)\n",
      "25262 \n",
      "\n",
      "Offshore Leaks\n",
      "(107190, 7)\n",
      "107190 \n",
      "\n",
      "Panama Papers\n",
      "(238402, 7)\n",
      "238402 \n",
      "\n",
      "Paradise Papers - Malta corporate registry\n",
      "(350008, 8)\n",
      "350008 \n",
      "\n"
     ]
    }
   ],
   "source": [
    "for ds in datasets:\n",
    "    print(ds.sourceID.unique()[0])\n",
    "    print(ds.shape)\n",
    "    print(ds.node_id.nunique(), '\\n')"
   ]
  },
  {
   "cell_type": "markdown",
   "metadata": {},
   "source": [
    "## node_id to be used as unique identifier in database\n",
    "\n",
    "Each row does in fact have its own node id. We'll use this as the unique identifier going forward"
   ]
  },
  {
   "cell_type": "code",
   "execution_count": 14,
   "metadata": {},
   "outputs": [
    {
     "name": "stdout",
     "output_type": "stream",
     "text": [
      "Investigation: Bahamas Leaks\n",
      "Number of rows in dataset: 25262\n",
      "Number of populated rows: 83\n",
      "Difference between the number of rows and the populated rows: 25179\n",
      "Number of unique entries: 3\n",
      "Difference between the number of populated entries and the number of unique entries: 80\n",
      "Record manually added from leaked documents                                                                                                                                                                                        81\n",
      "The end date of the position held by Korbak Lynn was updated manually in the database based on documents provided to ICIJ by a communications firm representing Morneau Shepell. (Updated on September 23rd , 2016)                 1\n",
      "The end date of the position held by Francis Morneau William was updated manually in the database based on documents provided to ICIJ by a communications firm representing Morneau Shepell. (Updated on September 23rd , 2016)     1\n",
      "Name: note, dtype: int64 \n",
      "\n",
      "Investigation: Offshore Leaks\n",
      "Number of rows in dataset: 107190\n",
      "Number of populated rows: 1\n",
      "Difference between the number of rows and the populated rows: 107189\n",
      "Number of unique entries: 1\n",
      "Difference between the number of populated entries and the number of unique entries: 0\n",
      "The person was a minor at the time of the incorporation of the entity. (Updated on Nov 10, 2017)    1\n",
      "Name: note, dtype: int64 \n",
      "\n",
      "Investigation: Panama Papers\n",
      "Number of rows in dataset: 238402\n",
      "Number of populated rows: 49\n",
      "Difference between the number of rows and the populated rows: 238353\n",
      "Number of unique entries: 4\n",
      "Difference between the number of populated entries and the number of unique entries: 45\n",
      "Record manually added from leaked documents                                                                                                                                                                                                                                                                                                                                                                                                                                                                                                                                                                                                                                                                                                                                                                                                                                                          42\n",
      "The original names were redacted because the shareholders were minors. (Updated on August 22th, 2016)                                                                                                                                                                                                                                                                                                                                                                                                                                                                                                                                                                                                                                                                                                                                                                                                 3\n",
      "In the Mossack Fonseca database received by ICIJ, Maurice Perera and Amanda Marsh appear as beneficial owners of Worthlen Finance Limited. Maurice Perera told ICIJ that he and Amanda Marsh are not beneficial owners of the company. He said they work for Finsbury Trust and Corporate Services Limited, a corporate service provider in Gibraltar that managed Worthlen. Perera provided a letter signed by a Mossack Fonseca representative that states “according to records updated by our client on June 9, 2016 neither Mr. Maurice Perera nor Mrs. Amanda Marsh are the ultimate beneficial owner of the company. Mr. Marcel Benhamou, French citizen with address: 41, T. Tabidze Str. Apt 8, 0162, Tbilisi, Georgia is the ultimate beneficial owner of the company.” (Note updated on August 25th and November 29th, 2016 and visualization updated on November 8th and 29th, 2016).     3\n",
      "Sergio Emilio Gallo León told ICIJ that he is not the owner of the company. He provided a letter signed by a Mossack Fonseca representative that states “According to our records and to the information provided by our client per record, Sergio Emilio Gallo León is not shareholder nor beneficial owner of Carson Mountains Ltd.” (Updated on September 16th, 2016)                                                                                                                                                                                                                                                                                                                                                                                                                                                                                                                              1\n",
      "Name: note, dtype: int64 \n",
      "\n",
      "Investigation: Paradise Papers - Malta corporate registry\n",
      "Number of rows in dataset: 350008\n",
      "Number of populated rows: 3612\n",
      "Difference between the number of rows and the populated rows: 346396\n",
      "Number of unique entries: 6\n",
      "Difference between the number of populated entries and the number of unique entries: 3606\n",
      "Not all beneficiaries are aware of offshore trusts in which they are named because the settlor may select beneficiaries without their knowledge.                                                                                      3382\n",
      "The individual was a minor at the time of the publication of the data (Nov 2017). Not all beneficiaries are aware of offshore trusts in which they are named because the settlor may select beneficiaries without their knowledge.     114\n",
      "Officer role was translated from Dutch into English.                                                                                                                                                                                    53\n",
      "The individual was a minor at the time of the publication of the data (Nov 2017).                                                                                                                                                       45\n",
      "Record manually added from leaked documents.                                                                                                                                                                                            17\n",
      "This version of the Barbados corporate registry doesn't include any dates for officers. The dates in this node were manually added from leaked documents. Record manually added from leaked documents.                                   1\n",
      "Name: note, dtype: int64 \n",
      "\n"
     ]
    }
   ],
   "source": [
    "for ds in datasets:\n",
    "    print('Investigation:', ds.sourceID.unique()[0])\n",
    "    ds_col = ds.note\n",
    "    print('Number of rows in dataset:', ds_col.shape[0])\n",
    "    print('Number of populated rows:', ds_col.count())\n",
    "    print('Difference between the number of rows and the populated rows:', ds_col.shape[0] - ds_col.count())\n",
    "    print('Number of unique entries:', ds_col.nunique())\n",
    "    print('Difference between the number of populated entries and the number of unique entries:', ds_col.count() - ds_col.nunique())\n",
    "    print(ds_col.value_counts(), '\\n')"
   ]
  },
  {
   "cell_type": "markdown",
   "metadata": {},
   "source": [
    "### Discard 'note'\n",
    "\n",
    "Note doesn't provide anything particularly interesting for analysis. As we're just interested in examining the data, not making sure it's up to date and correct, disregrding this column"
   ]
  },
  {
   "cell_type": "code",
   "execution_count": 18,
   "metadata": {},
   "outputs": [
    {
     "name": "stdout",
     "output_type": "stream",
     "text": [
      "Investigation: Bahamas Leaks\n",
      "Number of rows in dataset: 25262\n",
      "Number of populated rows: 25262\n",
      "Difference between the number of rows and the populated rows: 0\n",
      "Number of unique entries: 1\n",
      "Difference between the number of populated entries and the number of unique entries: 25261\n",
      "The Bahamas Leaks data is current through early 2016.    25262\n",
      "Name: valid_until, dtype: int64 \n",
      "\n",
      "Investigation: Offshore Leaks\n",
      "Number of rows in dataset: 107190\n",
      "Number of populated rows: 107190\n",
      "Difference between the number of rows and the populated rows: 0\n",
      "Number of unique entries: 1\n",
      "Difference between the number of populated entries and the number of unique entries: 107189\n",
      "The Offshore Leaks data is current through 2010    107190\n",
      "Name: valid_until, dtype: int64 \n",
      "\n",
      "Investigation: Panama Papers\n",
      "Number of rows in dataset: 238402\n",
      "Number of populated rows: 238402\n",
      "Difference between the number of rows and the populated rows: 0\n",
      "Number of unique entries: 1\n",
      "Difference between the number of populated entries and the number of unique entries: 238401\n",
      "The Panama Papers data is current through 2015    238402\n",
      "Name: valid_until, dtype: int64 \n",
      "\n",
      "Investigation: Paradise Papers - Malta corporate registry\n",
      "Number of rows in dataset: 350008\n",
      "Number of populated rows: 350008\n",
      "Difference between the number of rows and the populated rows: 0\n",
      "Number of unique entries: 9\n",
      "Difference between the number of populated entries and the number of unique entries: 349999\n",
      "Barbados corporate registry data is current through 2016        127912\n",
      "Malta corporate registry data is current through 2016           107209\n",
      "Appleby data is current through 2014                             76915\n",
      "Aruba corporate registry data is current through 2016            31286\n",
      "Samoa corporate registry data is current through 2016             5828\n",
      "Cook Islands corporate registry data is current through 2016       644\n",
      "Nevis corporate registry data is current through 2016              202\n",
      "Bahamas corporate registry data is current through 2016             11\n",
      "Lebanon corporate registry data is current through 2016              1\n",
      "Name: valid_until, dtype: int64 \n",
      "\n"
     ]
    }
   ],
   "source": [
    "for ds in datasets:\n",
    "    print('Investigation:', ds.sourceID.unique()[0])\n",
    "    ds_col = ds.valid_until\n",
    "    print('Number of rows in dataset:', ds_col.shape[0])\n",
    "    print('Number of populated rows:', ds_col.count())\n",
    "    print('Difference between the number of rows and the populated rows:', ds_col.shape[0] - ds_col.count())\n",
    "    print('Number of unique entries:', ds_col.nunique())\n",
    "    print('Difference between the number of populated entries and the number of unique entries:', ds_col.count() - ds_col.nunique())\n",
    "    print(ds_col.value_counts(), '\\n')\n"
   ]
  },
  {
   "cell_type": "markdown",
   "metadata": {},
   "source": [
    "### Discard 'valid_until'\n",
    "\n",
    "As we're just interested in examining the data, not making sure it's up to date and correct, disregrding this column. If we want it later, we can create a 'current through' table into the database."
   ]
  },
  {
   "cell_type": "markdown",
   "metadata": {},
   "source": [
    "There aren't a whole lot of country/country_code entries, but I'd like to keep them to compare to any other provided data."
   ]
  },
  {
   "cell_type": "code",
   "execution_count": 31,
   "metadata": {},
   "outputs": [
    {
     "data": {
      "text/html": [
       "<div>\n",
       "<style scoped>\n",
       "    .dataframe tbody tr th:only-of-type {\n",
       "        vertical-align: middle;\n",
       "    }\n",
       "\n",
       "    .dataframe tbody tr th {\n",
       "        vertical-align: top;\n",
       "    }\n",
       "\n",
       "    .dataframe thead th {\n",
       "        text-align: right;\n",
       "    }\n",
       "</style>\n",
       "<table border=\"1\" class=\"dataframe\">\n",
       "  <thead>\n",
       "    <tr style=\"text-align: right;\">\n",
       "      <th></th>\n",
       "      <th>sourceID</th>\n",
       "      <th>name</th>\n",
       "      <th>countries</th>\n",
       "      <th>country_codes</th>\n",
       "    </tr>\n",
       "    <tr>\n",
       "      <th>node_id</th>\n",
       "      <th></th>\n",
       "      <th></th>\n",
       "      <th></th>\n",
       "      <th></th>\n",
       "    </tr>\n",
       "  </thead>\n",
       "  <tbody>\n",
       "    <tr>\n",
       "      <th>22013341</th>\n",
       "      <td>Bahamas Leaks</td>\n",
       "      <td>ALPHA DIRECTION LTD.</td>\n",
       "      <td>NaN</td>\n",
       "      <td>NaN</td>\n",
       "    </tr>\n",
       "    <tr>\n",
       "      <th>22017206</th>\n",
       "      <td>Bahamas Leaks</td>\n",
       "      <td>GAMMA SECRETARIES</td>\n",
       "      <td>NaN</td>\n",
       "      <td>NaN</td>\n",
       "    </tr>\n",
       "    <tr>\n",
       "      <th>22023260</th>\n",
       "      <td>Bahamas Leaks</td>\n",
       "      <td>THETA DIRECTION LTD.</td>\n",
       "      <td>NaN</td>\n",
       "      <td>NaN</td>\n",
       "    </tr>\n",
       "    <tr>\n",
       "      <th>22006231</th>\n",
       "      <td>Bahamas Leaks</td>\n",
       "      <td>ALPHA DIRECTION LTD.</td>\n",
       "      <td>NaN</td>\n",
       "      <td>NaN</td>\n",
       "    </tr>\n",
       "    <tr>\n",
       "      <th>22012516</th>\n",
       "      <td>Bahamas Leaks</td>\n",
       "      <td>GAMMA SECRETARIES LTD.</td>\n",
       "      <td>NaN</td>\n",
       "      <td>NaN</td>\n",
       "    </tr>\n",
       "  </tbody>\n",
       "</table>\n",
       "</div>"
      ],
      "text/plain": [
       "               sourceID                    name countries country_codes\n",
       "node_id                                                                \n",
       "22013341  Bahamas Leaks    ALPHA DIRECTION LTD.       NaN           NaN\n",
       "22017206  Bahamas Leaks       GAMMA SECRETARIES       NaN           NaN\n",
       "22023260  Bahamas Leaks    THETA DIRECTION LTD.       NaN           NaN\n",
       "22006231  Bahamas Leaks    ALPHA DIRECTION LTD.       NaN           NaN\n",
       "22012516  Bahamas Leaks  GAMMA SECRETARIES LTD.       NaN           NaN"
      ]
     },
     "execution_count": 31,
     "metadata": {},
     "output_type": "execute_result"
    }
   ],
   "source": [
    "col_order = ['sourceID', 'name', 'countries', 'country_codes']\n",
    "\n",
    "bahamas_officer_raw[col_order].head()"
   ]
  },
  {
   "cell_type": "code",
   "execution_count": 32,
   "metadata": {},
   "outputs": [
    {
     "data": {
      "text/html": [
       "<div>\n",
       "<style scoped>\n",
       "    .dataframe tbody tr th:only-of-type {\n",
       "        vertical-align: middle;\n",
       "    }\n",
       "\n",
       "    .dataframe tbody tr th {\n",
       "        vertical-align: top;\n",
       "    }\n",
       "\n",
       "    .dataframe thead th {\n",
       "        text-align: right;\n",
       "    }\n",
       "</style>\n",
       "<table border=\"1\" class=\"dataframe\">\n",
       "  <thead>\n",
       "    <tr style=\"text-align: right;\">\n",
       "      <th></th>\n",
       "      <th>sourceID</th>\n",
       "      <th>name</th>\n",
       "      <th>countries</th>\n",
       "      <th>country_codes</th>\n",
       "    </tr>\n",
       "    <tr>\n",
       "      <th>node_id</th>\n",
       "      <th></th>\n",
       "      <th></th>\n",
       "      <th></th>\n",
       "      <th></th>\n",
       "    </tr>\n",
       "  </thead>\n",
       "  <tbody>\n",
       "    <tr>\n",
       "      <th>51113</th>\n",
       "      <td>Offshore Leaks</td>\n",
       "      <td>Bisbro Investment Company Ltd.</td>\n",
       "      <td>British Virgin Islands</td>\n",
       "      <td>VGB</td>\n",
       "    </tr>\n",
       "    <tr>\n",
       "      <th>51114</th>\n",
       "      <td>Offshore Leaks</td>\n",
       "      <td>Mohamed Mustafa Bin A Mohamed Ismail</td>\n",
       "      <td>Malaysia</td>\n",
       "      <td>MYS</td>\n",
       "    </tr>\n",
       "    <tr>\n",
       "      <th>51115</th>\n",
       "      <td>Offshore Leaks</td>\n",
       "      <td>Teh Hong Eng</td>\n",
       "      <td>Hong Kong</td>\n",
       "      <td>HKG</td>\n",
       "    </tr>\n",
       "    <tr>\n",
       "      <th>51116</th>\n",
       "      <td>Offshore Leaks</td>\n",
       "      <td>New Sights Enterprises Limited</td>\n",
       "      <td>British Virgin Islands</td>\n",
       "      <td>VGB</td>\n",
       "    </tr>\n",
       "    <tr>\n",
       "      <th>51117</th>\n",
       "      <td>Offshore Leaks</td>\n",
       "      <td>Yong Meow Mui</td>\n",
       "      <td>Singapore</td>\n",
       "      <td>SGP</td>\n",
       "    </tr>\n",
       "  </tbody>\n",
       "</table>\n",
       "</div>"
      ],
      "text/plain": [
       "               sourceID                                  name  \\\n",
       "node_id                                                         \n",
       "51113    Offshore Leaks        Bisbro Investment Company Ltd.   \n",
       "51114    Offshore Leaks  Mohamed Mustafa Bin A Mohamed Ismail   \n",
       "51115    Offshore Leaks                          Teh Hong Eng   \n",
       "51116    Offshore Leaks        New Sights Enterprises Limited   \n",
       "51117    Offshore Leaks                         Yong Meow Mui   \n",
       "\n",
       "                      countries country_codes  \n",
       "node_id                                        \n",
       "51113    British Virgin Islands           VGB  \n",
       "51114                  Malaysia           MYS  \n",
       "51115                 Hong Kong           HKG  \n",
       "51116    British Virgin Islands           VGB  \n",
       "51117                 Singapore           SGP  "
      ]
     },
     "execution_count": 32,
     "metadata": {},
     "output_type": "execute_result"
    }
   ],
   "source": [
    "offshore_officer_raw[col_order].head()"
   ]
  },
  {
   "cell_type": "code",
   "execution_count": 33,
   "metadata": {},
   "outputs": [
    {
     "data": {
      "text/html": [
       "<div>\n",
       "<style scoped>\n",
       "    .dataframe tbody tr th:only-of-type {\n",
       "        vertical-align: middle;\n",
       "    }\n",
       "\n",
       "    .dataframe tbody tr th {\n",
       "        vertical-align: top;\n",
       "    }\n",
       "\n",
       "    .dataframe thead th {\n",
       "        text-align: right;\n",
       "    }\n",
       "</style>\n",
       "<table border=\"1\" class=\"dataframe\">\n",
       "  <thead>\n",
       "    <tr style=\"text-align: right;\">\n",
       "      <th></th>\n",
       "      <th>sourceID</th>\n",
       "      <th>name</th>\n",
       "      <th>countries</th>\n",
       "      <th>country_codes</th>\n",
       "    </tr>\n",
       "    <tr>\n",
       "      <th>node_id</th>\n",
       "      <th></th>\n",
       "      <th></th>\n",
       "      <th></th>\n",
       "      <th></th>\n",
       "    </tr>\n",
       "  </thead>\n",
       "  <tbody>\n",
       "    <tr>\n",
       "      <th>12000001</th>\n",
       "      <td>Panama Papers</td>\n",
       "      <td>KIM SOO IN</td>\n",
       "      <td>South Korea</td>\n",
       "      <td>KOR</td>\n",
       "    </tr>\n",
       "    <tr>\n",
       "      <th>12000002</th>\n",
       "      <td>Panama Papers</td>\n",
       "      <td>Tian Yuan</td>\n",
       "      <td>China</td>\n",
       "      <td>CHN</td>\n",
       "    </tr>\n",
       "    <tr>\n",
       "      <th>12000003</th>\n",
       "      <td>Panama Papers</td>\n",
       "      <td>GREGORY JOHN SOLOMON</td>\n",
       "      <td>Australia</td>\n",
       "      <td>AUS</td>\n",
       "    </tr>\n",
       "    <tr>\n",
       "      <th>12000004</th>\n",
       "      <td>Panama Papers</td>\n",
       "      <td>MATSUDA MASUMI</td>\n",
       "      <td>Japan</td>\n",
       "      <td>JPN</td>\n",
       "    </tr>\n",
       "    <tr>\n",
       "      <th>12000005</th>\n",
       "      <td>Panama Papers</td>\n",
       "      <td>HO THUY NGA</td>\n",
       "      <td>Viet Nam</td>\n",
       "      <td>VNM</td>\n",
       "    </tr>\n",
       "  </tbody>\n",
       "</table>\n",
       "</div>"
      ],
      "text/plain": [
       "               sourceID                  name    countries country_codes\n",
       "node_id                                                                 \n",
       "12000001  Panama Papers            KIM SOO IN  South Korea           KOR\n",
       "12000002  Panama Papers             Tian Yuan        China           CHN\n",
       "12000003  Panama Papers  GREGORY JOHN SOLOMON    Australia           AUS\n",
       "12000004  Panama Papers        MATSUDA MASUMI        Japan           JPN\n",
       "12000005  Panama Papers           HO THUY NGA     Viet Nam           VNM"
      ]
     },
     "execution_count": 33,
     "metadata": {},
     "output_type": "execute_result"
    }
   ],
   "source": [
    "panama_officer_raw[col_order].head()"
   ]
  },
  {
   "cell_type": "code",
   "execution_count": 34,
   "metadata": {},
   "outputs": [
    {
     "data": {
      "text/html": [
       "<div>\n",
       "<style scoped>\n",
       "    .dataframe tbody tr th:only-of-type {\n",
       "        vertical-align: middle;\n",
       "    }\n",
       "\n",
       "    .dataframe tbody tr th {\n",
       "        vertical-align: top;\n",
       "    }\n",
       "\n",
       "    .dataframe thead th {\n",
       "        text-align: right;\n",
       "    }\n",
       "</style>\n",
       "<table border=\"1\" class=\"dataframe\">\n",
       "  <thead>\n",
       "    <tr style=\"text-align: right;\">\n",
       "      <th></th>\n",
       "      <th>sourceID</th>\n",
       "      <th>name</th>\n",
       "      <th>countries</th>\n",
       "      <th>country_codes</th>\n",
       "    </tr>\n",
       "    <tr>\n",
       "      <th>node_id</th>\n",
       "      <th></th>\n",
       "      <th></th>\n",
       "      <th></th>\n",
       "      <th></th>\n",
       "    </tr>\n",
       "  </thead>\n",
       "  <tbody>\n",
       "    <tr>\n",
       "      <th>59160036</th>\n",
       "      <td>Paradise Papers - Malta corporate registry</td>\n",
       "      <td>RADOMIR VUKCEVIC</td>\n",
       "      <td>NaN</td>\n",
       "      <td>NaN</td>\n",
       "    </tr>\n",
       "    <tr>\n",
       "      <th>59178341</th>\n",
       "      <td>Paradise Papers - Malta corporate registry</td>\n",
       "      <td>ANA DUKANOVIC</td>\n",
       "      <td>NaN</td>\n",
       "      <td>NaN</td>\n",
       "    </tr>\n",
       "    <tr>\n",
       "      <th>59190179</th>\n",
       "      <td>Paradise Papers - Malta corporate registry</td>\n",
       "      <td>ANA KOLAREVIC</td>\n",
       "      <td>NaN</td>\n",
       "      <td>NaN</td>\n",
       "    </tr>\n",
       "    <tr>\n",
       "      <th>59152278</th>\n",
       "      <td>Paradise Papers - Malta corporate registry</td>\n",
       "      <td>Ranin Ltd</td>\n",
       "      <td>NaN</td>\n",
       "      <td>NaN</td>\n",
       "    </tr>\n",
       "    <tr>\n",
       "      <th>59127837</th>\n",
       "      <td>Paradise Papers - Malta corporate registry</td>\n",
       "      <td>DAVID MARINELLI</td>\n",
       "      <td>NaN</td>\n",
       "      <td>NaN</td>\n",
       "    </tr>\n",
       "  </tbody>\n",
       "</table>\n",
       "</div>"
      ],
      "text/plain": [
       "                                            sourceID              name  \\\n",
       "node_id                                                                  \n",
       "59160036  Paradise Papers - Malta corporate registry  RADOMIR VUKCEVIC   \n",
       "59178341  Paradise Papers - Malta corporate registry     ANA DUKANOVIC   \n",
       "59190179  Paradise Papers - Malta corporate registry     ANA KOLAREVIC   \n",
       "59152278  Paradise Papers - Malta corporate registry         Ranin Ltd   \n",
       "59127837  Paradise Papers - Malta corporate registry   DAVID MARINELLI   \n",
       "\n",
       "         countries country_codes  \n",
       "node_id                           \n",
       "59160036       NaN           NaN  \n",
       "59178341       NaN           NaN  \n",
       "59190179       NaN           NaN  \n",
       "59152278       NaN           NaN  \n",
       "59127837       NaN           NaN  "
      ]
     },
     "execution_count": 34,
     "metadata": {},
     "output_type": "execute_result"
    }
   ],
   "source": [
    "paradise_officer_raw[col_order].head()"
   ]
  },
  {
   "cell_type": "markdown",
   "metadata": {},
   "source": [
    "## Final code to pull CSVs"
   ]
  },
  {
   "cell_type": "code",
   "execution_count": 22,
   "metadata": {},
   "outputs": [],
   "source": [
    "keep_cols = ['node_id', 'sourceID', 'name', 'countries', 'country_codes']\n",
    "col_order = ['sourceID', 'name', 'countries', 'country_codes']\n",
    "dtypes = {'node_id':'int32', 'sourceID':'category', 'name':'object', 'country_codes':'category', 'countries':'category'}\n",
    "\n",
    "bahamas_officer_raw = pd.read_csv('../data/raw/bahamas_leaks/bahamas_leaks.nodes.officer.csv', \n",
    "                                 usecols = keep_cols,\n",
    "                                 dtype=dtypes)\n",
    "bahamas_officer_raw = bahamas_officer_raw[col_order]\n",
    "\n",
    "offshore_officer_raw = pd.read_csv('../data/raw/offshore_leaks/offshore_leaks.nodes.officer.csv', \n",
    "                                 usecols = keep_cols,\n",
    "                                 dtype=dtypes)\n",
    "offshore_officer_raw = offshore_officer_raw[col_order]\n",
    "\n",
    "panama_officer_raw = pd.read_csv('../data/raw/panama_papers/panama_papers.nodes.officer.csv', \n",
    "                                 usecols = keep_cols,\n",
    "                                 dtype=dtypes)\n",
    "panama_officer_raw = panama_officer_raw[col_order]\n",
    "\n",
    "paradise_officer_raw = pd.read_csv('../data/raw/paradise_papers/paradise_papers.nodes.officer.csv', \n",
    "                                 usecols = keep_cols,\n",
    "                                 dtype=dtypes)\n",
    "paradise_officer_raw = paradise_officer_raw[col_order]"
   ]
  },
  {
   "cell_type": "code",
   "execution_count": null,
   "metadata": {},
   "outputs": [],
   "source": []
  }
 ],
 "metadata": {
  "kernelspec": {
   "display_name": "Python 3",
   "language": "python",
   "name": "python3"
  },
  "language_info": {
   "codemirror_mode": {
    "name": "ipython",
    "version": 3
   },
   "file_extension": ".py",
   "mimetype": "text/x-python",
   "name": "python",
   "nbconvert_exporter": "python",
   "pygments_lexer": "ipython3",
   "version": "3.7.1"
  }
 },
 "nbformat": 4,
 "nbformat_minor": 4
}
