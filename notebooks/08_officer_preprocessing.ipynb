{
 "cells": [
  {
   "cell_type": "code",
   "execution_count": null,
   "metadata": {},
   "outputs": [],
   "source": [
    "import numpy as np\n",
    "import pandas as pd\n",
    "\n",
    "pd.options.display.max_rows = 999\n",
    "pd.options.display.max_columns = 999\n",
    "pd.options.display.max_colwidth = 150"
   ]
  },
  {
   "cell_type": "code",
   "execution_count": 22,
   "metadata": {},
   "outputs": [],
   "source": [
    "keep_cols = ['node_id', 'sourceID', 'name', 'countries', 'country_codes']\n",
    "col_order = ['sourceID', 'name', 'countries', 'country_codes']\n",
    "dtypes = {'node_id':'int32', 'sourceID':'category', 'name':'object', 'country_codes':'category', 'countries':'category'}\n",
    "\n",
    "bahamas_officer_raw = pd.read_csv('../data/raw/bahamas_leaks/bahamas_leaks.nodes.officer.csv', \n",
    "                                 usecols = keep_cols,\n",
    "                                 dtype=dtypes)\n",
    "bahamas_officer_raw = bahamas_officer_raw[col_order]\n",
    "\n",
    "offshore_officer_raw = pd.read_csv('../data/raw/offshore_leaks/offshore_leaks.nodes.officer.csv', \n",
    "                                 usecols = keep_cols,\n",
    "                                 dtype=dtypes)\n",
    "offshore_officer_raw = offshore_officer_raw[col_order]\n",
    "\n",
    "panama_officer_raw = pd.read_csv('../data/raw/panama_papers/panama_papers.nodes.officer.csv', \n",
    "                                 usecols = keep_cols,\n",
    "                                 dtype=dtypes)\n",
    "panama_officer_raw = panama_officer_raw[col_order]\n",
    "\n",
    "paradise_officer_raw = pd.read_csv('../data/raw/paradise_papers/paradise_papers.nodes.officer.csv', \n",
    "                                 usecols = keep_cols,\n",
    "                                 dtype=dtypes)\n",
    "paradise_officer_raw = paradise_officer_raw[col_order]"
   ]
  },
  {
   "cell_type": "markdown",
   "metadata": {},
   "source": [
    "### To Do\n",
    "\n",
    "- Standardize names (Title Case)\n",
    "- Find duplicates\n",
    "- Why are there company names in here??\n",
    "- Are there names that go across the 4 datasets?"
   ]
  },
  {
   "cell_type": "code",
   "execution_count": null,
   "metadata": {},
   "outputs": [],
   "source": []
  },
  {
   "cell_type": "code",
   "execution_count": null,
   "metadata": {},
   "outputs": [],
   "source": []
  },
  {
   "cell_type": "code",
   "execution_count": null,
   "metadata": {},
   "outputs": [],
   "source": []
  },
  {
   "cell_type": "code",
   "execution_count": null,
   "metadata": {},
   "outputs": [],
   "source": []
  },
  {
   "cell_type": "code",
   "execution_count": 27,
   "metadata": {},
   "outputs": [],
   "source": [
    "bahamas_officer_raw.to_csv('../data/intermediate/bahamas_officers.csv')\n",
    "offshore_officer_raw.to_csv('../data/intermediate/offshore_officers.csv')\n",
    "panama_officer_raw.to_csv('../data/intermediate/panama_officers.csv')\n",
    "paradise_officer_raw.to_csv('../data/intermediate/paradise_officers.csv')"
   ]
  },
  {
   "cell_type": "code",
   "execution_count": null,
   "metadata": {},
   "outputs": [],
   "source": []
  },
  {
   "cell_type": "code",
   "execution_count": null,
   "metadata": {},
   "outputs": [],
   "source": []
  },
  {
   "cell_type": "code",
   "execution_count": null,
   "metadata": {},
   "outputs": [],
   "source": []
  },
  {
   "cell_type": "code",
   "execution_count": null,
   "metadata": {},
   "outputs": [],
   "source": []
  }
 ],
 "metadata": {
  "kernelspec": {
   "display_name": "Python 3",
   "language": "python",
   "name": "python3"
  },
  "language_info": {
   "codemirror_mode": {
    "name": "ipython",
    "version": 3
   },
   "file_extension": ".py",
   "mimetype": "text/x-python",
   "name": "python",
   "nbconvert_exporter": "python",
   "pygments_lexer": "ipython3",
   "version": "3.7.1"
  }
 },
 "nbformat": 4,
 "nbformat_minor": 2
}
