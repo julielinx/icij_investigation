{
 "cells": [
  {
   "cell_type": "code",
   "execution_count": 2,
   "metadata": {},
   "outputs": [],
   "source": [
    "import numpy as np\n",
    "import pandas as pd\n",
    "\n",
    "pd.options.display.max_rows = 999\n",
    "pd.options.display.max_columns = 999\n",
    "pd.options.display.max_colwidth = 150"
   ]
  },
  {
   "cell_type": "code",
   "execution_count": 3,
   "metadata": {},
   "outputs": [],
   "source": [
    "bahamas_intermediary_raw = pd.read_csv('../data/raw/bahamas_leaks/bahamas_leaks.nodes.intermediary.csv')\n",
    "offshore_intermediary_raw = pd.read_csv('../data/raw/offshore_leaks/offshore_leaks.nodes.intermediary.csv')\n",
    "panama_intermediary_raw = pd.read_csv('../data/raw/panama_papers/panama_papers.nodes.intermediary.csv')\n",
    "paradise_intermediary_raw = pd.read_csv('../data/raw/paradise_papers/paradise_papers.nodes.intermediary.csv')"
   ]
  },
  {
   "cell_type": "code",
   "execution_count": 4,
   "metadata": {},
   "outputs": [
    {
     "name": "stdout",
     "output_type": "stream",
     "text": [
      "Bahamas Leaks\n",
      "['address', 'closed_date', 'company_type', 'countries', 'country_codes', 'ibcRUC', 'incorporation_date', 'jurisdiction', 'jurisdiction_description', 'labels(n)', 'name', 'node_id', 'note', 'service_provider', 'sourceID', 'status', 'type', 'valid_until'] \n",
      "\n",
      "Offshore Leaks\n",
      "['countries', 'country_codes', 'name', 'node_id', 'note', 'sourceID', 'status', 'valid_until'] \n",
      "\n",
      "Panama Papers\n",
      "['countries', 'country_codes', 'name', 'node_id', 'note', 'sourceID', 'status', 'valid_until'] \n",
      "\n",
      "Paradise Papers - Bahamas corporate registry\n",
      "['countries', 'country_codes', 'name', 'node_id', 'note', 'sourceID', 'valid_until'] \n",
      "\n"
     ]
    }
   ],
   "source": [
    "datasets = [bahamas_intermediary_raw, offshore_intermediary_raw, panama_intermediary_raw, paradise_intermediary_raw]\n",
    "\n",
    "for ds in datasets:\n",
    "    print(ds.sourceID[0])\n",
    "    print(sorted(ds.columns), '\\n')"
   ]
  },
  {
   "cell_type": "code",
   "execution_count": 8,
   "metadata": {},
   "outputs": [
    {
     "name": "stdout",
     "output_type": "stream",
     "text": [
      "<class 'pandas.core.frame.DataFrame'>\n",
      "RangeIndex: 541 entries, 0 to 540\n",
      "Data columns (total 18 columns):\n",
      "labels(n)                   541 non-null object\n",
      "valid_until                 541 non-null object\n",
      "country_codes               539 non-null object\n",
      "countries                   539 non-null object\n",
      "node_id                     541 non-null int64\n",
      "sourceID                    541 non-null object\n",
      "address                     0 non-null float64\n",
      "name                        541 non-null object\n",
      "jurisdiction_description    0 non-null float64\n",
      "service_provider            0 non-null float64\n",
      "jurisdiction                0 non-null float64\n",
      "closed_date                 0 non-null float64\n",
      "incorporation_date          0 non-null float64\n",
      "ibcRUC                      0 non-null float64\n",
      "type                        0 non-null float64\n",
      "status                      0 non-null float64\n",
      "company_type                0 non-null float64\n",
      "note                        2 non-null object\n",
      "dtypes: float64(10), int64(1), object(7)\n",
      "memory usage: 76.2+ KB\n"
     ]
    }
   ],
   "source": [
    "bahamas_intermediary_raw.info()"
   ]
  },
  {
   "cell_type": "code",
   "execution_count": 4,
   "metadata": {},
   "outputs": [
    {
     "name": "stdout",
     "output_type": "stream",
     "text": [
      "<class 'pandas.core.frame.DataFrame'>\n",
      "RangeIndex: 9526 entries, 0 to 9525\n",
      "Data columns (total 8 columns):\n",
      "node_id          9526 non-null int64\n",
      "name             9525 non-null object\n",
      "country_codes    9526 non-null object\n",
      "countries        9526 non-null object\n",
      "status           0 non-null float64\n",
      "sourceID         9526 non-null object\n",
      "valid_until      9526 non-null object\n",
      "note             1 non-null object\n",
      "dtypes: float64(1), int64(1), object(6)\n",
      "memory usage: 595.5+ KB\n"
     ]
    }
   ],
   "source": [
    "offshore_intermediary_raw.info()"
   ]
  },
  {
   "cell_type": "code",
   "execution_count": 5,
   "metadata": {},
   "outputs": [
    {
     "name": "stdout",
     "output_type": "stream",
     "text": [
      "<class 'pandas.core.frame.DataFrame'>\n",
      "RangeIndex: 14110 entries, 0 to 14109\n",
      "Data columns (total 8 columns):\n",
      "node_id          14110 non-null int64\n",
      "name             14110 non-null object\n",
      "country_codes    12598 non-null object\n",
      "countries        12598 non-null object\n",
      "status           12621 non-null object\n",
      "sourceID         14110 non-null object\n",
      "valid_until      14110 non-null object\n",
      "note             3 non-null object\n",
      "dtypes: int64(1), object(7)\n",
      "memory usage: 882.0+ KB\n"
     ]
    }
   ],
   "source": [
    "panama_intermediary_raw.info()"
   ]
  },
  {
   "cell_type": "code",
   "execution_count": 6,
   "metadata": {},
   "outputs": [
    {
     "name": "stdout",
     "output_type": "stream",
     "text": [
      "<class 'pandas.core.frame.DataFrame'>\n",
      "RangeIndex: 1568 entries, 0 to 1567\n",
      "Data columns (total 7 columns):\n",
      "node_id          1568 non-null int64\n",
      "name             1568 non-null object\n",
      "country_codes    489 non-null object\n",
      "countries        489 non-null object\n",
      "sourceID         1568 non-null object\n",
      "valid_until      1568 non-null object\n",
      "note             1 non-null object\n",
      "dtypes: int64(1), object(6)\n",
      "memory usage: 85.8+ KB\n"
     ]
    }
   ],
   "source": [
    "paradise_intermediary_raw.info()"
   ]
  },
  {
   "cell_type": "code",
   "execution_count": 9,
   "metadata": {},
   "outputs": [
    {
     "name": "stdout",
     "output_type": "stream",
     "text": [
      "Bahamas Leaks\n",
      "(541, 18)\n",
      "541 \n",
      "\n",
      "Offshore Leaks\n",
      "(9526, 8)\n",
      "9526 \n",
      "\n",
      "Panama Papers\n",
      "(14110, 8)\n",
      "14110 \n",
      "\n",
      "Paradise Papers - Bahamas corporate registry\n",
      "(1568, 7)\n",
      "1568 \n",
      "\n"
     ]
    }
   ],
   "source": [
    "for ds in datasets:\n",
    "    print(ds.sourceID.unique()[0])\n",
    "    print(ds.shape)\n",
    "    print(ds.node_id.nunique(), '\\n')"
   ]
  },
  {
   "cell_type": "code",
   "execution_count": 6,
   "metadata": {},
   "outputs": [
    {
     "name": "stdout",
     "output_type": "stream",
     "text": [
      "Bahamas Leaks\n",
      "countries        1\n",
      "country_codes    1\n",
      "dtype: int64 \n",
      "\n",
      "Offshore Leaks\n",
      "countries        137\n",
      "country_codes    137\n",
      "dtype: int64 \n",
      "\n",
      "Panama Papers\n",
      "countries        241\n",
      "country_codes    241\n",
      "dtype: int64 \n",
      "\n",
      "Paradise Papers - Bahamas corporate registry\n",
      "countries        22\n",
      "country_codes    22\n",
      "dtype: int64 \n",
      "\n"
     ]
    }
   ],
   "source": [
    "for ds in datasets:\n",
    "    print(ds.sourceID.unique()[0])\n",
    "    print(ds[['countries', 'country_codes']].nunique(), '\\n')"
   ]
  },
  {
   "cell_type": "markdown",
   "metadata": {},
   "source": [
    "## node_id to be used as unique identifier in database\n",
    "\n",
    "Each row does in fact have its own node id. We'll use this as the unique identifier going forward"
   ]
  },
  {
   "cell_type": "code",
   "execution_count": 11,
   "metadata": {},
   "outputs": [],
   "source": [
    "keep_cols = ['node_id', 'sourceID', 'name', 'countries', 'country_codes']"
   ]
  },
  {
   "cell_type": "code",
   "execution_count": 12,
   "metadata": {},
   "outputs": [
    {
     "data": {
      "text/html": [
       "<div>\n",
       "<style scoped>\n",
       "    .dataframe tbody tr th:only-of-type {\n",
       "        vertical-align: middle;\n",
       "    }\n",
       "\n",
       "    .dataframe tbody tr th {\n",
       "        vertical-align: top;\n",
       "    }\n",
       "\n",
       "    .dataframe thead th {\n",
       "        text-align: right;\n",
       "    }\n",
       "</style>\n",
       "<table border=\"1\" class=\"dataframe\">\n",
       "  <thead>\n",
       "    <tr style=\"text-align: right;\">\n",
       "      <th></th>\n",
       "      <th>node_id</th>\n",
       "      <th>sourceID</th>\n",
       "      <th>name</th>\n",
       "      <th>countries</th>\n",
       "      <th>country_codes</th>\n",
       "    </tr>\n",
       "  </thead>\n",
       "  <tbody>\n",
       "    <tr>\n",
       "      <th>0</th>\n",
       "      <td>23000001</td>\n",
       "      <td>Bahamas Leaks</td>\n",
       "      <td>Internal User</td>\n",
       "      <td>NaN</td>\n",
       "      <td>NaN</td>\n",
       "    </tr>\n",
       "    <tr>\n",
       "      <th>1</th>\n",
       "      <td>23000002</td>\n",
       "      <td>Bahamas Leaks</td>\n",
       "      <td>M &amp; A CORPORATE SERVICES LIMITED</td>\n",
       "      <td>Bahamas</td>\n",
       "      <td>BHS</td>\n",
       "    </tr>\n",
       "    <tr>\n",
       "      <th>2</th>\n",
       "      <td>23000003</td>\n",
       "      <td>Bahamas Leaks</td>\n",
       "      <td>BRITANNIA CONSULTING GROUP</td>\n",
       "      <td>Bahamas</td>\n",
       "      <td>BHS</td>\n",
       "    </tr>\n",
       "    <tr>\n",
       "      <th>3</th>\n",
       "      <td>23000004</td>\n",
       "      <td>Bahamas Leaks</td>\n",
       "      <td>ABACO FSC LTD.</td>\n",
       "      <td>Bahamas</td>\n",
       "      <td>BHS</td>\n",
       "    </tr>\n",
       "    <tr>\n",
       "      <th>4</th>\n",
       "      <td>23000005</td>\n",
       "      <td>Bahamas Leaks</td>\n",
       "      <td>OL PRIVATE CORPORATE COUNSEL LTD.</td>\n",
       "      <td>Bahamas</td>\n",
       "      <td>BHS</td>\n",
       "    </tr>\n",
       "  </tbody>\n",
       "</table>\n",
       "</div>"
      ],
      "text/plain": [
       "    node_id       sourceID                               name countries  \\\n",
       "0  23000001  Bahamas Leaks                      Internal User       NaN   \n",
       "1  23000002  Bahamas Leaks   M & A CORPORATE SERVICES LIMITED   Bahamas   \n",
       "2  23000003  Bahamas Leaks         BRITANNIA CONSULTING GROUP   Bahamas   \n",
       "3  23000004  Bahamas Leaks                     ABACO FSC LTD.   Bahamas   \n",
       "4  23000005  Bahamas Leaks  OL PRIVATE CORPORATE COUNSEL LTD.   Bahamas   \n",
       "\n",
       "  country_codes  \n",
       "0           NaN  \n",
       "1           BHS  \n",
       "2           BHS  \n",
       "3           BHS  \n",
       "4           BHS  "
      ]
     },
     "execution_count": 12,
     "metadata": {},
     "output_type": "execute_result"
    }
   ],
   "source": [
    "bahamas_intermediary_raw[keep_cols].head()"
   ]
  },
  {
   "cell_type": "code",
   "execution_count": 13,
   "metadata": {},
   "outputs": [
    {
     "data": {
      "text/html": [
       "<div>\n",
       "<style scoped>\n",
       "    .dataframe tbody tr th:only-of-type {\n",
       "        vertical-align: middle;\n",
       "    }\n",
       "\n",
       "    .dataframe tbody tr th {\n",
       "        vertical-align: top;\n",
       "    }\n",
       "\n",
       "    .dataframe thead th {\n",
       "        text-align: right;\n",
       "    }\n",
       "</style>\n",
       "<table border=\"1\" class=\"dataframe\">\n",
       "  <thead>\n",
       "    <tr style=\"text-align: right;\">\n",
       "      <th></th>\n",
       "      <th>node_id</th>\n",
       "      <th>sourceID</th>\n",
       "      <th>name</th>\n",
       "      <th>countries</th>\n",
       "      <th>country_codes</th>\n",
       "    </tr>\n",
       "  </thead>\n",
       "  <tbody>\n",
       "    <tr>\n",
       "      <th>0</th>\n",
       "      <td>51122</td>\n",
       "      <td>Offshore Leaks</td>\n",
       "      <td>Peng, Wan-Hsiung</td>\n",
       "      <td>Taiwan</td>\n",
       "      <td>TWN</td>\n",
       "    </tr>\n",
       "    <tr>\n",
       "      <th>1</th>\n",
       "      <td>51149</td>\n",
       "      <td>Offshore Leaks</td>\n",
       "      <td>Shin Tae Young</td>\n",
       "      <td>United Arab Emirates</td>\n",
       "      <td>ARE</td>\n",
       "    </tr>\n",
       "    <tr>\n",
       "      <th>2</th>\n",
       "      <td>51162</td>\n",
       "      <td>Offshore Leaks</td>\n",
       "      <td>Lin Celina</td>\n",
       "      <td>Hong Kong</td>\n",
       "      <td>HKG</td>\n",
       "    </tr>\n",
       "    <tr>\n",
       "      <th>3</th>\n",
       "      <td>51224</td>\n",
       "      <td>Offshore Leaks</td>\n",
       "      <td>R E Douglas B Juday</td>\n",
       "      <td>United States</td>\n",
       "      <td>USA</td>\n",
       "    </tr>\n",
       "    <tr>\n",
       "      <th>4</th>\n",
       "      <td>51270</td>\n",
       "      <td>Offshore Leaks</td>\n",
       "      <td>Chun Thong Ping</td>\n",
       "      <td>Singapore</td>\n",
       "      <td>SGP</td>\n",
       "    </tr>\n",
       "  </tbody>\n",
       "</table>\n",
       "</div>"
      ],
      "text/plain": [
       "   node_id        sourceID                 name             countries  \\\n",
       "0    51122  Offshore Leaks     Peng, Wan-Hsiung                Taiwan   \n",
       "1    51149  Offshore Leaks       Shin Tae Young  United Arab Emirates   \n",
       "2    51162  Offshore Leaks           Lin Celina             Hong Kong   \n",
       "3    51224  Offshore Leaks  R E Douglas B Juday         United States   \n",
       "4    51270  Offshore Leaks      Chun Thong Ping             Singapore   \n",
       "\n",
       "  country_codes  \n",
       "0           TWN  \n",
       "1           ARE  \n",
       "2           HKG  \n",
       "3           USA  \n",
       "4           SGP  "
      ]
     },
     "execution_count": 13,
     "metadata": {},
     "output_type": "execute_result"
    }
   ],
   "source": [
    "offshore_intermediary_raw[keep_cols].head()"
   ]
  },
  {
   "cell_type": "code",
   "execution_count": 14,
   "metadata": {},
   "outputs": [
    {
     "data": {
      "text/html": [
       "<div>\n",
       "<style scoped>\n",
       "    .dataframe tbody tr th:only-of-type {\n",
       "        vertical-align: middle;\n",
       "    }\n",
       "\n",
       "    .dataframe tbody tr th {\n",
       "        vertical-align: top;\n",
       "    }\n",
       "\n",
       "    .dataframe thead th {\n",
       "        text-align: right;\n",
       "    }\n",
       "</style>\n",
       "<table border=\"1\" class=\"dataframe\">\n",
       "  <thead>\n",
       "    <tr style=\"text-align: right;\">\n",
       "      <th></th>\n",
       "      <th>node_id</th>\n",
       "      <th>sourceID</th>\n",
       "      <th>name</th>\n",
       "      <th>countries</th>\n",
       "      <th>country_codes</th>\n",
       "    </tr>\n",
       "  </thead>\n",
       "  <tbody>\n",
       "    <tr>\n",
       "      <th>0</th>\n",
       "      <td>11000001</td>\n",
       "      <td>Panama Papers</td>\n",
       "      <td>MICHAEL PAPAGEORGE, MR.</td>\n",
       "      <td>South Africa</td>\n",
       "      <td>ZAF</td>\n",
       "    </tr>\n",
       "    <tr>\n",
       "      <th>1</th>\n",
       "      <td>11000002</td>\n",
       "      <td>Panama Papers</td>\n",
       "      <td>CORFIDUCIA ANSTALT</td>\n",
       "      <td>Liechtenstein</td>\n",
       "      <td>LIE</td>\n",
       "    </tr>\n",
       "    <tr>\n",
       "      <th>2</th>\n",
       "      <td>11000003</td>\n",
       "      <td>Panama Papers</td>\n",
       "      <td>DAVID, RONALD</td>\n",
       "      <td>Monaco</td>\n",
       "      <td>MCO</td>\n",
       "    </tr>\n",
       "    <tr>\n",
       "      <th>3</th>\n",
       "      <td>11000004</td>\n",
       "      <td>Panama Papers</td>\n",
       "      <td>DE  BOUTSELIS, JEAN-PIERRE</td>\n",
       "      <td>Belgium</td>\n",
       "      <td>BEL</td>\n",
       "    </tr>\n",
       "    <tr>\n",
       "      <th>4</th>\n",
       "      <td>11000005</td>\n",
       "      <td>Panama Papers</td>\n",
       "      <td>THE LEVANT LAWYERS (TLL)</td>\n",
       "      <td>Lebanon</td>\n",
       "      <td>LBN</td>\n",
       "    </tr>\n",
       "  </tbody>\n",
       "</table>\n",
       "</div>"
      ],
      "text/plain": [
       "    node_id       sourceID                        name      countries  \\\n",
       "0  11000001  Panama Papers     MICHAEL PAPAGEORGE, MR.   South Africa   \n",
       "1  11000002  Panama Papers          CORFIDUCIA ANSTALT  Liechtenstein   \n",
       "2  11000003  Panama Papers               DAVID, RONALD         Monaco   \n",
       "3  11000004  Panama Papers  DE  BOUTSELIS, JEAN-PIERRE        Belgium   \n",
       "4  11000005  Panama Papers    THE LEVANT LAWYERS (TLL)        Lebanon   \n",
       "\n",
       "  country_codes  \n",
       "0           ZAF  \n",
       "1           LIE  \n",
       "2           MCO  \n",
       "3           BEL  \n",
       "4           LBN  "
      ]
     },
     "execution_count": 14,
     "metadata": {},
     "output_type": "execute_result"
    }
   ],
   "source": [
    "panama_intermediary_raw[keep_cols].head()"
   ]
  },
  {
   "cell_type": "code",
   "execution_count": 15,
   "metadata": {},
   "outputs": [
    {
     "data": {
      "text/html": [
       "<div>\n",
       "<style scoped>\n",
       "    .dataframe tbody tr th:only-of-type {\n",
       "        vertical-align: middle;\n",
       "    }\n",
       "\n",
       "    .dataframe tbody tr th {\n",
       "        vertical-align: top;\n",
       "    }\n",
       "\n",
       "    .dataframe thead th {\n",
       "        text-align: right;\n",
       "    }\n",
       "</style>\n",
       "<table border=\"1\" class=\"dataframe\">\n",
       "  <thead>\n",
       "    <tr style=\"text-align: right;\">\n",
       "      <th></th>\n",
       "      <th>node_id</th>\n",
       "      <th>sourceID</th>\n",
       "      <th>name</th>\n",
       "      <th>countries</th>\n",
       "      <th>country_codes</th>\n",
       "    </tr>\n",
       "  </thead>\n",
       "  <tbody>\n",
       "    <tr>\n",
       "      <th>0</th>\n",
       "      <td>34304771</td>\n",
       "      <td>Paradise Papers - Bahamas corporate registry</td>\n",
       "      <td>CITITRUST (BAHAMAS) LIMITED</td>\n",
       "      <td>Bahamas</td>\n",
       "      <td>BHS</td>\n",
       "    </tr>\n",
       "    <tr>\n",
       "      <th>1</th>\n",
       "      <td>80000189</td>\n",
       "      <td>Paradise Papers - Appleby</td>\n",
       "      <td>Appleby Management (Bermuda) Ltd.</td>\n",
       "      <td>Bermuda</td>\n",
       "      <td>BMU</td>\n",
       "    </tr>\n",
       "    <tr>\n",
       "      <th>2</th>\n",
       "      <td>80000191</td>\n",
       "      <td>Paradise Papers - Appleby</td>\n",
       "      <td>Appleby Services (Bermuda) Ltd.</td>\n",
       "      <td>Bermuda</td>\n",
       "      <td>BMU</td>\n",
       "    </tr>\n",
       "    <tr>\n",
       "      <th>3</th>\n",
       "      <td>80000392</td>\n",
       "      <td>Paradise Papers - Appleby</td>\n",
       "      <td>Appleby Corporate Services (BVI) Limited</td>\n",
       "      <td>British Virgin Islands</td>\n",
       "      <td>VGB</td>\n",
       "    </tr>\n",
       "    <tr>\n",
       "      <th>4</th>\n",
       "      <td>80007709</td>\n",
       "      <td>Paradise Papers - Appleby</td>\n",
       "      <td>Appleby Corporate Services (HK) Limited</td>\n",
       "      <td>Hong Kong</td>\n",
       "      <td>HKG</td>\n",
       "    </tr>\n",
       "  </tbody>\n",
       "</table>\n",
       "</div>"
      ],
      "text/plain": [
       "    node_id                                      sourceID  \\\n",
       "0  34304771  Paradise Papers - Bahamas corporate registry   \n",
       "1  80000189                     Paradise Papers - Appleby   \n",
       "2  80000191                     Paradise Papers - Appleby   \n",
       "3  80000392                     Paradise Papers - Appleby   \n",
       "4  80007709                     Paradise Papers - Appleby   \n",
       "\n",
       "                                       name               countries  \\\n",
       "0               CITITRUST (BAHAMAS) LIMITED                 Bahamas   \n",
       "1         Appleby Management (Bermuda) Ltd.                 Bermuda   \n",
       "2           Appleby Services (Bermuda) Ltd.                 Bermuda   \n",
       "3  Appleby Corporate Services (BVI) Limited  British Virgin Islands   \n",
       "4   Appleby Corporate Services (HK) Limited               Hong Kong   \n",
       "\n",
       "  country_codes  \n",
       "0           BHS  \n",
       "1           BMU  \n",
       "2           BMU  \n",
       "3           VGB  \n",
       "4           HKG  "
      ]
     },
     "execution_count": 15,
     "metadata": {},
     "output_type": "execute_result"
    }
   ],
   "source": [
    "paradise_intermediary_raw[keep_cols].head()"
   ]
  },
  {
   "cell_type": "code",
   "execution_count": null,
   "metadata": {},
   "outputs": [],
   "source": [
    "keep_cols = ['node_id', 'sourceID', 'name', 'countries', 'country_codes']\n",
    "dtypes = = {'node_id': 'int32', 'sourceID':'category', 'name':'object',\n",
    "            'countries':'category', 'country_codes':'category'}\n",
    "\n",
    "bahamas_intermediary_raw = pd.read_csv('../data/raw/bahamas_leaks/bahamas_leaks.nodes.intermediary.csv', \n",
    "                                 usecols = keep_cols,\n",
    "                                 dtype=dtypes)\n",
    "offshore_intermediary_raw = pd.read_csv('../data/raw/offshore_leaks/offshore_leaks.nodes.intermediary.csv', \n",
    "                                 usecols = keep_cols,\n",
    "                                 dtype=dtypes)\n",
    "panama_intermediary_raw = pd.read_csv('../data/raw/panama_papers/panama_papers.nodes.intermediary.csv', \n",
    "                                 usecols = keep_cols,\n",
    "                                 dtype=dtypes)\n",
    "paradise_intermediary_raw = pd.read_csv('../data/raw/paradise_papers/paradise_papers.nodes.intermediary.csv', \n",
    "                                 usecols = keep_cols,\n",
    "                                 dtype=dtypes)"
   ]
  },
  {
   "cell_type": "code",
   "execution_count": null,
   "metadata": {},
   "outputs": [],
   "source": []
  },
  {
   "cell_type": "code",
   "execution_count": null,
   "metadata": {},
   "outputs": [],
   "source": []
  }
 ],
 "metadata": {
  "kernelspec": {
   "display_name": "Python 3",
   "language": "python",
   "name": "python3"
  },
  "language_info": {
   "codemirror_mode": {
    "name": "ipython",
    "version": 3
   },
   "file_extension": ".py",
   "mimetype": "text/x-python",
   "name": "python",
   "nbconvert_exporter": "python",
   "pygments_lexer": "ipython3",
   "version": "3.7.1"
  }
 },
 "nbformat": 4,
 "nbformat_minor": 4
}
