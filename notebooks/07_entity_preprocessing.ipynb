{
 "cells": [
  {
   "cell_type": "code",
   "execution_count": null,
   "metadata": {},
   "outputs": [],
   "source": [
    "import numpy as np\n",
    "import pandas as pd\n",
    "\n",
    "pd.options.display.max_rows = 999\n",
    "pd.options.display.max_columns = 999\n",
    "pd.options.display.max_colwidth = 150"
   ]
  },
  {
   "cell_type": "code",
   "execution_count": 40,
   "metadata": {},
   "outputs": [],
   "source": [
    "keep_cols = ['node_id', 'sourceID', 'name', 'incorporation_date', 'country_codes', 'countries',\n",
    "             'jurisdiction_description', 'jurisdiction', 'service_provider', 'status']\n",
    "dtypes = {'node_id': 'int32', 'sourceID':'category', 'name':'object', 'country_codes':'category', 'countries':'category',\n",
    "          'jurisdiction_description':'category', 'jurisdiction':'category', 'service_provider':'category', 'status':'category'}\n",
    "\n",
    "bahamas_entity_raw = pd.read_csv('../data/raw/bahamas_leaks/bahamas_leaks.nodes.entity.csv', \n",
    "                                 usecols = keep_cols,\n",
    "                                 dtype=dtypes,\n",
    "                                 parse_dates=['incorporation_date'])\n",
    "offshore_entity_raw = pd.read_csv('../data/raw/offshore_leaks/offshore_leaks.nodes.entity.csv', \n",
    "                                 usecols = keep_cols,\n",
    "                                 dtype=dtypes,\n",
    "                                 parse_dates=['incorporation_date'])\n",
    "panama_entity_raw = pd.read_csv('../data/raw/panama_papers/panama_papers.nodes.entity.csv', \n",
    "                                 usecols = keep_cols,\n",
    "                                 dtype=dtypes,\n",
    "                                 parse_dates=['incorporation_date'])\n",
    "paradise_entity_raw = pd.read_csv('../data/raw/paradise_papers/paradise_papers.nodes.entity.csv', \n",
    "                                 usecols = keep_cols,\n",
    "                                 dtype=dtypes,\n",
    "                                 parse_dates=['incorporation_date'])"
   ]
  },
  {
   "cell_type": "code",
   "execution_count": null,
   "metadata": {},
   "outputs": [],
   "source": [
    "datasets = [bahamas_entity_raw, offshore_entity_raw, panama_entity_raw, paradise_entity_raw]"
   ]
  },
  {
   "cell_type": "markdown",
   "metadata": {},
   "source": [
    "## status"
   ]
  },
  {
   "cell_type": "code",
   "execution_count": 42,
   "metadata": {},
   "outputs": [
    {
     "name": "stdout",
     "output_type": "stream",
     "text": [
      "Investigation: Bahamas Leaks\n",
      "Number of rows in dataset: 175888\n",
      "Number of populated rows: 0\n",
      "Difference between the number of rows and the populated rows: 175888\n",
      "Number of unique entries: 0\n",
      "Difference between the number of populated entries and the number of unique entries: 0\n",
      "Series([], Name: status, dtype: int64) \n",
      "\n",
      "Investigation: Offshore Leaks\n",
      "Number of rows in dataset: 105516\n",
      "Number of populated rows: 96475\n",
      "Difference between the number of rows and the populated rows: 9041\n",
      "Number of unique entries: 21\n",
      "Difference between the number of populated entries and the number of unique entries: 96454\n",
      "Active                                   46004\n",
      "Dead                                     23095\n",
      "Struck / Defunct / Deregistered          19486\n",
      "Transferred OUT                           2637\n",
      "Transferred Out                           1807\n",
      "Liquidated                                 826\n",
      "Company liquidated                         742\n",
      "Not To Be Renewed / In Deregistration      663\n",
      "Shelf                                      616\n",
      "We resigned as registered agent            160\n",
      "In Formation                               109\n",
      "Un Registered                               91\n",
      "In Liquidation                              87\n",
      "Vesting                                     38\n",
      "Discontinuance                              37\n",
      "Redomiciled                                 29\n",
      "Inactive                                    25\n",
      "Liquidation in Progress                     16\n",
      "Client Sundry Account                        3\n",
      "Sundry Account                               3\n",
      "Not Renewed by Client                        1\n",
      "Name: status, dtype: int64 \n",
      "\n",
      "Investigation: Panama Papers\n",
      "Number of rows in dataset: 213634\n",
      "Number of populated rows: 213631\n",
      "Difference between the number of rows and the populated rows: 3\n",
      "Number of unique entries: 17\n",
      "Difference between the number of populated entries and the number of unique entries: 213614\n",
      "Defaulted                             100090\n",
      "Active                                 55728\n",
      "Dissolved                              22377\n",
      "Changed agent                          16043\n",
      "Inactivated                             7640\n",
      "Resigned as agent                       3174\n",
      "Shelf company                           2576\n",
      "Dissolved shelf company                 1573\n",
      "Bad debt account                        1416\n",
      "Trash company                            878\n",
      "In transition                            776\n",
      "Relocated in new jurisdiction            672\n",
      "Discontinued                             423\n",
      "Shelf company not possible to sell       201\n",
      "In liquidation                            40\n",
      "Change in administration pending          21\n",
      "Resigned as agent of shelf company         3\n",
      "Name: status, dtype: int64 \n",
      "\n",
      "Investigation: Paradise Papers - Aruba corporate registry\n",
      "Number of rows in dataset: 290086\n",
      "Number of populated rows: 27676\n",
      "Difference between the number of rows and the populated rows: 262410\n",
      "Number of unique entries: 14\n",
      "Difference between the number of populated entries and the number of unique entries: 27662\n",
      "Struck Off                       14737\n",
      "In Dissolution                    6688\n",
      "Struck Off as Defunct             2879\n",
      "Struck Off Following Merger       1447\n",
      "Registered                        1014\n",
      "Deregistered                       452\n",
      "Struck Off Following Division      115\n",
      "Pending                             94\n",
      "In Process of Merging               74\n",
      "Subject to UN/EU Sanctions          62\n",
      "In Process of Converting            58\n",
      "Removed                             49\n",
      "Active                               4\n",
      "Winding Up                           3\n",
      "Name: status, dtype: int64 \n",
      "\n"
     ]
    }
   ],
   "source": [
    "for ds in datasets:\n",
    "    print('Investigation:', ds.sourceID.unique()[0])\n",
    "    ds_col = ds.status\n",
    "    print('Number of rows in dataset:', ds_col.shape[0])\n",
    "    print('Number of populated rows:', ds_col.count())\n",
    "    print('Difference between the number of rows and the populated rows:', ds_col.shape[0] - ds_col.count())\n",
    "    print('Number of unique entries:', ds_col.nunique())\n",
    "    print('Difference between the number of populated entries and the number of unique entries:', ds_col.count() - ds_col.nunique())\n",
    "    print(ds_col.value_counts(), '\\n')"
   ]
  },
  {
   "cell_type": "code",
   "execution_count": null,
   "metadata": {},
   "outputs": [],
   "source": [
    "df.loc[df['comorbidity'].str.contains('anxi|depression|ptsd', na=False), 'comorbidity'] = 'Psych'"
   ]
  },
  {
   "cell_type": "code",
   "execution_count": 53,
   "metadata": {},
   "outputs": [
    {
     "data": {
      "text/plain": [
       "node_id\n",
       "67028                Dead\n",
       "67243                Dead\n",
       "67258          Liquidated\n",
       "67266     Transferred Out\n",
       "108050                NaN\n",
       "Name: status, dtype: object"
      ]
     },
     "execution_count": 53,
     "metadata": {},
     "output_type": "execute_result"
    }
   ],
   "source": [
    "offshore_entity_raw.status.str.title().head()"
   ]
  },
  {
   "cell_type": "code",
   "execution_count": 62,
   "metadata": {},
   "outputs": [],
   "source": [
    "import nltk\n",
    "import string\n",
    "import re"
   ]
  },
  {
   "cell_type": "code",
   "execution_count": 72,
   "metadata": {},
   "outputs": [],
   "source": [
    "for ds in [offshore_entity_raw, panama_entity_raw, paradise_entity_raw]:\n",
    "    ds['status'] = ds['status'].str.lower()\n",
    "    ds.loc[ds['status'].str.contains('liquidation', na=False), 'status'] = 'in liquidation'\n",
    "    ds.loc[ds['status'].str.contains('liquidated', na=False), 'status'] = 'liquidated'\n",
    "    ds.loc[ds['status'].str.contains('resigned', na=False), 'status'] = 'resigned agent'\n",
    "    ds.loc[ds['status'].str.contains('sundry', na=False), 'status'] = 'sundry account'\n",
    "    ds.loc[ds['status'].str.contains('dissolved', na=False), 'status'] = 'dissolved'\n",
    "    ds.loc[ds['status'].str.contains('struck|defunct|deregistered', na=False), 'status'] = 'struck / defunct / deregistered'   \n",
    "    ds['status'] = ds['status'].str.title()\n"
   ]
  },
  {
   "cell_type": "code",
   "execution_count": 86,
   "metadata": {},
   "outputs": [
    {
     "data": {
      "text/plain": [
       "array(['Transferred Out'], dtype=object)"
      ]
     },
     "execution_count": 86,
     "metadata": {},
     "output_type": "execute_result"
    }
   ],
   "source": [
    "offshore_entity_raw.loc[offshore_entity_raw['status'].str.lower().str.contains('transferred', na=False), 'status'].str.title().unique()"
   ]
  },
  {
   "cell_type": "code",
   "execution_count": 73,
   "metadata": {},
   "outputs": [
    {
     "name": "stdout",
     "output_type": "stream",
     "text": [
      "Investigation: Bahamas Leaks\n",
      "Number of rows in dataset: 175888\n",
      "Number of populated rows: 0\n",
      "Difference between the number of rows and the populated rows: 175888\n",
      "Number of unique entries: 0\n",
      "Difference between the number of populated entries and the number of unique entries: 0\n",
      "Series([], Name: status, dtype: int64) \n",
      "\n",
      "Investigation: Offshore Leaks\n",
      "Number of rows in dataset: 105516\n",
      "Number of populated rows: 96475\n",
      "Difference between the number of rows and the populated rows: 9041\n",
      "Number of unique entries: 21\n",
      "Difference between the number of populated entries and the number of unique entries: 96454\n",
      "Active                                   46004\n",
      "Dead                                     23095\n",
      "Struck / Defunct / Deregistered          19486\n",
      "Transferred OUT                           2637\n",
      "Transferred Out                           1807\n",
      "Liquidated                                 826\n",
      "Company liquidated                         742\n",
      "Not To Be Renewed / In Deregistration      663\n",
      "Shelf                                      616\n",
      "We resigned as registered agent            160\n",
      "In Formation                               109\n",
      "Un Registered                               91\n",
      "In Liquidation                              87\n",
      "Vesting                                     38\n",
      "Discontinuance                              37\n",
      "Redomiciled                                 29\n",
      "Inactive                                    25\n",
      "Liquidation in Progress                     16\n",
      "Client Sundry Account                        3\n",
      "Sundry Account                               3\n",
      "Not Renewed by Client                        1\n",
      "Name: status, dtype: int64 \n",
      "\n",
      "Investigation: Panama Papers\n",
      "Number of rows in dataset: 213634\n",
      "Number of populated rows: 213631\n",
      "Difference between the number of rows and the populated rows: 3\n",
      "Number of unique entries: 17\n",
      "Difference between the number of populated entries and the number of unique entries: 213614\n",
      "Defaulted                             100090\n",
      "Active                                 55728\n",
      "Dissolved                              22377\n",
      "Changed agent                          16043\n",
      "Inactivated                             7640\n",
      "Resigned as agent                       3174\n",
      "Shelf company                           2576\n",
      "Dissolved shelf company                 1573\n",
      "Bad debt account                        1416\n",
      "Trash company                            878\n",
      "In transition                            776\n",
      "Relocated in new jurisdiction            672\n",
      "Discontinued                             423\n",
      "Shelf company not possible to sell       201\n",
      "In liquidation                            40\n",
      "Change in administration pending          21\n",
      "Resigned as agent of shelf company         3\n",
      "Name: status, dtype: int64 \n",
      "\n",
      "Investigation: Paradise Papers - Aruba corporate registry\n",
      "Number of rows in dataset: 290086\n",
      "Number of populated rows: 27676\n",
      "Difference between the number of rows and the populated rows: 262410\n",
      "Number of unique entries: 14\n",
      "Difference between the number of populated entries and the number of unique entries: 27662\n",
      "Struck Off                       14737\n",
      "In Dissolution                    6688\n",
      "Struck Off as Defunct             2879\n",
      "Struck Off Following Merger       1447\n",
      "Registered                        1014\n",
      "Deregistered                       452\n",
      "Struck Off Following Division      115\n",
      "Pending                             94\n",
      "In Process of Merging               74\n",
      "Subject to UN/EU Sanctions          62\n",
      "In Process of Converting            58\n",
      "Removed                             49\n",
      "Active                               4\n",
      "Winding Up                           3\n",
      "Name: status, dtype: int64 \n",
      "\n"
     ]
    }
   ],
   "source": [
    "for ds in datasets:\n",
    "    print('Investigation:', ds.sourceID.unique()[0])\n",
    "    ds_col = ds.status\n",
    "    print('Number of rows in dataset:', ds_col.shape[0])\n",
    "    print('Number of populated rows:', ds_col.count())\n",
    "    print('Difference between the number of rows and the populated rows:', ds_col.shape[0] - ds_col.count())\n",
    "    print('Number of unique entries:', ds_col.nunique())\n",
    "    print('Difference between the number of populated entries and the number of unique entries:', ds_col.count() - ds_col.nunique())\n",
    "    print(ds_col.value_counts(), '\\n')"
   ]
  },
  {
   "cell_type": "code",
   "execution_count": null,
   "metadata": {},
   "outputs": [],
   "source": []
  },
  {
   "cell_type": "code",
   "execution_count": null,
   "metadata": {},
   "outputs": [],
   "source": []
  },
  {
   "cell_type": "code",
   "execution_count": null,
   "metadata": {},
   "outputs": [],
   "source": []
  },
  {
   "cell_type": "code",
   "execution_count": null,
   "metadata": {},
   "outputs": [],
   "source": []
  },
  {
   "cell_type": "code",
   "execution_count": null,
   "metadata": {},
   "outputs": [],
   "source": [
    "bahamas_entity_raw.to_csv('../data/intermediate/bahamas_entity.csv')\n",
    "offshore_entity_raw.to_csv('../data/intermediate/offshore_entity.csv')\n",
    "panama_entity_raw.to_csv('../data/intermediate/panama_entity.csv')\n",
    "paradise_entity_raw.to_csv('/data/intermediate/paradise_entity.csv')"
   ]
  }
 ],
 "metadata": {
  "kernelspec": {
   "display_name": "Python 3",
   "language": "python",
   "name": "python3"
  },
  "language_info": {
   "codemirror_mode": {
    "name": "ipython",
    "version": 3
   },
   "file_extension": ".py",
   "mimetype": "text/x-python",
   "name": "python",
   "nbconvert_exporter": "python",
   "pygments_lexer": "ipython3",
   "version": "3.7.1"
  }
 },
 "nbformat": 4,
 "nbformat_minor": 2
}
