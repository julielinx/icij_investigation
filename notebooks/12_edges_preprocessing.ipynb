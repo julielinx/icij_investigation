{
 "cells": [
  {
   "cell_type": "code",
   "execution_count": null,
   "metadata": {},
   "outputs": [],
   "source": [
    "import numpy as np\n",
    "import pandas as pd\n",
    "\n",
    "pd.options.display.max_rows = 999\n",
    "pd.options.display.max_columns = 999\n",
    "pd.options.display.max_colwidth = 150"
   ]
  },
  {
   "cell_type": "code",
   "execution_count": null,
   "metadata": {},
   "outputs": [],
   "source": [
    "bahamas_edge_raw = pd.read_csv('../data/raw/bahamas_leaks/bahamas_leaks.edges.csv')\n",
    "offshore_edge_raw = pd.read_csv('../data/raw/offshore_leaks/offshore_leaks.edges.csv')\n",
    "panama_edge_raw = pd.read_csv('../data/raw/panama_papers/panama_papers.edges.csv')\n",
    "paradise_edge_raw = pd.read_csv('../data/raw/paradise_papers/paradise_papers.edges.csv')"
   ]
  },
  {
   "cell_type": "markdown",
   "metadata": {},
   "source": [
    "## To Do\n",
    "\n",
    "- Standardize the column names\n",
    "- Remove column `valid_until`\n",
    "- Why are rel_type/TYPE and link columns different?\n",
    "- Parse dates to standard format/datetime[64]"
   ]
  },
  {
   "cell_type": "markdown",
   "metadata": {},
   "source": [
    "## Date Formats\n",
    "\n",
    "There are multiple date formats in the start_date and end_date columns. These differences include:\n",
    "\n",
    "- the month represented as a number and as an abbreviated string (14-MAR-2015 and 03/14/2015)\n",
    "- the year as two digits and as four (15 and 2015)\n",
    "- the month and day represented as two digits and one (03 and 3)\n",
    "- no way to tell whether the day or month comes first (03/09/2015 could be March 9th or September 3rd, there are no digits in the non-year sections that are above 12)\n",
    "\n",
    "### Why would anyone record dates in multiple formats??\n",
    "\n",
    "Couple of reasons come to mind, this is real world data after all\n",
    "\n",
    "- Dates probably come from underlying source data. As this comes from different sources, they may have been recorded in different formats and just collated without any cleaning\n",
    "- Someone could have opened it in Excel, which tends to change things. It may have updated the date for the ones it knew and left ones that it didn't (where day is > 12)\n",
    "\n",
    "### Plan of attack\n",
    "\n",
    "Regardless of the reason, this needs to be addressed.\n",
    "\n",
    "The format including abbreviated month names is easy, they're all in the same format: d%-%b-%Y and can be separated out using df['date'].str.contains('-', na=False)\n",
    "\n",
    "The fully numeric format isn't as easy, there are 3 different formats and no indication on whether the month or day comes first. Only consistent piece is that the year comes last.\n",
    "\n",
    "As we aren't making any real-world applicable decisions, we could just arbitrarily pick whether to parse the date as the day first. However, we can get a little more accurate.\n",
    "\n",
    "Using the Wikipedia page https://en.wikipedia.org/wiki/Date_format_by_country we can use where the data came from to make an educated guess as to the probable date format.\n",
    "\n",
    "- Bahamas Leaks data came from the official corporate registry of the Bahamas. So we can guess they use the MDY format.\n",
    "- Offshore Leaks data came from offshore entities incorporated through Portcullis Trustnet (based in the Cook Islands) and Commonwealth Limited (based in the British Virgin Islands). The islands both companies are based in typically use the DMY date format.\n",
    "- Panama Papers data came from a Panama law firm. Panama uses the MDY format.\n",
    "- Paradise Papers data comes from the most varied data sources. According to the IJIC website, this data comes from the corporate registeries from seven countries: Aruba, Bahamas, Barbados, Nevis, Cook Islands, Malta, and Samoa. However, looking at the unique sourceIDs, we can see Lebanon also included. Fortunately, all of those countries use the same date format except Samoa. Majority: DMY, Samoa: MDY\n",
    "\n",
    "### Date Format Decision\n",
    "\n",
    "- Bahamas Leaks: MDY\n",
    "- Offshore Leaks: DMY\n",
    "- Panama Papers: MDY\n",
    "- Paradise Papers: separate by df['sourceID'].str.contains('Samoa', na=False)\n",
    "  + contains Samoa: MDY\n",
    "  + doesn't contain Samoa: DMY\n",
    "\n",
    "### Numeric difference plan of attack\n",
    "\n",
    "- Two vs Four digit year: split on '\\' and look at length of 3rd segment\n",
    "- Four digit year\n",
    "    + If length of the string is < 10 month/day are not zero padded\n",
    "    + If length of string = 10 (dd/mm/yyyy) month/day are zero padded\n",
    "- Two digit year\n",
    "    + If length of string is < 8 month/day are not zero padded\n",
    "    + If length of string = 8 (dd/mm/yy)"
   ]
  },
  {
   "cell_type": "code",
   "execution_count": null,
   "metadata": {},
   "outputs": [],
   "source": []
  },
  {
   "cell_type": "code",
   "execution_count": null,
   "metadata": {},
   "outputs": [],
   "source": []
  }
 ],
 "metadata": {
  "kernelspec": {
   "display_name": "Python 3",
   "language": "python",
   "name": "python3"
  },
  "language_info": {
   "codemirror_mode": {
    "name": "ipython",
    "version": 3
   },
   "file_extension": ".py",
   "mimetype": "text/x-python",
   "name": "python",
   "nbconvert_exporter": "python",
   "pygments_lexer": "ipython3",
   "version": "3.7.1"
  }
 },
 "nbformat": 4,
 "nbformat_minor": 2
}
