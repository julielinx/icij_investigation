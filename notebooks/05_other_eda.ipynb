{
 "cells": [
  {
   "cell_type": "code",
   "execution_count": 2,
   "metadata": {},
   "outputs": [],
   "source": [
    "import numpy as np\n",
    "import pandas as pd\n",
    "\n",
    "pd.options.display.max_rows = 999\n",
    "pd.options.display.max_columns = 999\n",
    "pd.options.display.max_colwidth = 150"
   ]
  },
  {
   "cell_type": "code",
   "execution_count": 20,
   "metadata": {},
   "outputs": [
    {
     "name": "stderr",
     "output_type": "stream",
     "text": [
      "C:\\Users\\Julie\\Anaconda3\\lib\\site-packages\\IPython\\core\\interactiveshell.py:3020: DtypeWarning: Columns (2,3) have mixed types. Specify dtype option on import or set low_memory=False.\n",
      "  interactivity=interactivity, compiler=compiler, result=result)\n",
      "C:\\Users\\Julie\\Anaconda3\\lib\\site-packages\\IPython\\core\\interactiveshell.py:3020: DtypeWarning: Columns (4,5) have mixed types. Specify dtype option on import or set low_memory=False.\n",
      "  interactivity=interactivity, compiler=compiler, result=result)\n"
     ]
    }
   ],
   "source": [
    "other_raw = pd.read_csv('../data/raw/paradise_papers/paradise_papers.nodes.other.csv')\n",
    "officer_raw = pd.read_csv('../data/raw/paradise_papers/paradise_papers.nodes.officer.csv',\n",
    "                          usecols = ['node_id', 'sourceID', 'name', 'countries', 'country_codes'])\n",
    "entity_raw = pd.read_csv('../data/raw/paradise_papers/paradise_papers.nodes.entity.csv',\n",
    "                          usecols = ['node_id', 'sourceID', 'name', 'countries', 'country_codes'])\n",
    "intermediary_raw = pd.read_csv('../data/raw/paradise_papers/paradise_papers.nodes.intermediary.csv',\n",
    "                          usecols = ['node_id', 'sourceID', 'name', 'countries', 'country_codes'])"
   ]
  },
  {
   "cell_type": "code",
   "execution_count": 4,
   "metadata": {},
   "outputs": [
    {
     "data": {
      "text/html": [
       "<div>\n",
       "<style scoped>\n",
       "    .dataframe tbody tr th:only-of-type {\n",
       "        vertical-align: middle;\n",
       "    }\n",
       "\n",
       "    .dataframe tbody tr th {\n",
       "        vertical-align: top;\n",
       "    }\n",
       "\n",
       "    .dataframe thead th {\n",
       "        text-align: right;\n",
       "    }\n",
       "</style>\n",
       "<table border=\"1\" class=\"dataframe\">\n",
       "  <thead>\n",
       "    <tr style=\"text-align: right;\">\n",
       "      <th></th>\n",
       "      <th>node_id</th>\n",
       "      <th>name</th>\n",
       "      <th>country_codes</th>\n",
       "      <th>countries</th>\n",
       "      <th>sourceID</th>\n",
       "      <th>valid_until</th>\n",
       "      <th>note</th>\n",
       "    </tr>\n",
       "  </thead>\n",
       "  <tbody>\n",
       "    <tr>\n",
       "      <th>0</th>\n",
       "      <td>85004929</td>\n",
       "      <td>ANTAM ENTERPRISES N.V.</td>\n",
       "      <td>NaN</td>\n",
       "      <td>NaN</td>\n",
       "      <td>Paradise Papers - Aruba corporate registry</td>\n",
       "      <td>Aruba corporate registry data is current through 2016</td>\n",
       "      <td>Closed date stands for Cancelled date.</td>\n",
       "    </tr>\n",
       "    <tr>\n",
       "      <th>1</th>\n",
       "      <td>85008443</td>\n",
       "      <td>DEVIATION N.V.</td>\n",
       "      <td>NaN</td>\n",
       "      <td>NaN</td>\n",
       "      <td>Paradise Papers - Aruba corporate registry</td>\n",
       "      <td>Aruba corporate registry data is current through 2016</td>\n",
       "      <td>NaN</td>\n",
       "    </tr>\n",
       "    <tr>\n",
       "      <th>2</th>\n",
       "      <td>85008517</td>\n",
       "      <td>ARIAZI N.V.</td>\n",
       "      <td>NaN</td>\n",
       "      <td>NaN</td>\n",
       "      <td>Paradise Papers - Aruba corporate registry</td>\n",
       "      <td>Aruba corporate registry data is current through 2016</td>\n",
       "      <td>Closed date stands for Cancelled date.</td>\n",
       "    </tr>\n",
       "    <tr>\n",
       "      <th>3</th>\n",
       "      <td>85008542</td>\n",
       "      <td>FLAIRUBA N.V.</td>\n",
       "      <td>NaN</td>\n",
       "      <td>NaN</td>\n",
       "      <td>Paradise Papers - Aruba corporate registry</td>\n",
       "      <td>Aruba corporate registry data is current through 2016</td>\n",
       "      <td>NaN</td>\n",
       "    </tr>\n",
       "    <tr>\n",
       "      <th>4</th>\n",
       "      <td>85008583</td>\n",
       "      <td>S.L. ARUBA FISHERIES TRADING N.V.</td>\n",
       "      <td>NaN</td>\n",
       "      <td>NaN</td>\n",
       "      <td>Paradise Papers - Aruba corporate registry</td>\n",
       "      <td>Aruba corporate registry data is current through 2016</td>\n",
       "      <td>Closed date stands for Cancelled date.</td>\n",
       "    </tr>\n",
       "  </tbody>\n",
       "</table>\n",
       "</div>"
      ],
      "text/plain": [
       "    node_id                               name country_codes countries  \\\n",
       "0  85004929             ANTAM ENTERPRISES N.V.           NaN       NaN   \n",
       "1  85008443                     DEVIATION N.V.           NaN       NaN   \n",
       "2  85008517                        ARIAZI N.V.           NaN       NaN   \n",
       "3  85008542                      FLAIRUBA N.V.           NaN       NaN   \n",
       "4  85008583  S.L. ARUBA FISHERIES TRADING N.V.           NaN       NaN   \n",
       "\n",
       "                                     sourceID  \\\n",
       "0  Paradise Papers - Aruba corporate registry   \n",
       "1  Paradise Papers - Aruba corporate registry   \n",
       "2  Paradise Papers - Aruba corporate registry   \n",
       "3  Paradise Papers - Aruba corporate registry   \n",
       "4  Paradise Papers - Aruba corporate registry   \n",
       "\n",
       "                                             valid_until  \\\n",
       "0  Aruba corporate registry data is current through 2016   \n",
       "1  Aruba corporate registry data is current through 2016   \n",
       "2  Aruba corporate registry data is current through 2016   \n",
       "3  Aruba corporate registry data is current through 2016   \n",
       "4  Aruba corporate registry data is current through 2016   \n",
       "\n",
       "                                     note  \n",
       "0  Closed date stands for Cancelled date.  \n",
       "1                                     NaN  \n",
       "2  Closed date stands for Cancelled date.  \n",
       "3                                     NaN  \n",
       "4  Closed date stands for Cancelled date.  "
      ]
     },
     "execution_count": 4,
     "metadata": {},
     "output_type": "execute_result"
    }
   ],
   "source": [
    "other_raw.head()"
   ]
  },
  {
   "cell_type": "code",
   "execution_count": 21,
   "metadata": {},
   "outputs": [
    {
     "name": "stdout",
     "output_type": "stream",
     "text": [
      "<class 'pandas.core.frame.DataFrame'>\n",
      "RangeIndex: 2919 entries, 0 to 2918\n",
      "Data columns (total 7 columns):\n",
      "node_id          2919 non-null int64\n",
      "name             2919 non-null object\n",
      "country_codes    386 non-null object\n",
      "countries        386 non-null object\n",
      "sourceID         2919 non-null object\n",
      "valid_until      2919 non-null object\n",
      "note             117 non-null object\n",
      "dtypes: int64(1), object(6)\n",
      "memory usage: 159.7+ KB\n"
     ]
    }
   ],
   "source": [
    "other_raw.info()"
   ]
  },
  {
   "cell_type": "code",
   "execution_count": 22,
   "metadata": {},
   "outputs": [
    {
     "data": {
      "text/plain": [
       "0"
      ]
     },
     "execution_count": 22,
     "metadata": {},
     "output_type": "execute_result"
    }
   ],
   "source": [
    "len(set(other_raw['node_id']).intersection(set(officer_raw['node_id'])))"
   ]
  },
  {
   "cell_type": "code",
   "execution_count": 23,
   "metadata": {},
   "outputs": [
    {
     "data": {
      "text/plain": [
       "0"
      ]
     },
     "execution_count": 23,
     "metadata": {},
     "output_type": "execute_result"
    }
   ],
   "source": [
    "len(set(other_raw['node_id']).intersection(set(entity_raw['node_id'])))"
   ]
  },
  {
   "cell_type": "code",
   "execution_count": 24,
   "metadata": {},
   "outputs": [
    {
     "data": {
      "text/plain": [
       "0"
      ]
     },
     "execution_count": 24,
     "metadata": {},
     "output_type": "execute_result"
    }
   ],
   "source": [
    "len(set(other_raw['node_id']).intersection(set(intermediary_raw['node_id'])))"
   ]
  },
  {
   "cell_type": "code",
   "execution_count": 25,
   "metadata": {},
   "outputs": [
    {
     "name": "stdout",
     "output_type": "stream",
     "text": [
      "<class 'pandas.core.frame.DataFrame'>\n",
      "RangeIndex: 350008 entries, 0 to 350007\n",
      "Data columns (total 5 columns):\n",
      "node_id          350008 non-null int64\n",
      "name             350007 non-null object\n",
      "country_codes    171627 non-null object\n",
      "countries        171610 non-null object\n",
      "sourceID         350008 non-null object\n",
      "dtypes: int64(1), object(4)\n",
      "memory usage: 13.4+ MB\n",
      "None\n",
      "<class 'pandas.core.frame.DataFrame'>\n",
      "RangeIndex: 290086 entries, 0 to 290085\n",
      "Data columns (total 5 columns):\n",
      "node_id          290086 non-null int64\n",
      "name             290061 non-null object\n",
      "country_codes    169745 non-null object\n",
      "countries        169745 non-null object\n",
      "sourceID         290086 non-null object\n",
      "dtypes: int64(1), object(4)\n",
      "memory usage: 11.1+ MB\n",
      "None\n"
     ]
    }
   ],
   "source": [
    "print(officer_raw.info())\n",
    "print(entity_raw.info())"
   ]
  },
  {
   "cell_type": "code",
   "execution_count": 26,
   "metadata": {},
   "outputs": [
    {
     "data": {
      "text/plain": [
       "0"
      ]
     },
     "execution_count": 26,
     "metadata": {},
     "output_type": "execute_result"
    }
   ],
   "source": [
    "len(set(officer_raw['node_id']).intersection(set(entity_raw['node_id'])))"
   ]
  },
  {
   "cell_type": "code",
   "execution_count": 27,
   "metadata": {},
   "outputs": [
    {
     "data": {
      "text/plain": [
       "0"
      ]
     },
     "execution_count": 27,
     "metadata": {},
     "output_type": "execute_result"
    }
   ],
   "source": [
    "len(set(intermediary_raw['node_id']).intersection(set(entity_raw['node_id'])))"
   ]
  },
  {
   "cell_type": "code",
   "execution_count": 28,
   "metadata": {},
   "outputs": [
    {
     "data": {
      "text/plain": [
       "0"
      ]
     },
     "execution_count": 28,
     "metadata": {},
     "output_type": "execute_result"
    }
   ],
   "source": [
    "len(set(intermediary_raw['node_id']).intersection(set(officer_raw['node_id'])))"
   ]
  },
  {
   "cell_type": "markdown",
   "metadata": {},
   "source": [
    "## No duplicate node_ids between 'other' entities and either the officers, entities, or intermediaries. Also no duplicates between the intermediaries and the officers or entities.\n",
    "\n",
    "### However, this doesn't mean that there aren't duplicates, they may just have different node_ids. Will need to explore whether there are duplicates based on 'name'"
   ]
  },
  {
   "cell_type": "code",
   "execution_count": 29,
   "metadata": {},
   "outputs": [
    {
     "data": {
      "text/plain": [
       "Index(['node_id', 'name', 'country_codes', 'countries', 'sourceID',\n",
       "       'valid_until', 'note'],\n",
       "      dtype='object')"
      ]
     },
     "execution_count": 29,
     "metadata": {},
     "output_type": "execute_result"
    }
   ],
   "source": [
    "other_raw.columns"
   ]
  },
  {
   "cell_type": "code",
   "execution_count": null,
   "metadata": {},
   "outputs": [],
   "source": [
    "keep_cos = ['node_id', 'sourceID', 'name', 'country_codes', 'countries']\n",
    "dtypes = {'node_id':'int32', 'sourceID':'category', 'name':'object', 'country_codes':'category', 'countries':'category'}\n",
    "\n",
    "other_raw = pd.read_csv('../data/raw/paradise_papers/paradise_papers.nodes.other.csv',\n",
    "                       usecols=keep_cols,\n",
    "                       dtype=dtypes)\n"
   ]
  }
 ],
 "metadata": {
  "kernelspec": {
   "display_name": "Python 3",
   "language": "python",
   "name": "python3"
  },
  "language_info": {
   "codemirror_mode": {
    "name": "ipython",
    "version": 3
   },
   "file_extension": ".py",
   "mimetype": "text/x-python",
   "name": "python",
   "nbconvert_exporter": "python",
   "pygments_lexer": "ipython3",
   "version": "3.7.1"
  }
 },
 "nbformat": 4,
 "nbformat_minor": 2
}
