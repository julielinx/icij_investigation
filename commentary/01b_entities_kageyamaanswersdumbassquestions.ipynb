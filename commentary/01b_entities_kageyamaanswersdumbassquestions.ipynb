{
 "cells": [
  {
   "cell_type": "code",
   "execution_count": null,
   "metadata": {},
   "outputs": [],
   "source": []
  },
  {
   "cell_type": "code",
   "execution_count": null,
   "metadata": {},
   "outputs": [],
   "source": []
  },
  {
   "cell_type": "code",
   "execution_count": null,
   "metadata": {},
   "outputs": [],
   "source": []
  },
  {
   "cell_type": "code",
   "execution_count": 3,
   "metadata": {},
   "outputs": [
    {
     "name": "stdout",
     "output_type": "stream",
     "text": [
      "Bahamas Leaks\n",
      "['address', 'closed_date', 'company_type', 'countries', 'country_codes', 'ibcRUC', 'incorporation_date', 'jurisdiction', 'jurisdiction_description', 'labels(n)', 'name', 'node_id', 'note', 'service_provider', 'sourceID', 'status', 'type', 'valid_until'] \n",
      "\n",
      "Offshore Leaks\n",
      "['closed_date', 'company_type', 'countries', 'country_codes', 'ibcRUC', 'inactivation_date', 'incorporation_date', 'jurisdiction', 'jurisdiction_description', 'name', 'node_id', 'note', 'service_provider', 'sourceID', 'status', 'struck_off_date', 'valid_until'] \n",
      "\n",
      "Panama Papers\n",
      "['closed_date', 'company_type', 'countries', 'country_codes', 'ibcRUC', 'inactivation_date', 'incorporation_date', 'jurisdiction', 'jurisdiction_description', 'name', 'node_id', 'note', 'service_provider', 'sourceID', 'status', 'struck_off_date', 'valid_until'] \n",
      "\n",
      "Paradise Papers - Aruba corporate registry\n",
      "['closed_date', 'company_type', 'countries', 'country_codes', 'ibcRUC', 'inactivation_date', 'incorporation_date', 'jurisdiction', 'jurisdiction_description', 'name', 'node_id', 'note', 'service_provider', 'sourceID', 'status', 'struck_off_date', 'valid_until'] \n",
      "\n"
     ]
    }
   ],
   "source": [
    "for ds in datasets:\n",
    "    print(ds.sourceID[0])\n",
    "    print(sorted(ds.columns), '\\n')"
   ]
  },
  {
   "cell_type": "code",
   "execution_count": 7,
   "metadata": {},
   "outputs": [
    {
     "name": "stdout",
     "output_type": "stream",
     "text": [
      "Bahamas Leaks\n",
      "(175888, 14)\n",
      "175888 \n",
      "\n",
      "Offshore Leaks\n",
      "(105516, 14)\n",
      "105516 \n",
      "\n",
      "Panama Papers\n",
      "(213634, 14)\n",
      "213634 \n",
      "\n",
      "Paradise Papers - Aruba corporate registry\n",
      "(290086, 14)\n",
      "290086 \n",
      "\n"
     ]
    }
   ],
   "source": [
    "for ds in datasets:\n",
    "    print(ds.sourceID.unique()[0])\n",
    "    print(ds.shape)\n",
    "    print(ds.node_id.nunique(), '\\n')"
   ]
  }
 ],
 "metadata": {
  "kernelspec": {
   "display_name": "Python 3",
   "language": "python",
   "name": "python3"
  },
  "language_info": {
   "codemirror_mode": {
    "name": "ipython",
    "version": 3
   },
   "file_extension": ".py",
   "mimetype": "text/x-python",
   "name": "python",
   "nbconvert_exporter": "python",
   "pygments_lexer": "ipython3",
   "version": "3.7.1"
  }
 },
 "nbformat": 4,
 "nbformat_minor": 2
}
