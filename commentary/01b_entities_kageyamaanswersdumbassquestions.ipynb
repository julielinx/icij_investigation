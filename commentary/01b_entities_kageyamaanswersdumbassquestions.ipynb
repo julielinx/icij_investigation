{
 "cells": [
  {
   "cell_type": "code",
   "execution_count": 1,
   "metadata": {},
   "outputs": [],
   "source": [
    "import numpy as np\n",
    "import pandas as pd\n",
    "\n",
    "pd.options.display.max_rows = 999\n",
    "pd.options.display.max_columns = 999\n",
    "pd.options.display.max_colwidth = 150"
   ]
  },
  {
   "cell_type": "code",
   "execution_count": null,
   "metadata": {},
   "outputs": [],
   "source": []
  },
  {
   "cell_type": "markdown",
   "metadata": {},
   "source": [
    "## Load data"
   ]
  },
  {
   "cell_type": "code",
   "execution_count": 2,
   "metadata": {},
   "outputs": [],
   "source": [
    "keep_cols = ['node_id', 'sourceID', 'name', 'incorporation_date', 'country_codes', 'countries',\n",
    "             'jurisdiction_description', 'jurisdiction', 'service_provider', 'status']\n",
    "dtypes = {'node_id': 'int32', 'sourceID':'category', 'name':'object', 'country_codes':'category', 'countries':'category',\n",
    "          'jurisdiction_description':'category', 'jurisdiction':'category', 'service_provider':'category', 'status':'category'}\n",
    "\n",
    "bahamas_entity_raw = pd.read_csv('../data/raw/bahamas_leaks/bahamas_leaks.nodes.entity.csv', \n",
    "                                 usecols = keep_cols,\n",
    "                                 dtype=dtypes)\n",
    "offshore_entity_raw = pd.read_csv('../data/raw/offshore_leaks/offshore_leaks.nodes.entity.csv', \n",
    "                                 usecols = keep_cols,\n",
    "                                 dtype=dtypes)\n",
    "panama_entity_raw = pd.read_csv('../data/raw/panama_papers/panama_papers.nodes.entity.csv', \n",
    "                                 usecols = keep_cols,\n",
    "                                 dtype=dtypes)\n",
    "paradise_entity_raw = pd.read_csv('../data/raw/paradise_papers/paradise_papers.nodes.entity.csv', \n",
    "                                 usecols = keep_cols,\n",
    "                                 dtype=dtypes)"
   ]
  },
  {
   "cell_type": "markdown",
   "metadata": {},
   "source": [
    "## Standardize column order and concatenate dataframes"
   ]
  },
  {
   "cell_type": "code",
   "execution_count": 3,
   "metadata": {},
   "outputs": [],
   "source": [
    "bahamas_entity_raw = bahamas_entity_raw[keep_cols]\n",
    "offshore_entity_raw = offshore_entity_raw[keep_cols]\n",
    "panama_entity_raw = panama_entity_raw[keep_cols]\n",
    "paradise_entity_raw = paradise_entity_raw[keep_cols]\n",
    "\n",
    "entity_df = pd.concat([bahamas_entity_raw, offshore_entity_raw, panama_entity_raw, paradise_entity_raw], ignore_index=True)"
   ]
  },
  {
   "cell_type": "markdown",
   "metadata": {},
   "source": [
    "## Standardize formatting\n",
    "\n",
    "- Null entries imported as a string 'nan' instead of an actual null value.\n",
    "- Capitalization is all over the place. Standardized as title case."
   ]
  },
  {
   "cell_type": "code",
   "execution_count": 4,
   "metadata": {},
   "outputs": [],
   "source": [
    "entity_df.replace('nan', np.nan, inplace=True)\n",
    "entity_df['name'] = entity_df['name'].str.title()"
   ]
  },
  {
   "cell_type": "markdown",
   "metadata": {},
   "source": [
    "## Consolidate entries in 'status' column"
   ]
  },
  {
   "cell_type": "code",
   "execution_count": 5,
   "metadata": {},
   "outputs": [],
   "source": [
    "entity_df['status'] = entity_df['status'].str.lower()\n",
    "entity_df.loc[entity_df['status'].str.contains('liquidation', na=False), 'status'] = 'in liquidation'\n",
    "entity_df.loc[entity_df['status'].str.contains('liquidated', na=False), 'status'] = 'liquidated'\n",
    "entity_df.loc[entity_df['status'].str.contains('resigned', na=False), 'status'] = 'resigned agent'\n",
    "entity_df.loc[entity_df['status'].str.contains('sundry', na=False), 'status'] = 'sundry account'\n",
    "entity_df.loc[entity_df['status'].str.contains('dissolved', na=False), 'status'] = 'dissolved'\n",
    "entity_df.loc[entity_df['status'].str.contains('struck|defunct|deregistered', na=False), 'status'] = 'struck / defunct / deregistered'   \n",
    "entity_df['status'] = entity_df['status'].str.title()"
   ]
  },
  {
   "cell_type": "markdown",
   "metadata": {},
   "source": [
    "## Format date"
   ]
  },
  {
   "cell_type": "code",
   "execution_count": 6,
   "metadata": {},
   "outputs": [],
   "source": [
    "entity_df.loc[\n",
    "    (entity_df['incorporation_date'].str.contains('[A-Z]{3}', na=False)) & ((entity_df['incorporation_date'].str[-4:] > '2018') | (entity_df['incorporation_date'].str[-4:] < '1800')\n",
    "                                                                           ), 'incorporation_date'] = np.nan\n",
    "entity_df['formatted_date'] = pd.to_datetime(entity_df.loc[entity_df['incorporation_date'].str.contains(',', na=False), 'incorporation_date'], format='%b %d, %Y')\n",
    "entity_df['formatted_date'] = pd.to_datetime(entity_df.loc[entity_df['incorporation_date'].str.contains('[A-Z]{3}', na=False), 'incorporation_date'], format='%d-%b-%Y')\n",
    "\n",
    "entity_df.drop(columns=['incorporation_date'], inplace=True)\n",
    "entity_df.rename(columns={'formatted_date':'incorporation_date'}, inplace=True)"
   ]
  },
  {
   "cell_type": "markdown",
   "metadata": {},
   "source": [
    "## Address duplicates and worthless entries\n",
    "\n",
    "- 'counry_codes' and 'countries' are strings that are actually lists. Not standardized as to which value comes first in the list, causing duplicates when counting values.\n",
    "- 'jurisdiction' and 'jurisdiction_description' included worthless values that should be null"
   ]
  },
  {
   "cell_type": "code",
   "execution_count": 7,
   "metadata": {},
   "outputs": [],
   "source": [
    "entity_df['country_codes'] = entity_df.loc[entity_df['country_codes'].notnull(), 'country_codes'].str.split(';').apply(lambda x: sorted(x))\n",
    "entity_df['countries'] = entity_df.loc[entity_df['countries'].notnull(), 'countries'].str.split(';').apply(lambda x: sorted(x))\n",
    "entity_df['jurisdiction_description'] = entity_df['jurisdiction_description'].str.title()\n",
    "entity_df.loc[entity_df['jurisdiction_description'].str.contains('Undetermined|Recorded in leaked files as \"fund\"'), 'jurisdiction_description'] = np.nan\n",
    "entity_df['jurisdiction'] = entity_df['jurisdiction']\n",
    "entity_df.loc[entity_df['jurisdiction'] == 'XXX', 'jurisdiction'] = np.nan"
   ]
  },
  {
   "cell_type": "code",
   "execution_count": 8,
   "metadata": {},
   "outputs": [
    {
     "data": {
      "text/html": [
       "<div>\n",
       "<style scoped>\n",
       "    .dataframe tbody tr th:only-of-type {\n",
       "        vertical-align: middle;\n",
       "    }\n",
       "\n",
       "    .dataframe tbody tr th {\n",
       "        vertical-align: top;\n",
       "    }\n",
       "\n",
       "    .dataframe thead th {\n",
       "        text-align: right;\n",
       "    }\n",
       "</style>\n",
       "<table border=\"1\" class=\"dataframe\">\n",
       "  <thead>\n",
       "    <tr style=\"text-align: right;\">\n",
       "      <th></th>\n",
       "      <th>node_id</th>\n",
       "      <th>sourceID</th>\n",
       "      <th>name</th>\n",
       "      <th>country_codes</th>\n",
       "      <th>countries</th>\n",
       "      <th>jurisdiction_description</th>\n",
       "      <th>jurisdiction</th>\n",
       "      <th>service_provider</th>\n",
       "      <th>status</th>\n",
       "      <th>incorporation_date</th>\n",
       "    </tr>\n",
       "  </thead>\n",
       "  <tbody>\n",
       "    <tr>\n",
       "      <th>0</th>\n",
       "      <td>20003127</td>\n",
       "      <td>Bahamas Leaks</td>\n",
       "      <td>Dalma Corporation Limited</td>\n",
       "      <td>NaN</td>\n",
       "      <td>NaN</td>\n",
       "      <td>Bahamas</td>\n",
       "      <td>BAH</td>\n",
       "      <td>NaN</td>\n",
       "      <td>NaN</td>\n",
       "      <td>1990-11-30</td>\n",
       "    </tr>\n",
       "    <tr>\n",
       "      <th>1</th>\n",
       "      <td>20010494</td>\n",
       "      <td>Bahamas Leaks</td>\n",
       "      <td>Asia Construction Corporation Limited</td>\n",
       "      <td>NaN</td>\n",
       "      <td>NaN</td>\n",
       "      <td>Bahamas</td>\n",
       "      <td>BAH</td>\n",
       "      <td>NaN</td>\n",
       "      <td>NaN</td>\n",
       "      <td>1992-08-14</td>\n",
       "    </tr>\n",
       "    <tr>\n",
       "      <th>2</th>\n",
       "      <td>20010495</td>\n",
       "      <td>Bahamas Leaks</td>\n",
       "      <td>Euro Logistics Limited</td>\n",
       "      <td>NaN</td>\n",
       "      <td>NaN</td>\n",
       "      <td>Bahamas</td>\n",
       "      <td>BAH</td>\n",
       "      <td>NaN</td>\n",
       "      <td>NaN</td>\n",
       "      <td>1992-08-14</td>\n",
       "    </tr>\n",
       "  </tbody>\n",
       "</table>\n",
       "</div>"
      ],
      "text/plain": [
       "    node_id       sourceID                                   name  \\\n",
       "0  20003127  Bahamas Leaks              Dalma Corporation Limited   \n",
       "1  20010494  Bahamas Leaks  Asia Construction Corporation Limited   \n",
       "2  20010495  Bahamas Leaks                 Euro Logistics Limited   \n",
       "\n",
       "  country_codes countries jurisdiction_description jurisdiction  \\\n",
       "0           NaN       NaN                  Bahamas          BAH   \n",
       "1           NaN       NaN                  Bahamas          BAH   \n",
       "2           NaN       NaN                  Bahamas          BAH   \n",
       "\n",
       "  service_provider status incorporation_date  \n",
       "0              NaN    NaN         1990-11-30  \n",
       "1              NaN    NaN         1992-08-14  \n",
       "2              NaN    NaN         1992-08-14  "
      ]
     },
     "execution_count": 8,
     "metadata": {},
     "output_type": "execute_result"
    }
   ],
   "source": [
    "entity_df.head(3)"
   ]
  },
  {
   "cell_type": "code",
   "execution_count": null,
   "metadata": {},
   "outputs": [],
   "source": []
  },
  {
   "cell_type": "code",
   "execution_count": 3,
   "metadata": {},
   "outputs": [
    {
     "name": "stdout",
     "output_type": "stream",
     "text": [
      "Bahamas Leaks\n",
      "['address', 'closed_date', 'company_type', 'countries', 'country_codes', 'ibcRUC', 'incorporation_date', 'jurisdiction', 'jurisdiction_description', 'labels(n)', 'name', 'node_id', 'note', 'service_provider', 'sourceID', 'status', 'type', 'valid_until'] \n",
      "\n",
      "Offshore Leaks\n",
      "['closed_date', 'company_type', 'countries', 'country_codes', 'ibcRUC', 'inactivation_date', 'incorporation_date', 'jurisdiction', 'jurisdiction_description', 'name', 'node_id', 'note', 'service_provider', 'sourceID', 'status', 'struck_off_date', 'valid_until'] \n",
      "\n",
      "Panama Papers\n",
      "['closed_date', 'company_type', 'countries', 'country_codes', 'ibcRUC', 'inactivation_date', 'incorporation_date', 'jurisdiction', 'jurisdiction_description', 'name', 'node_id', 'note', 'service_provider', 'sourceID', 'status', 'struck_off_date', 'valid_until'] \n",
      "\n",
      "Paradise Papers - Aruba corporate registry\n",
      "['closed_date', 'company_type', 'countries', 'country_codes', 'ibcRUC', 'inactivation_date', 'incorporation_date', 'jurisdiction', 'jurisdiction_description', 'name', 'node_id', 'note', 'service_provider', 'sourceID', 'status', 'struck_off_date', 'valid_until'] \n",
      "\n"
     ]
    }
   ],
   "source": [
    "for ds in datasets:\n",
    "    print(ds.sourceID[0])\n",
    "    print(sorted(ds.columns), '\\n')"
   ]
  },
  {
   "cell_type": "code",
   "execution_count": 7,
   "metadata": {},
   "outputs": [
    {
     "name": "stdout",
     "output_type": "stream",
     "text": [
      "Bahamas Leaks\n",
      "(175888, 14)\n",
      "175888 \n",
      "\n",
      "Offshore Leaks\n",
      "(105516, 14)\n",
      "105516 \n",
      "\n",
      "Panama Papers\n",
      "(213634, 14)\n",
      "213634 \n",
      "\n",
      "Paradise Papers - Aruba corporate registry\n",
      "(290086, 14)\n",
      "290086 \n",
      "\n"
     ]
    }
   ],
   "source": [
    "for ds in datasets:\n",
    "    print(ds.sourceID.unique()[0])\n",
    "    print(ds.shape)\n",
    "    print(ds.node_id.nunique(), '\\n')"
   ]
  },
  {
   "cell_type": "code",
   "execution_count": 10,
   "metadata": {},
   "outputs": [],
   "source": [
    "def clean_country_and_code(df):\n",
    "    df['country_codes'].replace('XXX', np.nan, inplace=True)\n",
    "    df['country_codes'].str.replace(';XXX|XXX;', '')\n",
    "    df['country_codes'] = df.loc[df['country_codes'].notnull(), 'country_codes'].str.split(';').apply(lambda x: sorted(x))\n",
    "    df['countries'].replace('Not identified', np.nan, inplace=True)\n",
    "    df['countries'].str.replace(';Not identified|Not identified;', '')\n",
    "    df['countries'] = df.loc[df['countries'].notnull(), 'countries'].str.split(';').apply(lambda x: sorted(x))\n",
    "    \n",
    "clean_country_and_code(entity_df)"
   ]
  },
  {
   "cell_type": "code",
   "execution_count": null,
   "metadata": {},
   "outputs": [],
   "source": [
    "entity_df.to_csv('../data/intermediate/entities.csv')"
   ]
  }
 ],
 "metadata": {
  "kernelspec": {
   "display_name": "Python 3",
   "language": "python",
   "name": "python3"
  },
  "language_info": {
   "codemirror_mode": {
    "name": "ipython",
    "version": 3
   },
   "file_extension": ".py",
   "mimetype": "text/x-python",
   "name": "python",
   "nbconvert_exporter": "python",
   "pygments_lexer": "ipython3",
   "version": "3.7.1"
  }
 },
 "nbformat": 4,
 "nbformat_minor": 2
}
