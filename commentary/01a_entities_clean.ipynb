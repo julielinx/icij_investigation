{
 "cells": [
  {
   "cell_type": "code",
   "execution_count": 1,
   "metadata": {},
   "outputs": [],
   "source": [
    "import numpy as np\n",
    "import pandas as pd\n",
    "\n",
    "pd.options.display.max_rows = 999\n",
    "pd.options.display.max_columns = 999\n",
    "pd.options.display.max_colwidth = 150"
   ]
  },
  {
   "cell_type": "markdown",
   "metadata": {},
   "source": [
    "<font color='orangered'>**Hinata**</font>: Hey, Kageyama, what's that stuff in the first box?\n",
    "\n",
    "<font color='midnightblue'>**Kageyama**</font>: The 'box' is called a cell. Didn't you look at the [Jupyterlab Docs](https://jupyterlab.readthedocs.io/en/stable/user/notebook.html) or [Jupyter Notebook Tutorial](https://www.dataquest.io/blog/jupyter-notebook-tutorial/) Suga recommended?\n",
    "\n",
    "<font color='goldenrod'>**Tsukishima**</font>: The Tutorial is very basic. Even you should be able to follow it.\n",
    "\n",
    "<font color='orangered'>**Hinata**</font>: Hey!!\n",
    "\n",
    "<font color='midnightblue'>**Kageyama**</font>: If you can't sit still long enough for those, here's [a video](https://www.youtube.com/watch?v=K2Yb1nXTmYM) that's less than five minutes.\n",
    "\n",
    "<font color='goldenrod'>**Tsukishima**</font>: You're overestimating his intelligence and reasoning skills. Here's a [two hour video on Jupyterlab basics](https://www.youtube.com/watch?v=Gzun8PpyBCo). Maybe you'll come away from that a little smarter.\n",
    "\n",
    "<font color='gray'>**Sugawara**</font>: Don't forget, Tsukishima. Not everyone has the computer science background you do.\n",
    "\n",
    "<font color='goldenrod'>**Tsukishima**</font>: ~*Tsk*~\n",
    "\n",
    "<font color='gray'>**Sugawara**</font>: Kageyama, why don't you explain the code you put in the first cell.\n",
    "\n",
    "<font color='midnightblue'>**Kageyama**</font>: It's two libraries and some pandas display settings.\n",
    "\n",
    "<font color='orangered'>**Hinata**</font>: What're libraries?\n",
    "\n",
    "<font color='midnightblue'>**Kageyama**</font>: Learn to code, dumbass! Haven't you finished the [University of Michigan Python 3 Programming Specialization](https://www.coursera.org/specializations/python-3-programming?) I showed you??\n",
    "\n",
    "<font color='orangered'>**Hinata**</font>: It's a set of five courses and each one takes like 20 hours! It's gonna take *forever*!!!\n",
    "\n",
    "<font color='hotpink'>**Yachi**</font>: Those courses are in English. Shouldn't we give him ones in Japanese?\n",
    "\n",
    "<font color='midnightblue'>**Kageyama**</font>: If he's gonna be needy, he can find his own courses.\n",
    "\n",
    "<font color='goldenrod'>**Tsukishima**</font>: If he ever does manage to finish it, he can say he took a course from a US university. I'm sure his resume could use all the padding it can get."
   ]
  },
  {
   "cell_type": "markdown",
   "metadata": {},
   "source": [
    "<font color='orangered'>**Hinata**</font>: C'mon guys, what's a library?\n",
    "\n",
    "<font color='goldenrod'>**Tsukishima**</font>: ~*Tsk*~\n",
    "\n",
    "<font color='goldenrod'>**Tsukishima**</font>: A place with a lot of books.\n",
    "\n",
    "<font color='midnightblue'>**Kageyama**</font>: ~*Glare*~\n",
    "\n",
    "<font color='midnightblue'>**Kageyama**</font>: Libraries are fundamental to high level computer languages.\n",
    "\n",
    "<font color='hotpink'>**Yachi**</font>: A **high level computer language** is one that's easier for *people* to read and write.\n",
    "\n",
    "<font color='hotpink'>**Yachi**</font>: Computers understand things in 1s and 0s. Languages closer to what *computers* understand are called **low level computer languages** and are generally really hard for people. Examples include assembly or machine code.\n",
    "\n",
    "<font color='hotpink'>**Yachi**</font>: Because they're easier for people to work with, there are a lot more high level languages. Some of them are Python, R, Ruby, Julia, and Java.\n",
    "\n",
    "<font color='midnightblue'>**Kageyama**</font>: Right. Yeah. What she said.\n",
    "\n",
    "<font color='midnightblue'>**Kageyama**</font>: So, a library is written in a specific language and is basically a collection of code that's already written for you.\n",
    "\n",
    "<font color='green'>**Yamaguchi**</font>: Loading every library for a given language would use up a lot of your computer's memory, so you only load the ones you need. Each library has a group of related functions for specific kinds of tasks.\n",
    "\n",
    "<font color='orangered'>**Hinata**</font>: ~*Oooohhh!*~\n",
    "\n",
    "<font color='orangered'>**Hinata**</font>: What about the display settings? What's the 999 stuff about?\n",
    "\n",
    "<font color='green'>**Yamaguchi**</font>: By default pandas only shows **60 rows and 20 columns**. Kageyama got the biggest dataset, so probably he probably upped the number of rows and columns so he could see more data at once.\n",
    "\n",
    "<font color='orangered'>**Hinata**</font>: Oh. Okay!"
   ]
  },
  {
   "cell_type": "markdown",
   "metadata": {},
   "source": [
    "## Load data"
   ]
  },
  {
   "cell_type": "code",
   "execution_count": 2,
   "metadata": {},
   "outputs": [],
   "source": [
    "keep_cols = ['node_id', 'sourceID', 'name', 'incorporation_date', 'country_codes', 'countries',\n",
    "             'jurisdiction_description', 'jurisdiction', 'service_provider', 'status']\n",
    "dtypes = {'node_id': 'int32', 'sourceID':'category', 'name':'object', 'country_codes':'category', 'countries':'category',\n",
    "          'jurisdiction_description':'category', 'jurisdiction':'category', 'service_provider':'category', 'status':'category'}\n",
    "\n",
    "bahamas_entity_raw = pd.read_csv('../data/raw/bahamas_leaks/bahamas_leaks.nodes.entity.csv', \n",
    "                                 usecols = keep_cols,\n",
    "                                 dtype=dtypes)\n",
    "offshore_entity_raw = pd.read_csv('../data/raw/offshore_leaks/offshore_leaks.nodes.entity.csv', \n",
    "                                 usecols = keep_cols,\n",
    "                                 dtype=dtypes)\n",
    "panama_entity_raw = pd.read_csv('../data/raw/panama_papers/panama_papers.nodes.entity.csv', \n",
    "                                 usecols = keep_cols,\n",
    "                                 dtype=dtypes)\n",
    "paradise_entity_raw = pd.read_csv('../data/raw/paradise_papers/paradise_papers.nodes.entity.csv', \n",
    "                                 usecols = keep_cols,\n",
    "                                 dtype=dtypes)"
   ]
  },
  {
   "cell_type": "markdown",
   "metadata": {},
   "source": [
    "<font color='orangered'>**Hinata**</font>: Wait! Wait! What're 'keep_cols' and 'dtypes'? And why'd you put them in the read_csv function after the file path??\n",
    "\n",
    "<font color='goldenrod'>**Tsukishima**</font>: We're never going to get through this notebook.\n",
    "\n",
    "<font color='midnightblue'>**Kageyama**</font>: 'keep_cols' is a list variable representing the columns we want to keep from the original data. The CSVs had a bunch of empty or extraneous columns.\n",
    "\n",
    "<font color='midnightblue'>**Kageyama**</font>: 'dtypes' is a dictionary variable that specifies the data types to use for each column. I figured out which data type takes up the least amount of memory for each column.\n",
    "\n",
    "<font color='hotpink'>**Yachi**</font>: Using less memory to store data allows that memory to be used to process data. It helps keep processing speeds faster when working with the large datasets.\n",
    "\n",
    "<font color='orangered'>**Hinata**</font>: How'd you know which columns to keep and what data type to use?\n",
    "\n",
    "<font color='midnightblue'>**Kageyama**</font>: It's obvious when you look at the data.\n",
    "\n",
    "<font color='orangered'>**Hinata**</font>: Kaaageeeeyaaaamaaaa...\n",
    "\n",
    "<font color='midnightblue'>**Kageyama**</font>: Load the data and look at it yourself, scrub! You obviously need the practice.\n",
    "\n",
    "<font color='green'>**Yamaguchi**</font>: Suga-senpai asked us to show how we got our solutions and explain our reasoning so we could learn from each other.\n",
    "\n",
    "<font color='midnightblue'>**Kageyama**</font>: My way's faster.\n",
    "\n",
    "<font color='goldenrod'>**Tsukishima**</font>: You failed every class where the teacher required you to show your work, didn't you?\n",
    "\n",
    "<font color='midnightblue'>**Kageyama**</font>: Shut up! \n",
    "\n",
    "<font color='midnightblue'>**Kageyama**</font>: And stop messing up my notebook. If you guys are going to ask dumbass questions, do it somewhere else.\n",
    "\n",
    "(See 01b_entities_kageyamaanswersdumbassquestions.ipynb for an explaination on how Kageyama came up with the code below.)"
   ]
  },
  {
   "cell_type": "markdown",
   "metadata": {},
   "source": [
    "## Standardize column order and concatenate dataframes"
   ]
  },
  {
   "cell_type": "code",
   "execution_count": 3,
   "metadata": {},
   "outputs": [],
   "source": [
    "bahamas_entity_raw = bahamas_entity_raw[keep_cols]\n",
    "offshore_entity_raw = offshore_entity_raw[keep_cols]\n",
    "panama_entity_raw = panama_entity_raw[keep_cols]\n",
    "paradise_entity_raw = paradise_entity_raw[keep_cols]\n",
    "\n",
    "entity_df = pd.concat([bahamas_entity_raw, offshore_entity_raw, panama_entity_raw, paradise_entity_raw], ignore_index=True)"
   ]
  },
  {
   "cell_type": "markdown",
   "metadata": {},
   "source": [
    "## Standardize formatting\n",
    "\n",
    "- Null entries imported as a string 'nan' instead of an actual null value.\n",
    "- Capitalization is all over the place. Standardized as title case."
   ]
  },
  {
   "cell_type": "code",
   "execution_count": 4,
   "metadata": {},
   "outputs": [],
   "source": [
    "entity_df.replace('nan', np.nan, inplace=True)\n",
    "entity_df['name'] = entity_df['name'].str.title()"
   ]
  },
  {
   "cell_type": "markdown",
   "metadata": {},
   "source": [
    "## Consolidate entries in 'status' column"
   ]
  },
  {
   "cell_type": "code",
   "execution_count": 5,
   "metadata": {},
   "outputs": [],
   "source": [
    "entity_df['status'] = entity_df['status'].str.lower()\n",
    "entity_df.loc[entity_df['status'].str.contains('liquidation', na=False), 'status'] = 'in liquidation'\n",
    "entity_df.loc[entity_df['status'].str.contains('liquidated', na=False), 'status'] = 'liquidated'\n",
    "entity_df.loc[entity_df['status'].str.contains('resigned', na=False), 'status'] = 'resigned agent'\n",
    "entity_df.loc[entity_df['status'].str.contains('sundry', na=False), 'status'] = 'sundry account'\n",
    "entity_df.loc[entity_df['status'].str.contains('dissolved', na=False), 'status'] = 'dissolved'\n",
    "entity_df.loc[entity_df['status'].str.contains('struck|defunct|deregistered', na=False), 'status'] = 'struck / defunct / deregistered'   \n",
    "entity_df['status'] = entity_df['status'].str.title()"
   ]
  },
  {
   "cell_type": "markdown",
   "metadata": {},
   "source": [
    "## Format date"
   ]
  },
  {
   "cell_type": "code",
   "execution_count": 6,
   "metadata": {},
   "outputs": [],
   "source": [
    "entity_df.loc[\n",
    "    (entity_df['incorporation_date'].str.contains('[A-Z]{3}', na=False)) & ((entity_df['incorporation_date'].str[-4:] > '2018') | (entity_df['incorporation_date'].str[-4:] < '1800')\n",
    "                                                                           ), 'incorporation_date'] = np.nan\n",
    "entity_df['formatted_date'] = pd.to_datetime(entity_df.loc[entity_df['incorporation_date'].str.contains(',', na=False), 'incorporation_date'], format='%b %d, %Y')\n",
    "entity_df['formatted_date'] = pd.to_datetime(entity_df.loc[entity_df['incorporation_date'].str.contains('[A-Z]{3}', na=False), 'incorporation_date'], format='%d-%b-%Y')\n",
    "\n",
    "entity_df.drop(columns=['incorporation_date'], inplace=True)\n",
    "entity_df.rename(columns={'formatted_date':'incorporation_date'}, inplace=True)"
   ]
  },
  {
   "cell_type": "markdown",
   "metadata": {},
   "source": [
    "## Address duplicates and worthless entries\n",
    "\n",
    "- 'counry_codes' and 'countries' are strings that are actually lists. Not standardized as to which value comes first in the list, causing duplicates when counting values.\n",
    "- 'jurisdiction' and 'jurisdiction_description' included worthless values that should be null"
   ]
  },
  {
   "cell_type": "code",
   "execution_count": 7,
   "metadata": {},
   "outputs": [],
   "source": [
    "entity_df['country_codes'] = entity_df.loc[entity_df['country_codes'].notnull(), 'country_codes'].str.split(';').apply(lambda x: sorted(x))\n",
    "entity_df['countries'] = entity_df.loc[entity_df['countries'].notnull(), 'countries'].str.split(';').apply(lambda x: sorted(x))\n",
    "entity_df['jurisdiction_description'] = entity_df['jurisdiction_description'].str.title()\n",
    "entity_df.loc[entity_df['jurisdiction_description'].str.contains('Undetermined|Recorded in leaked files as \"fund\"'), 'jurisdiction_description'] = np.nan\n",
    "entity_df['jurisdiction'] = entity_df['jurisdiction']\n",
    "entity_df.loc[entity_df['jurisdiction'] == 'XXX', 'jurisdiction'] = np.nan"
   ]
  },
  {
   "cell_type": "code",
   "execution_count": 8,
   "metadata": {},
   "outputs": [
    {
     "data": {
      "text/html": [
       "<div>\n",
       "<style scoped>\n",
       "    .dataframe tbody tr th:only-of-type {\n",
       "        vertical-align: middle;\n",
       "    }\n",
       "\n",
       "    .dataframe tbody tr th {\n",
       "        vertical-align: top;\n",
       "    }\n",
       "\n",
       "    .dataframe thead th {\n",
       "        text-align: right;\n",
       "    }\n",
       "</style>\n",
       "<table border=\"1\" class=\"dataframe\">\n",
       "  <thead>\n",
       "    <tr style=\"text-align: right;\">\n",
       "      <th></th>\n",
       "      <th>node_id</th>\n",
       "      <th>sourceID</th>\n",
       "      <th>name</th>\n",
       "      <th>country_codes</th>\n",
       "      <th>countries</th>\n",
       "      <th>jurisdiction_description</th>\n",
       "      <th>jurisdiction</th>\n",
       "      <th>service_provider</th>\n",
       "      <th>status</th>\n",
       "      <th>incorporation_date</th>\n",
       "    </tr>\n",
       "  </thead>\n",
       "  <tbody>\n",
       "    <tr>\n",
       "      <th>0</th>\n",
       "      <td>20003127</td>\n",
       "      <td>Bahamas Leaks</td>\n",
       "      <td>Dalma Corporation Limited</td>\n",
       "      <td>NaN</td>\n",
       "      <td>NaN</td>\n",
       "      <td>Bahamas</td>\n",
       "      <td>BAH</td>\n",
       "      <td>NaN</td>\n",
       "      <td>NaN</td>\n",
       "      <td>1990-11-30</td>\n",
       "    </tr>\n",
       "    <tr>\n",
       "      <th>1</th>\n",
       "      <td>20010494</td>\n",
       "      <td>Bahamas Leaks</td>\n",
       "      <td>Asia Construction Corporation Limited</td>\n",
       "      <td>NaN</td>\n",
       "      <td>NaN</td>\n",
       "      <td>Bahamas</td>\n",
       "      <td>BAH</td>\n",
       "      <td>NaN</td>\n",
       "      <td>NaN</td>\n",
       "      <td>1992-08-14</td>\n",
       "    </tr>\n",
       "    <tr>\n",
       "      <th>2</th>\n",
       "      <td>20010495</td>\n",
       "      <td>Bahamas Leaks</td>\n",
       "      <td>Euro Logistics Limited</td>\n",
       "      <td>NaN</td>\n",
       "      <td>NaN</td>\n",
       "      <td>Bahamas</td>\n",
       "      <td>BAH</td>\n",
       "      <td>NaN</td>\n",
       "      <td>NaN</td>\n",
       "      <td>1992-08-14</td>\n",
       "    </tr>\n",
       "  </tbody>\n",
       "</table>\n",
       "</div>"
      ],
      "text/plain": [
       "    node_id       sourceID                                   name  \\\n",
       "0  20003127  Bahamas Leaks              Dalma Corporation Limited   \n",
       "1  20010494  Bahamas Leaks  Asia Construction Corporation Limited   \n",
       "2  20010495  Bahamas Leaks                 Euro Logistics Limited   \n",
       "\n",
       "  country_codes countries jurisdiction_description jurisdiction  \\\n",
       "0           NaN       NaN                  Bahamas          BAH   \n",
       "1           NaN       NaN                  Bahamas          BAH   \n",
       "2           NaN       NaN                  Bahamas          BAH   \n",
       "\n",
       "  service_provider status incorporation_date  \n",
       "0              NaN    NaN         1990-11-30  \n",
       "1              NaN    NaN         1992-08-14  \n",
       "2              NaN    NaN         1992-08-14  "
      ]
     },
     "execution_count": 8,
     "metadata": {},
     "output_type": "execute_result"
    }
   ],
   "source": [
    "entity_df.head(3)"
   ]
  },
  {
   "cell_type": "markdown",
   "metadata": {},
   "source": [
    "<font color='midnightblue'>**Kageyama**</font>: At the team's insistance, we're also removing 'Not identified' and 'XXX' from the 'countries' and 'country_code' columns.\n",
    "\n",
    "<font color='goldenrod'>**Tsukishima**</font>: And made you put in this disclaimer so you wouldn't 'accidentally' take credit for it, Your Majesty.\n",
    "\n",
    "<font color='midnightblue'>**Kageyama**</font>: Don't call me that!!\n",
    "\n",
    "<font color='goldenrod'>**Tsukishima**</font>: Yes, Your Highness. Anything you say, Sire.\n",
    "\n",
    "<font color='midnightblue'>**Kageyama**</font>: !!!!"
   ]
  },
  {
   "cell_type": "code",
   "execution_count": 10,
   "metadata": {},
   "outputs": [],
   "source": [
    "def clean_country_and_code(df):\n",
    "    df['country_codes'].replace('XXX', np.nan, inplace=True)\n",
    "    df['country_codes'].str.replace(';XXX|XXX;', '')\n",
    "    df['country_codes'] = df.loc[df['country_codes'].notnull(), 'country_codes'].str.split(';').apply(lambda x: sorted(x))\n",
    "    df['countries'].replace('Not identified', np.nan, inplace=True)\n",
    "    df['countries'].str.replace(';Not identified|Not identified;', '')\n",
    "    df['countries'] = df.loc[df['countries'].notnull(), 'countries'].str.split(';').apply(lambda x: sorted(x))\n",
    "    \n",
    "clean_country_and_code(entity_df)"
   ]
  },
  {
   "cell_type": "code",
   "execution_count": null,
   "metadata": {},
   "outputs": [],
   "source": [
    "entity_df.to_csv('../data/intermediate/entities.csv')"
   ]
  }
 ],
 "metadata": {
  "kernelspec": {
   "display_name": "Python 3",
   "language": "python",
   "name": "python3"
  },
  "language_info": {
   "codemirror_mode": {
    "name": "ipython",
    "version": 3
   },
   "file_extension": ".py",
   "mimetype": "text/x-python",
   "name": "python",
   "nbconvert_exporter": "python",
   "pygments_lexer": "ipython3",
   "version": "3.7.1"
  }
 },
 "nbformat": 4,
 "nbformat_minor": 2
}
