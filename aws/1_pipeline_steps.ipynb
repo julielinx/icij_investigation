{
 "cells": [
  {
   "cell_type": "markdown",
   "id": "1358e9ae-f745-46a0-9d71-38366290f77d",
   "metadata": {},
   "source": [
    "# Pipeline steps\n",
    "\n",
    "1. Data in S3\n",
    "    - Pull data from zip\n",
    "    - Unzip\n",
    "    - Convert to parquet\n",
    "2. Process files (PySspark? SM Processing job?) into standardized inputs (standardize addresses)\n",
    "3. Combine data into a \"clean\" file\n",
    "4. Feature Engineering (Neo4j for velocities and graph features?)\n",
    "5. Final dataset to S3 (ground truth?)\n",
    "6. Split into train, test, validate (account for unbalanced data - sampling stratification)\n",
    "7. Train models (train multiple algorithms - SM Experiments?)\n",
    "8. Cross validation\n",
    "9. Predict on test data\n",
    "10. Tune hyperparameters?\n",
    "11. Compare models across algorithms\n",
    "12. Chose model for deployment\n",
    "13. Deploy endpoint\n",
    "14. Predict on validation data"
   ]
  }
 ],
 "metadata": {
  "kernelspec": {
   "display_name": "Python 3",
   "language": "python",
   "name": "python3"
  },
  "language_info": {
   "codemirror_mode": {
    "name": "ipython",
    "version": 3
   },
   "file_extension": ".py",
   "mimetype": "text/x-python",
   "name": "python",
   "nbconvert_exporter": "python",
   "pygments_lexer": "ipython3",
   "version": "3.8.8"
  }
 },
 "nbformat": 4,
 "nbformat_minor": 5
}
