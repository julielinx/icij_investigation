{
 "cells": [
  {
   "cell_type": "code",
   "execution_count": 1,
   "id": "afc08fbe-21d5-47f8-ab72-477f47ac178f",
   "metadata": {},
   "outputs": [
    {
     "name": "stderr",
     "output_type": "stream",
     "text": [
      "  % Total    % Received % Xferd  Average Speed   Time    Time     Time  Current\n",
      "                                 Dload  Upload   Total   Spent    Left  Speed\n",
      "\n",
      "  0     0    0     0    0     0      0      0 --:--:-- --:--:-- --:--:--     0\n",
      " 15 68.1M   15 10.4M    0     0  11.0M      0  0:00:06 --:--:--  0:00:06 11.0M\n",
      " 33 68.1M   33 22.5M    0     0  11.5M      0  0:00:05  0:00:01  0:00:04 11.5M\n",
      " 48 68.1M   48 33.2M    0     0  11.2M      0  0:00:06  0:00:02  0:00:04 11.2M\n",
      " 61 68.1M   61 41.8M    0     0  10.6M      0  0:00:06  0:00:03  0:00:03 10.6M\n",
      " 77 68.1M   77 52.4M    0     0  10.6M      0  0:00:06  0:00:04  0:00:02 10.6M\n",
      " 87 68.1M   87 59.3M    0     0   9.9M      0  0:00:06  0:00:05  0:00:01 9973k\n",
      "100 68.1M  100 68.1M    0     0   9.8M      0  0:00:06  0:00:06 --:--:-- 9423k\n"
     ]
    }
   ],
   "source": [
    "! curl \"https://offshoreleaks-data.icij.org/offshoreleaks/csv/full-oldb.20220708.zip#_ga=2.254245000.1056231289.1661906381-1924055247.1661906381\" --output data/full-oldb.20220708.zip\n",
    "# ! wget \"https://offshoreleaks-data.icij.org/offshoreleaks/csv/full-oldb.20220708.zip#_ga=2.254245000.1056231289.1661906381-1924055247.1661906381\" -P \"data/\""
   ]
  },
  {
   "cell_type": "code",
   "execution_count": 2,
   "id": "bcc95511-5bae-4928-83c3-fa8053a6a4d0",
   "metadata": {},
   "outputs": [],
   "source": [
    "import zipfile\n",
    "\n",
    "with zipfile.ZipFile(\"data/full-oldb.20220708.zip\", 'r') as zip_ref:\n",
    "    zip_ref.extractall(\"data/offshore_leaks\")"
   ]
  },
  {
   "cell_type": "code",
   "execution_count": null,
   "id": "35a7e29a-a05b-48e3-a8ca-d2acec432ee4",
   "metadata": {},
   "outputs": [],
   "source": []
  }
 ],
 "metadata": {
  "kernelspec": {
   "display_name": "Python 3",
   "language": "python",
   "name": "python3"
  },
  "language_info": {
   "codemirror_mode": {
    "name": "ipython",
    "version": 3
   },
   "file_extension": ".py",
   "mimetype": "text/x-python",
   "name": "python",
   "nbconvert_exporter": "python",
   "pygments_lexer": "ipython3",
   "version": "3.8.8"
  }
 },
 "nbformat": 4,
 "nbformat_minor": 5
}
